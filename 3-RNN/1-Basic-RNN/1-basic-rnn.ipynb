{
 "cells": [
  {
   "cell_type": "markdown",
   "metadata": {},
   "source": [
    "# Basic RNN\n",
    "- Objective: to understand basics of RNN & LSTM"
   ]
  },
  {
   "cell_type": "markdown",
   "metadata": {},
   "source": [
    "## Recurrent Neural Networks\n",
    "- Feedforward neural networks (e.g. MLPs and CNNs) are powerful, but they are not optimized to handle \"sequential\" data\n",
    "- In other words, they do not possess \"memory\" of previous inputs\n",
    "- For instance, consider the case of translating a corpus. You need to consider the **\"context\"** to guess the next word to come forward\n",
    "\n",
    "<img src=\"http://2.bp.blogspot.com/-9GIdV292xV4/UwOIy6B6koI/AAAAAAAAHi4/X6UGlyHI-_U/s1600/tumblr_ms5qzpFY671r9nm7io1_500.gif\" style=\"width: 500px\"/>\n",
    "\n",
    "<br>\n",
    "- RNNs are suitable for dealing with sequential format data since they have **\"recurrent\"** structure\n",
    "- To put it differently, they keep the **\"memory\"** of earlier inputs in the sequence\n",
    "</br>\n",
    "<img src=\"http://www.wildml.com/wp-content/uploads/2015/09/rnn.jpg\" style=\"width: 600px\"/>\n",
    "\n",
    "<br>\n",
    "- However, in order to reduce the number of parameters, every layer of different time steps shares same parameters\n",
    "</br>\n",
    "\n",
    "<img src=\"http://colah.github.io/posts/2015-08-Understanding-LSTMs/img/RNN-unrolled.png\" style=\"width: 600px\"/>"
   ]
  },
  {
   "cell_type": "markdown",
   "metadata": {},
   "source": [
    "## Load Dataset"
   ]
  },
  {
   "cell_type": "code",
   "execution_count": 44,
   "metadata": {},
   "outputs": [],
   "source": [
    "import numpy as np\n",
    "import matplotlib.pyplot as plt\n",
    "\n",
    "import tensorflow as tf\n",
    "from tensorflow.keras.datasets import reuters\n",
    "from tensorflow.keras.preprocessing.sequence import pad_sequences\n",
    "from tensorflow.keras.utils import to_categorical"
   ]
  },
  {
   "cell_type": "code",
   "execution_count": 45,
   "metadata": {},
   "outputs": [],
   "source": [
    "# parameters for data load\n",
    "num_words = 30000\n",
    "maxlen = 50\n",
    "test_split = 0.3"
   ]
  },
  {
   "cell_type": "code",
   "execution_count": 46,
   "metadata": {},
   "outputs": [],
   "source": [
    "(X_train, y_train), (X_test, y_test) = reuters.load_data(num_words = num_words, maxlen = maxlen, test_split = test_split)"
   ]
  },
  {
   "cell_type": "code",
   "execution_count": 47,
   "metadata": {},
   "outputs": [],
   "source": [
    "# pad the sequences with zeros \n",
    "# padding parameter is set to 'post' => 0's are appended to end of sequences\n",
    "X_train = pad_sequences(X_train, padding = 'post')\n",
    "X_test = pad_sequences(X_test, padding = 'post')"
   ]
  },
  {
   "cell_type": "code",
   "execution_count": 48,
   "metadata": {},
   "outputs": [
    {
     "data": {
      "text/plain": [
       "array([   1,  245,  273,  207,  156,   53,   74,  160,   26,   14,   46,\n",
       "        296,   26,   39,   74, 2979, 3554,   14,   46, 4689, 4329,   86,\n",
       "         61, 3499, 4795,   14,   61,  451, 4329,   17,   12,    0,    0,\n",
       "          0,    0,    0,    0,    0,    0,    0,    0,    0,    0,    0,\n",
       "          0,    0,    0,    0,    0], dtype=int32)"
      ]
     },
     "execution_count": 48,
     "metadata": {},
     "output_type": "execute_result"
    }
   ],
   "source": [
    "X_train[0]"
   ]
  },
  {
   "cell_type": "code",
   "execution_count": 49,
   "metadata": {},
   "outputs": [],
   "source": [
    "X_train = X_train.reshape((X_train.shape[0], X_train.shape[1], 1))\n",
    "X_test = X_test.reshape((X_test.shape[0], X_test.shape[1], 1))"
   ]
  },
  {
   "cell_type": "code",
   "execution_count": 50,
   "metadata": {},
   "outputs": [
    {
     "data": {
      "text/plain": [
       "array([[   1],\n",
       "       [ 245],\n",
       "       [ 273],\n",
       "       [ 207],\n",
       "       [ 156],\n",
       "       [  53],\n",
       "       [  74],\n",
       "       [ 160],\n",
       "       [  26],\n",
       "       [  14],\n",
       "       [  46],\n",
       "       [ 296],\n",
       "       [  26],\n",
       "       [  39],\n",
       "       [  74],\n",
       "       [2979],\n",
       "       [3554],\n",
       "       [  14],\n",
       "       [  46],\n",
       "       [4689],\n",
       "       [4329],\n",
       "       [  86],\n",
       "       [  61],\n",
       "       [3499],\n",
       "       [4795],\n",
       "       [  14],\n",
       "       [  61],\n",
       "       [ 451],\n",
       "       [4329],\n",
       "       [  17],\n",
       "       [  12],\n",
       "       [   0],\n",
       "       [   0],\n",
       "       [   0],\n",
       "       [   0],\n",
       "       [   0],\n",
       "       [   0],\n",
       "       [   0],\n",
       "       [   0],\n",
       "       [   0],\n",
       "       [   0],\n",
       "       [   0],\n",
       "       [   0],\n",
       "       [   0],\n",
       "       [   0],\n",
       "       [   0],\n",
       "       [   0],\n",
       "       [   0],\n",
       "       [   0]], dtype=int32)"
      ]
     },
     "execution_count": 50,
     "metadata": {},
     "output_type": "execute_result"
    }
   ],
   "source": [
    "X_train[0]"
   ]
  },
  {
   "cell_type": "code",
   "execution_count": 51,
   "metadata": {},
   "outputs": [
    {
     "name": "stdout",
     "output_type": "stream",
     "text": [
      "(1395, 49, 1)\n",
      "(599, 49, 1)\n",
      "(1395,)\n",
      "(599,)\n"
     ]
    }
   ],
   "source": [
    "print(X_train.shape)\n",
    "print(X_test.shape)\n",
    "print(y_train.shape)\n",
    "print(y_test.shape)"
   ]
  },
  {
   "cell_type": "code",
   "execution_count": 52,
   "metadata": {},
   "outputs": [],
   "source": [
    "y_data = np.concatenate((y_train, y_test))\n",
    "y_data = to_categorical(y_data)"
   ]
  },
  {
   "cell_type": "code",
   "execution_count": 53,
   "metadata": {},
   "outputs": [],
   "source": [
    "y_train = y_data[:1395]\n",
    "y_test = y_data[1395:]"
   ]
  },
  {
   "cell_type": "code",
   "execution_count": 54,
   "metadata": {},
   "outputs": [
    {
     "data": {
      "text/plain": [
       "array([0., 0., 0., 1., 0., 0., 0., 0., 0., 0., 0., 0., 0., 0., 0., 0., 0.,\n",
       "       0., 0., 0., 0., 0., 0., 0., 0., 0., 0., 0., 0., 0., 0., 0., 0., 0.,\n",
       "       0., 0., 0., 0., 0., 0., 0., 0., 0., 0., 0., 0.], dtype=float32)"
      ]
     },
     "execution_count": 54,
     "metadata": {},
     "output_type": "execute_result"
    }
   ],
   "source": [
    "y_train[0]"
   ]
  },
  {
   "cell_type": "code",
   "execution_count": 55,
   "metadata": {},
   "outputs": [
    {
     "name": "stdout",
     "output_type": "stream",
     "text": [
      "(1395, 49, 1)\n",
      "(599, 49, 1)\n",
      "(1395, 46)\n",
      "(599, 46)\n"
     ]
    }
   ],
   "source": [
    "print(X_train.shape)\n",
    "print(X_test.shape)\n",
    "print(y_train.shape)\n",
    "print(y_test.shape)"
   ]
  },
  {
   "cell_type": "markdown",
   "metadata": {},
   "source": [
    "## 1. Vanilla RNN\n",
    "- Vanilla RNNs have a simple structure\n",
    "- However, they suffer from the problem of \"long-term dependencies\"\n",
    "- Hence, they are not able to keep the **sequential memory\" for long\n",
    "\n",
    "<img src=\"http://colah.github.io/posts/2015-08-Understanding-LSTMs/img/LSTM3-SimpleRNN.png\" style=\"width: 600px\"/>"
   ]
  },
  {
   "cell_type": "code",
   "execution_count": 56,
   "metadata": {},
   "outputs": [],
   "source": [
    "from tensorflow.keras.models import Sequential\n",
    "from tensorflow.keras.layers import Dense, SimpleRNN, Activation\n",
    "from tensorflow.keras import optimizers"
   ]
  },
  {
   "cell_type": "code",
   "execution_count": 31,
   "metadata": {},
   "outputs": [],
   "source": [
    "def vanilla_rnn():\n",
    "    model = Sequential()\n",
    "    model.add(SimpleRNN(50, input_shape = (49,1), return_sequences = False))\n",
    "    model.add(Dense(46))\n",
    "    model.add(Activation('softmax'))\n",
    "    \n",
    "    adam = optimizers.Adam(lr = 0.001)\n",
    "    model.compile(loss = 'categorical_crossentropy', optimizer = adam, metrics = ['accuracy'])\n",
    "    \n",
    "    return model"
   ]
  },
  {
   "cell_type": "code",
   "execution_count": 32,
   "metadata": {},
   "outputs": [
    {
     "name": "stdout",
     "output_type": "stream",
     "text": [
      "Model: \"sequential_1\"\n",
      "_________________________________________________________________\n",
      "Layer (type)                 Output Shape              Param #   \n",
      "=================================================================\n",
      "simple_rnn_1 (SimpleRNN)     (None, 50)                2600      \n",
      "_________________________________________________________________\n",
      "dense_1 (Dense)              (None, 46)                2346      \n",
      "_________________________________________________________________\n",
      "activation_1 (Activation)    (None, 46)                0         \n",
      "=================================================================\n",
      "Total params: 4,946\n",
      "Trainable params: 4,946\n",
      "Non-trainable params: 0\n",
      "_________________________________________________________________\n"
     ]
    }
   ],
   "source": [
    "model = vanilla_rnn()\n",
    "\n",
    "model.summary()"
   ]
  },
  {
   "cell_type": "code",
   "execution_count": 33,
   "metadata": {},
   "outputs": [
    {
     "name": "stdout",
     "output_type": "stream",
     "text": [
      "Train on 1116 samples, validate on 279 samples\n",
      "Epoch 1/200\n",
      "1116/1116 [==============================] - 2s 1ms/sample - loss: 3.0885 - accuracy: 0.4104 - val_loss: 1.7854 - val_accuracy: 0.7240\n",
      "Epoch 2/200\n",
      "1116/1116 [==============================] - 1s 502us/sample - loss: 1.3988 - accuracy: 0.7124 - val_loss: 1.1635 - val_accuracy: 0.7240\n",
      "Epoch 3/200\n",
      "1116/1116 [==============================] - 1s 507us/sample - loss: 1.2143 - accuracy: 0.7124 - val_loss: 1.1264 - val_accuracy: 0.7240\n",
      "Epoch 4/200\n",
      "1116/1116 [==============================] - 1s 487us/sample - loss: 1.1877 - accuracy: 0.7124 - val_loss: 1.1153 - val_accuracy: 0.7240\n",
      "Epoch 5/200\n",
      "1116/1116 [==============================] - 1s 518us/sample - loss: 1.1776 - accuracy: 0.7124 - val_loss: 1.1061 - val_accuracy: 0.7240\n",
      "Epoch 6/200\n",
      "1116/1116 [==============================] - 1s 495us/sample - loss: 1.1713 - accuracy: 0.7124 - val_loss: 1.1073 - val_accuracy: 0.7240\n",
      "Epoch 7/200\n",
      "1116/1116 [==============================] - 1s 520us/sample - loss: 1.1682 - accuracy: 0.7124 - val_loss: 1.1032 - val_accuracy: 0.7240\n",
      "Epoch 8/200\n",
      "1116/1116 [==============================] - 1s 505us/sample - loss: 1.1676 - accuracy: 0.7124 - val_loss: 1.1026 - val_accuracy: 0.7240\n",
      "Epoch 9/200\n",
      "1116/1116 [==============================] - 1s 512us/sample - loss: 1.1630 - accuracy: 0.7124 - val_loss: 1.1002 - val_accuracy: 0.7240\n",
      "Epoch 10/200\n",
      "1116/1116 [==============================] - 1s 496us/sample - loss: 1.1611 - accuracy: 0.7124 - val_loss: 1.1002 - val_accuracy: 0.7240\n",
      "Epoch 11/200\n",
      "1116/1116 [==============================] - 1s 471us/sample - loss: 1.1615 - accuracy: 0.7124 - val_loss: 1.1000 - val_accuracy: 0.7240\n",
      "Epoch 12/200\n",
      "1116/1116 [==============================] - 1s 504us/sample - loss: 1.1586 - accuracy: 0.7124 - val_loss: 1.1020 - val_accuracy: 0.7240\n",
      "Epoch 13/200\n",
      "1116/1116 [==============================] - 1s 471us/sample - loss: 1.1592 - accuracy: 0.7124 - val_loss: 1.1106 - val_accuracy: 0.7240\n",
      "Epoch 14/200\n",
      "1116/1116 [==============================] - 1s 491us/sample - loss: 1.1627 - accuracy: 0.7133 - val_loss: 1.1042 - val_accuracy: 0.7240\n",
      "Epoch 15/200\n",
      "1116/1116 [==============================] - 1s 474us/sample - loss: 1.1558 - accuracy: 0.7124 - val_loss: 1.1052 - val_accuracy: 0.7240\n",
      "Epoch 16/200\n",
      "1116/1116 [==============================] - 1s 497us/sample - loss: 1.1514 - accuracy: 0.7124 - val_loss: 1.1017 - val_accuracy: 0.7240\n",
      "Epoch 17/200\n",
      "1116/1116 [==============================] - 1s 493us/sample - loss: 1.1545 - accuracy: 0.7124 - val_loss: 1.1014 - val_accuracy: 0.7240\n",
      "Epoch 18/200\n",
      "1116/1116 [==============================] - 1s 488us/sample - loss: 1.1501 - accuracy: 0.7124 - val_loss: 1.1013 - val_accuracy: 0.7240\n",
      "Epoch 19/200\n",
      "1116/1116 [==============================] - 1s 501us/sample - loss: 1.1461 - accuracy: 0.7124 - val_loss: 1.1002 - val_accuracy: 0.7240\n",
      "Epoch 20/200\n",
      "1116/1116 [==============================] - 1s 512us/sample - loss: 1.1452 - accuracy: 0.7115 - val_loss: 1.0998 - val_accuracy: 0.7240\n",
      "Epoch 21/200\n",
      "1116/1116 [==============================] - 1s 538us/sample - loss: 1.1398 - accuracy: 0.7124 - val_loss: 1.1043 - val_accuracy: 0.7240\n",
      "Epoch 22/200\n",
      "1116/1116 [==============================] - 1s 524us/sample - loss: 1.1317 - accuracy: 0.7124 - val_loss: 1.0869 - val_accuracy: 0.7240\n",
      "Epoch 23/200\n",
      "1116/1116 [==============================] - 1s 535us/sample - loss: 1.1313 - accuracy: 0.7124 - val_loss: 1.1001 - val_accuracy: 0.7204\n",
      "Epoch 24/200\n",
      "1116/1116 [==============================] - 1s 534us/sample - loss: 1.1236 - accuracy: 0.7133 - val_loss: 1.0823 - val_accuracy: 0.7240\n",
      "Epoch 25/200\n",
      "1116/1116 [==============================] - 1s 529us/sample - loss: 1.1038 - accuracy: 0.7124 - val_loss: 1.0697 - val_accuracy: 0.7240\n",
      "Epoch 26/200\n",
      "1116/1116 [==============================] - 1s 499us/sample - loss: 1.1041 - accuracy: 0.7133 - val_loss: 1.0976 - val_accuracy: 0.7204\n",
      "Epoch 27/200\n",
      "1116/1116 [==============================] - 1s 520us/sample - loss: 1.0992 - accuracy: 0.7151 - val_loss: 1.0594 - val_accuracy: 0.7240\n",
      "Epoch 28/200\n",
      "1116/1116 [==============================] - 1s 507us/sample - loss: 1.0883 - accuracy: 0.7142 - val_loss: 1.0591 - val_accuracy: 0.7204\n",
      "Epoch 29/200\n",
      "1116/1116 [==============================] - 1s 494us/sample - loss: 1.0759 - accuracy: 0.7142 - val_loss: 1.0563 - val_accuracy: 0.7276\n",
      "Epoch 30/200\n",
      "1116/1116 [==============================] - 1s 468us/sample - loss: 1.0668 - accuracy: 0.7133 - val_loss: 1.0482 - val_accuracy: 0.7348\n",
      "Epoch 31/200\n",
      "1116/1116 [==============================] - 1s 475us/sample - loss: 1.0622 - accuracy: 0.7151 - val_loss: 1.0267 - val_accuracy: 0.7276\n",
      "Epoch 32/200\n",
      "1116/1116 [==============================] - 1s 504us/sample - loss: 1.0764 - accuracy: 0.7151 - val_loss: 1.0879 - val_accuracy: 0.7204\n",
      "Epoch 33/200\n",
      "1116/1116 [==============================] - 1s 498us/sample - loss: 1.0767 - accuracy: 0.7151 - val_loss: 1.0507 - val_accuracy: 0.7240\n",
      "Epoch 34/200\n",
      "1116/1116 [==============================] - 1s 489us/sample - loss: 1.0579 - accuracy: 0.7124 - val_loss: 1.0299 - val_accuracy: 0.7240\n",
      "Epoch 35/200\n",
      "1116/1116 [==============================] - 1s 484us/sample - loss: 1.0368 - accuracy: 0.7133 - val_loss: 1.0616 - val_accuracy: 0.7133\n",
      "Epoch 36/200\n",
      "1116/1116 [==============================] - 1s 490us/sample - loss: 1.0510 - accuracy: 0.7133 - val_loss: 1.0237 - val_accuracy: 0.7240\n",
      "Epoch 37/200\n",
      "1116/1116 [==============================] - 1s 478us/sample - loss: 1.0459 - accuracy: 0.7079 - val_loss: 1.0320 - val_accuracy: 0.7168\n",
      "Epoch 38/200\n",
      "1116/1116 [==============================] - 1s 491us/sample - loss: 1.0265 - accuracy: 0.7124 - val_loss: 1.0459 - val_accuracy: 0.7133\n",
      "Epoch 39/200\n",
      "1116/1116 [==============================] - 1s 482us/sample - loss: 1.0385 - accuracy: 0.7133 - val_loss: 1.0227 - val_accuracy: 0.7240\n",
      "Epoch 40/200\n",
      "1116/1116 [==============================] - 1s 475us/sample - loss: 1.0147 - accuracy: 0.7133 - val_loss: 1.0514 - val_accuracy: 0.7204\n",
      "Epoch 41/200\n",
      "1116/1116 [==============================] - 1s 485us/sample - loss: 1.0374 - accuracy: 0.7151 - val_loss: 1.0431 - val_accuracy: 0.7168\n",
      "Epoch 42/200\n",
      "1116/1116 [==============================] - 1s 484us/sample - loss: 1.0038 - accuracy: 0.7186 - val_loss: 1.0423 - val_accuracy: 0.7168\n",
      "Epoch 43/200\n",
      "1116/1116 [==============================] - 1s 489us/sample - loss: 1.0060 - accuracy: 0.7213 - val_loss: 1.0198 - val_accuracy: 0.7204\n",
      "Epoch 44/200\n",
      "1116/1116 [==============================] - 1s 462us/sample - loss: 0.9960 - accuracy: 0.7231 - val_loss: 1.0369 - val_accuracy: 0.7240\n",
      "Epoch 45/200\n",
      "1116/1116 [==============================] - 1s 474us/sample - loss: 0.9896 - accuracy: 0.7151 - val_loss: 1.0373 - val_accuracy: 0.7240\n",
      "Epoch 46/200\n",
      "1116/1116 [==============================] - 1s 477us/sample - loss: 1.0308 - accuracy: 0.7079 - val_loss: 1.0920 - val_accuracy: 0.6989\n",
      "Epoch 47/200\n",
      "1116/1116 [==============================] - 1s 468us/sample - loss: 1.0297 - accuracy: 0.7115 - val_loss: 1.0289 - val_accuracy: 0.7097\n",
      "Epoch 48/200\n",
      "1116/1116 [==============================] - 1s 476us/sample - loss: 0.9903 - accuracy: 0.7204 - val_loss: 1.0257 - val_accuracy: 0.7168\n",
      "Epoch 49/200\n",
      "1116/1116 [==============================] - 0s 446us/sample - loss: 0.9753 - accuracy: 0.7213 - val_loss: 1.0275 - val_accuracy: 0.7276\n",
      "Epoch 50/200\n",
      "1116/1116 [==============================] - 1s 498us/sample - loss: 0.9703 - accuracy: 0.7186 - val_loss: 1.0262 - val_accuracy: 0.7168\n",
      "Epoch 51/200\n",
      "1116/1116 [==============================] - 1s 465us/sample - loss: 0.9757 - accuracy: 0.7222 - val_loss: 1.0327 - val_accuracy: 0.7276\n",
      "Epoch 52/200\n",
      "1116/1116 [==============================] - 1s 480us/sample - loss: 0.9709 - accuracy: 0.7177 - val_loss: 1.0357 - val_accuracy: 0.7240\n",
      "Epoch 53/200\n",
      "1116/1116 [==============================] - 1s 451us/sample - loss: 0.9649 - accuracy: 0.7168 - val_loss: 1.0315 - val_accuracy: 0.7168\n",
      "Epoch 54/200\n",
      "1116/1116 [==============================] - 1s 464us/sample - loss: 0.9622 - accuracy: 0.7195 - val_loss: 1.0365 - val_accuracy: 0.7240\n",
      "Epoch 55/200\n",
      "1116/1116 [==============================] - 1s 470us/sample - loss: 0.9514 - accuracy: 0.7177 - val_loss: 1.0351 - val_accuracy: 0.7240\n",
      "Epoch 56/200\n",
      "1116/1116 [==============================] - 1s 465us/sample - loss: 0.9640 - accuracy: 0.7267 - val_loss: 1.0406 - val_accuracy: 0.7204\n",
      "Epoch 57/200\n",
      "1116/1116 [==============================] - 1s 456us/sample - loss: 0.9849 - accuracy: 0.7151 - val_loss: 1.0238 - val_accuracy: 0.7204\n",
      "Epoch 58/200\n",
      "1116/1116 [==============================] - 1s 454us/sample - loss: 0.9547 - accuracy: 0.7204 - val_loss: 1.0424 - val_accuracy: 0.7276\n",
      "Epoch 59/200\n",
      "1116/1116 [==============================] - 1s 451us/sample - loss: 0.9464 - accuracy: 0.7240 - val_loss: 1.0230 - val_accuracy: 0.7312\n",
      "Epoch 60/200\n",
      "1116/1116 [==============================] - 1s 464us/sample - loss: 0.9381 - accuracy: 0.7231 - val_loss: 1.0511 - val_accuracy: 0.7168\n",
      "Epoch 61/200\n",
      "1116/1116 [==============================] - 1s 451us/sample - loss: 0.9442 - accuracy: 0.7249 - val_loss: 1.0666 - val_accuracy: 0.7168\n",
      "Epoch 62/200\n",
      "1116/1116 [==============================] - 1s 461us/sample - loss: 0.9425 - accuracy: 0.7222 - val_loss: 1.0507 - val_accuracy: 0.7168\n",
      "Epoch 63/200\n",
      "1116/1116 [==============================] - 1s 460us/sample - loss: 0.9358 - accuracy: 0.7186 - val_loss: 1.0410 - val_accuracy: 0.7348\n",
      "Epoch 64/200\n",
      "1116/1116 [==============================] - 1s 464us/sample - loss: 0.9193 - accuracy: 0.7195 - val_loss: 1.0450 - val_accuracy: 0.7348\n",
      "Epoch 65/200\n",
      "1116/1116 [==============================] - 1s 472us/sample - loss: 0.9253 - accuracy: 0.7267 - val_loss: 1.0422 - val_accuracy: 0.7312\n",
      "Epoch 66/200\n",
      "1116/1116 [==============================] - 1s 461us/sample - loss: 0.9416 - accuracy: 0.7195 - val_loss: 1.0461 - val_accuracy: 0.7276\n",
      "Epoch 67/200\n",
      "1116/1116 [==============================] - 1s 453us/sample - loss: 0.9288 - accuracy: 0.7213 - val_loss: 1.0513 - val_accuracy: 0.7312\n",
      "Epoch 68/200\n",
      "1116/1116 [==============================] - 1s 465us/sample - loss: 0.9111 - accuracy: 0.7276 - val_loss: 1.0556 - val_accuracy: 0.7312\n",
      "Epoch 69/200\n",
      "1116/1116 [==============================] - 1s 460us/sample - loss: 0.9540 - accuracy: 0.7240 - val_loss: 1.0288 - val_accuracy: 0.7204\n",
      "Epoch 70/200\n",
      "1116/1116 [==============================] - 1s 460us/sample - loss: 0.9223 - accuracy: 0.7240 - val_loss: 1.0529 - val_accuracy: 0.7312\n",
      "Epoch 71/200\n",
      "1116/1116 [==============================] - 1s 459us/sample - loss: 0.9263 - accuracy: 0.7267 - val_loss: 1.1247 - val_accuracy: 0.7348\n",
      "Epoch 72/200\n",
      "1116/1116 [==============================] - 1s 449us/sample - loss: 0.9601 - accuracy: 0.7177 - val_loss: 1.0832 - val_accuracy: 0.7168\n",
      "Epoch 73/200\n",
      "1116/1116 [==============================] - 1s 456us/sample - loss: 1.0105 - accuracy: 0.7213 - val_loss: 1.0451 - val_accuracy: 0.7204\n",
      "Epoch 74/200\n",
      "1116/1116 [==============================] - 1s 455us/sample - loss: 0.9521 - accuracy: 0.7312 - val_loss: 1.0397 - val_accuracy: 0.7348\n",
      "Epoch 75/200\n",
      "1116/1116 [==============================] - 0s 447us/sample - loss: 0.9529 - accuracy: 0.7249 - val_loss: 1.0477 - val_accuracy: 0.7348\n",
      "Epoch 76/200\n",
      "1116/1116 [==============================] - 1s 466us/sample - loss: 0.9270 - accuracy: 0.7240 - val_loss: 1.0648 - val_accuracy: 0.7384\n",
      "Epoch 77/200\n",
      "1116/1116 [==============================] - 1s 457us/sample - loss: 0.9134 - accuracy: 0.7294 - val_loss: 1.0423 - val_accuracy: 0.7348\n",
      "Epoch 78/200\n",
      "1116/1116 [==============================] - 1s 463us/sample - loss: 0.9066 - accuracy: 0.7285 - val_loss: 1.0344 - val_accuracy: 0.7348\n",
      "Epoch 79/200\n",
      "1116/1116 [==============================] - 1s 460us/sample - loss: 0.9039 - accuracy: 0.7240 - val_loss: 1.0405 - val_accuracy: 0.7348\n",
      "Epoch 80/200\n",
      "1116/1116 [==============================] - 1s 460us/sample - loss: 0.8928 - accuracy: 0.7240 - val_loss: 1.0350 - val_accuracy: 0.7312\n",
      "Epoch 81/200\n",
      "1116/1116 [==============================] - 1s 463us/sample - loss: 0.8958 - accuracy: 0.7321 - val_loss: 1.0576 - val_accuracy: 0.7348\n",
      "Epoch 82/200\n",
      "1116/1116 [==============================] - 1s 462us/sample - loss: 0.9005 - accuracy: 0.7276 - val_loss: 1.0368 - val_accuracy: 0.7348\n",
      "Epoch 83/200\n",
      "1116/1116 [==============================] - 1s 457us/sample - loss: 0.9142 - accuracy: 0.7231 - val_loss: 1.0332 - val_accuracy: 0.7348\n",
      "Epoch 84/200\n",
      "1116/1116 [==============================] - 1s 465us/sample - loss: 0.8986 - accuracy: 0.7258 - val_loss: 1.0252 - val_accuracy: 0.7348\n",
      "Epoch 85/200\n",
      "1116/1116 [==============================] - 1s 472us/sample - loss: 0.8988 - accuracy: 0.7267 - val_loss: 1.0672 - val_accuracy: 0.7204\n",
      "Epoch 86/200\n",
      "1116/1116 [==============================] - 1s 466us/sample - loss: 0.9075 - accuracy: 0.7267 - val_loss: 1.0569 - val_accuracy: 0.7240\n",
      "Epoch 87/200\n",
      "1116/1116 [==============================] - 1s 458us/sample - loss: 0.9243 - accuracy: 0.7204 - val_loss: 1.0330 - val_accuracy: 0.7312\n",
      "Epoch 88/200\n",
      "1116/1116 [==============================] - 1s 468us/sample - loss: 0.9011 - accuracy: 0.7249 - val_loss: 1.0656 - val_accuracy: 0.7312\n",
      "Epoch 89/200\n",
      "1116/1116 [==============================] - 1s 457us/sample - loss: 0.8900 - accuracy: 0.7258 - val_loss: 1.0624 - val_accuracy: 0.7312\n",
      "Epoch 90/200\n",
      "1116/1116 [==============================] - 1s 469us/sample - loss: 0.8800 - accuracy: 0.7294 - val_loss: 1.0487 - val_accuracy: 0.7312\n",
      "Epoch 91/200\n",
      "1116/1116 [==============================] - 1s 460us/sample - loss: 0.8787 - accuracy: 0.7285 - val_loss: 1.0568 - val_accuracy: 0.7312\n",
      "Epoch 92/200\n",
      "1116/1116 [==============================] - 1s 461us/sample - loss: 0.8829 - accuracy: 0.7321 - val_loss: 1.0353 - val_accuracy: 0.7312\n",
      "Epoch 93/200\n",
      "1116/1116 [==============================] - 1s 464us/sample - loss: 0.8819 - accuracy: 0.7294 - val_loss: 1.0505 - val_accuracy: 0.7348\n",
      "Epoch 94/200\n",
      "1116/1116 [==============================] - 1s 460us/sample - loss: 0.8692 - accuracy: 0.7303 - val_loss: 1.0474 - val_accuracy: 0.7348\n",
      "Epoch 95/200\n",
      "1116/1116 [==============================] - 1s 476us/sample - loss: 0.8676 - accuracy: 0.7276 - val_loss: 1.0451 - val_accuracy: 0.7312\n",
      "Epoch 96/200\n",
      "1116/1116 [==============================] - 0s 448us/sample - loss: 0.8633 - accuracy: 0.7303 - val_loss: 1.0280 - val_accuracy: 0.7312\n",
      "Epoch 97/200\n",
      "1116/1116 [==============================] - 1s 456us/sample - loss: 0.8587 - accuracy: 0.7321 - val_loss: 1.0584 - val_accuracy: 0.7348\n",
      "Epoch 98/200\n",
      "1116/1116 [==============================] - 1s 464us/sample - loss: 0.8529 - accuracy: 0.7357 - val_loss: 1.0465 - val_accuracy: 0.7384\n",
      "Epoch 99/200\n",
      "1116/1116 [==============================] - 1s 449us/sample - loss: 0.9118 - accuracy: 0.7285 - val_loss: 1.0526 - val_accuracy: 0.7168\n",
      "Epoch 100/200\n",
      "1116/1116 [==============================] - 1s 462us/sample - loss: 0.9356 - accuracy: 0.7222 - val_loss: 1.0482 - val_accuracy: 0.7204\n",
      "Epoch 101/200\n",
      "1116/1116 [==============================] - 1s 462us/sample - loss: 0.9155 - accuracy: 0.7258 - val_loss: 1.0538 - val_accuracy: 0.7240\n",
      "Epoch 102/200\n",
      "1116/1116 [==============================] - 1s 459us/sample - loss: 0.8954 - accuracy: 0.7267 - val_loss: 1.0589 - val_accuracy: 0.7204\n",
      "Epoch 103/200\n",
      "1116/1116 [==============================] - 1s 454us/sample - loss: 0.8880 - accuracy: 0.7276 - val_loss: 1.0591 - val_accuracy: 0.7348\n",
      "Epoch 104/200\n",
      "1116/1116 [==============================] - 1s 463us/sample - loss: 0.8736 - accuracy: 0.7249 - val_loss: 1.0673 - val_accuracy: 0.7312\n",
      "Epoch 105/200\n",
      "1116/1116 [==============================] - 1s 457us/sample - loss: 0.8657 - accuracy: 0.7276 - val_loss: 1.0461 - val_accuracy: 0.7312\n",
      "Epoch 106/200\n",
      "1116/1116 [==============================] - 1s 482us/sample - loss: 0.8648 - accuracy: 0.7312 - val_loss: 1.0694 - val_accuracy: 0.7312\n",
      "Epoch 107/200\n",
      "1116/1116 [==============================] - 1s 545us/sample - loss: 0.8732 - accuracy: 0.7294 - val_loss: 1.0720 - val_accuracy: 0.7348\n",
      "Epoch 108/200\n",
      "1116/1116 [==============================] - 1s 499us/sample - loss: 0.8629 - accuracy: 0.7258 - val_loss: 1.0694 - val_accuracy: 0.7312\n",
      "Epoch 109/200\n"
     ]
    },
    {
     "name": "stdout",
     "output_type": "stream",
     "text": [
      "1116/1116 [==============================] - 1s 468us/sample - loss: 0.8571 - accuracy: 0.7267 - val_loss: 1.1049 - val_accuracy: 0.7348\n",
      "Epoch 110/200\n",
      "1116/1116 [==============================] - 1s 472us/sample - loss: 0.8700 - accuracy: 0.7303 - val_loss: 1.0653 - val_accuracy: 0.7312\n",
      "Epoch 111/200\n",
      "1116/1116 [==============================] - 1s 466us/sample - loss: 0.8525 - accuracy: 0.7294 - val_loss: 1.0758 - val_accuracy: 0.7348\n",
      "Epoch 112/200\n",
      "1116/1116 [==============================] - 1s 470us/sample - loss: 0.8592 - accuracy: 0.7276 - val_loss: 1.0642 - val_accuracy: 0.7348\n",
      "Epoch 113/200\n",
      "1116/1116 [==============================] - 1s 454us/sample - loss: 0.8555 - accuracy: 0.7339 - val_loss: 1.1027 - val_accuracy: 0.7133\n",
      "Epoch 114/200\n",
      "1116/1116 [==============================] - 1s 451us/sample - loss: 0.9165 - accuracy: 0.7222 - val_loss: 1.0731 - val_accuracy: 0.7168\n",
      "Epoch 115/200\n",
      "1116/1116 [==============================] - 1s 462us/sample - loss: 0.8802 - accuracy: 0.7285 - val_loss: 1.0560 - val_accuracy: 0.7240\n",
      "Epoch 116/200\n",
      "1116/1116 [==============================] - 1s 467us/sample - loss: 0.8569 - accuracy: 0.7249 - val_loss: 1.0580 - val_accuracy: 0.7312\n",
      "Epoch 117/200\n",
      "1116/1116 [==============================] - 1s 462us/sample - loss: 0.8412 - accuracy: 0.7321 - val_loss: 1.0514 - val_accuracy: 0.7348\n",
      "Epoch 118/200\n",
      "1116/1116 [==============================] - 1s 463us/sample - loss: 0.8387 - accuracy: 0.7312 - val_loss: 1.0595 - val_accuracy: 0.7348\n",
      "Epoch 119/200\n",
      "1116/1116 [==============================] - 1s 463us/sample - loss: 0.8369 - accuracy: 0.7258 - val_loss: 1.0502 - val_accuracy: 0.7312\n",
      "Epoch 120/200\n",
      "1116/1116 [==============================] - 1s 463us/sample - loss: 0.8366 - accuracy: 0.7330 - val_loss: 1.0546 - val_accuracy: 0.7348\n",
      "Epoch 121/200\n",
      "1116/1116 [==============================] - 1s 461us/sample - loss: 0.8306 - accuracy: 0.7366 - val_loss: 1.0638 - val_accuracy: 0.7348\n",
      "Epoch 122/200\n",
      "1116/1116 [==============================] - 1s 451us/sample - loss: 0.8288 - accuracy: 0.7339 - val_loss: 1.0458 - val_accuracy: 0.7312\n",
      "Epoch 123/200\n",
      "1116/1116 [==============================] - 1s 462us/sample - loss: 0.8223 - accuracy: 0.7357 - val_loss: 1.0463 - val_accuracy: 0.7348\n",
      "Epoch 124/200\n",
      "1116/1116 [==============================] - 1s 462us/sample - loss: 0.8263 - accuracy: 0.7366 - val_loss: 1.0494 - val_accuracy: 0.7384\n",
      "Epoch 125/200\n",
      "1116/1116 [==============================] - 1s 455us/sample - loss: 0.8189 - accuracy: 0.7348 - val_loss: 1.0381 - val_accuracy: 0.7348\n",
      "Epoch 126/200\n",
      "1116/1116 [==============================] - 1s 459us/sample - loss: 0.8129 - accuracy: 0.7357 - val_loss: 1.0463 - val_accuracy: 0.7348\n",
      "Epoch 127/200\n",
      "1116/1116 [==============================] - 1s 469us/sample - loss: 0.8142 - accuracy: 0.7375 - val_loss: 1.0543 - val_accuracy: 0.7348\n",
      "Epoch 128/200\n",
      "1116/1116 [==============================] - 1s 456us/sample - loss: 0.8099 - accuracy: 0.7392 - val_loss: 1.0540 - val_accuracy: 0.7384\n",
      "Epoch 129/200\n",
      "1116/1116 [==============================] - 0s 443us/sample - loss: 0.8069 - accuracy: 0.7473 - val_loss: 1.0399 - val_accuracy: 0.7419\n",
      "Epoch 130/200\n",
      "1116/1116 [==============================] - 1s 456us/sample - loss: 0.7991 - accuracy: 0.7455 - val_loss: 1.0529 - val_accuracy: 0.7384\n",
      "Epoch 131/200\n",
      "1116/1116 [==============================] - 1s 461us/sample - loss: 0.8057 - accuracy: 0.7375 - val_loss: 1.0572 - val_accuracy: 0.7312\n",
      "Epoch 132/200\n",
      "1116/1116 [==============================] - 1s 460us/sample - loss: 0.8079 - accuracy: 0.7437 - val_loss: 1.0388 - val_accuracy: 0.7348\n",
      "Epoch 133/200\n",
      "1116/1116 [==============================] - 1s 457us/sample - loss: 0.8010 - accuracy: 0.7473 - val_loss: 1.0428 - val_accuracy: 0.7384\n",
      "Epoch 134/200\n",
      "1116/1116 [==============================] - 1s 461us/sample - loss: 0.7991 - accuracy: 0.7437 - val_loss: 1.0543 - val_accuracy: 0.7563\n",
      "Epoch 135/200\n",
      "1116/1116 [==============================] - 1s 451us/sample - loss: 0.8123 - accuracy: 0.7366 - val_loss: 1.0540 - val_accuracy: 0.7348\n",
      "Epoch 136/200\n",
      "1116/1116 [==============================] - 1s 464us/sample - loss: 0.7951 - accuracy: 0.7527 - val_loss: 1.0306 - val_accuracy: 0.7348\n",
      "Epoch 137/200\n",
      "1116/1116 [==============================] - 1s 459us/sample - loss: 0.8064 - accuracy: 0.7437 - val_loss: 1.0436 - val_accuracy: 0.7312\n",
      "Epoch 138/200\n",
      "1116/1116 [==============================] - 1s 461us/sample - loss: 0.7882 - accuracy: 0.7464 - val_loss: 1.0497 - val_accuracy: 0.7348\n",
      "Epoch 139/200\n",
      "1116/1116 [==============================] - 1s 463us/sample - loss: 0.7928 - accuracy: 0.7473 - val_loss: 1.0372 - val_accuracy: 0.7384\n",
      "Epoch 140/200\n",
      "1116/1116 [==============================] - 1s 550us/sample - loss: 0.7869 - accuracy: 0.7473 - val_loss: 1.0560 - val_accuracy: 0.7348\n",
      "Epoch 141/200\n",
      "1116/1116 [==============================] - 1s 453us/sample - loss: 0.7896 - accuracy: 0.7455 - val_loss: 1.0472 - val_accuracy: 0.7384\n",
      "Epoch 142/200\n",
      "1116/1116 [==============================] - 1s 458us/sample - loss: 0.7842 - accuracy: 0.7428 - val_loss: 1.0722 - val_accuracy: 0.7348\n",
      "Epoch 143/200\n",
      "1116/1116 [==============================] - 1s 462us/sample - loss: 0.7776 - accuracy: 0.7509 - val_loss: 1.0397 - val_accuracy: 0.7455\n",
      "Epoch 144/200\n",
      "1116/1116 [==============================] - 0s 448us/sample - loss: 0.7791 - accuracy: 0.7473 - val_loss: 1.0385 - val_accuracy: 0.7384\n",
      "Epoch 145/200\n",
      "1116/1116 [==============================] - 1s 461us/sample - loss: 0.7676 - accuracy: 0.7518 - val_loss: 1.0509 - val_accuracy: 0.7419\n",
      "Epoch 146/200\n",
      "1116/1116 [==============================] - 1s 460us/sample - loss: 0.7664 - accuracy: 0.7518 - val_loss: 1.0357 - val_accuracy: 0.7419\n",
      "Epoch 147/200\n",
      "1116/1116 [==============================] - 1s 452us/sample - loss: 0.7679 - accuracy: 0.7491 - val_loss: 1.0459 - val_accuracy: 0.7276\n",
      "Epoch 148/200\n",
      "1116/1116 [==============================] - 1s 468us/sample - loss: 0.7691 - accuracy: 0.7518 - val_loss: 1.0454 - val_accuracy: 0.7563\n",
      "Epoch 149/200\n",
      "1116/1116 [==============================] - 1s 459us/sample - loss: 0.8068 - accuracy: 0.7437 - val_loss: 1.0403 - val_accuracy: 0.7599\n",
      "Epoch 150/200\n",
      "1116/1116 [==============================] - 0s 445us/sample - loss: 0.7864 - accuracy: 0.7410 - val_loss: 1.0666 - val_accuracy: 0.7384\n",
      "Epoch 151/200\n",
      "1116/1116 [==============================] - 1s 461us/sample - loss: 0.7690 - accuracy: 0.7491 - val_loss: 1.0410 - val_accuracy: 0.7419\n",
      "Epoch 152/200\n",
      "1116/1116 [==============================] - 1s 452us/sample - loss: 0.7663 - accuracy: 0.7527 - val_loss: 1.0748 - val_accuracy: 0.7455\n",
      "Epoch 153/200\n",
      "1116/1116 [==============================] - 1s 460us/sample - loss: 0.7749 - accuracy: 0.7509 - val_loss: 1.0492 - val_accuracy: 0.7384\n",
      "Epoch 154/200\n",
      "1116/1116 [==============================] - 1s 467us/sample - loss: 0.7689 - accuracy: 0.7500 - val_loss: 1.0489 - val_accuracy: 0.7419\n",
      "Epoch 155/200\n",
      "1116/1116 [==============================] - 1s 459us/sample - loss: 0.7614 - accuracy: 0.7527 - val_loss: 1.0370 - val_accuracy: 0.7419\n",
      "Epoch 156/200\n",
      "1116/1116 [==============================] - 0s 442us/sample - loss: 0.7828 - accuracy: 0.7437 - val_loss: 1.0894 - val_accuracy: 0.7276\n",
      "Epoch 157/200\n",
      "1116/1116 [==============================] - 1s 461us/sample - loss: 0.8132 - accuracy: 0.7446 - val_loss: 1.0705 - val_accuracy: 0.7312\n",
      "Epoch 158/200\n",
      "1116/1116 [==============================] - 1s 462us/sample - loss: 0.7634 - accuracy: 0.7455 - val_loss: 1.0612 - val_accuracy: 0.7384\n",
      "Epoch 159/200\n",
      "1116/1116 [==============================] - 1s 463us/sample - loss: 0.7617 - accuracy: 0.7563 - val_loss: 1.0404 - val_accuracy: 0.7455\n",
      "Epoch 160/200\n",
      "1116/1116 [==============================] - 1s 460us/sample - loss: 0.7511 - accuracy: 0.7527 - val_loss: 1.0456 - val_accuracy: 0.7527\n",
      "Epoch 161/200\n",
      "1116/1116 [==============================] - 1s 460us/sample - loss: 0.7457 - accuracy: 0.7590 - val_loss: 1.0433 - val_accuracy: 0.7527\n",
      "Epoch 162/200\n",
      "1116/1116 [==============================] - 1s 452us/sample - loss: 0.7468 - accuracy: 0.7581 - val_loss: 1.0395 - val_accuracy: 0.7491\n",
      "Epoch 163/200\n",
      "1116/1116 [==============================] - 1s 475us/sample - loss: 0.7393 - accuracy: 0.7590 - val_loss: 1.0505 - val_accuracy: 0.7455\n",
      "Epoch 164/200\n",
      "1116/1116 [==============================] - 1s 462us/sample - loss: 0.7387 - accuracy: 0.7590 - val_loss: 1.0573 - val_accuracy: 0.7455\n",
      "Epoch 165/200\n",
      "1116/1116 [==============================] - 1s 483us/sample - loss: 0.7323 - accuracy: 0.7581 - val_loss: 1.0475 - val_accuracy: 0.7527\n",
      "Epoch 166/200\n",
      "1116/1116 [==============================] - 1s 452us/sample - loss: 0.7303 - accuracy: 0.7634 - val_loss: 1.0564 - val_accuracy: 0.7491\n",
      "Epoch 167/200\n",
      "1116/1116 [==============================] - 1s 452us/sample - loss: 0.7539 - accuracy: 0.7491 - val_loss: 1.0529 - val_accuracy: 0.7455\n",
      "Epoch 168/200\n",
      "1116/1116 [==============================] - 1s 458us/sample - loss: 0.7352 - accuracy: 0.7554 - val_loss: 1.0362 - val_accuracy: 0.7527\n",
      "Epoch 169/200\n",
      "1116/1116 [==============================] - 1s 456us/sample - loss: 0.7368 - accuracy: 0.7590 - val_loss: 1.0388 - val_accuracy: 0.7599\n",
      "Epoch 170/200\n",
      "1116/1116 [==============================] - 1s 456us/sample - loss: 0.7313 - accuracy: 0.7527 - val_loss: 1.0443 - val_accuracy: 0.7563\n",
      "Epoch 171/200\n",
      "1116/1116 [==============================] - 1s 464us/sample - loss: 0.7510 - accuracy: 0.7563 - val_loss: 1.0613 - val_accuracy: 0.7348\n",
      "Epoch 172/200\n",
      "1116/1116 [==============================] - 1s 460us/sample - loss: 0.7368 - accuracy: 0.7554 - val_loss: 1.0353 - val_accuracy: 0.7527\n",
      "Epoch 173/200\n",
      "1116/1116 [==============================] - 1s 455us/sample - loss: 0.7276 - accuracy: 0.7581 - val_loss: 1.0646 - val_accuracy: 0.7491\n",
      "Epoch 174/200\n",
      "1116/1116 [==============================] - 1s 459us/sample - loss: 0.7262 - accuracy: 0.7545 - val_loss: 1.0548 - val_accuracy: 0.7491\n",
      "Epoch 175/200\n",
      "1116/1116 [==============================] - 1s 454us/sample - loss: 0.7214 - accuracy: 0.7563 - val_loss: 1.0557 - val_accuracy: 0.7563\n",
      "Epoch 176/200\n",
      "1116/1116 [==============================] - 1s 450us/sample - loss: 0.7206 - accuracy: 0.7608 - val_loss: 1.0444 - val_accuracy: 0.7491\n",
      "Epoch 177/200\n",
      "1116/1116 [==============================] - 1s 448us/sample - loss: 0.7175 - accuracy: 0.7625 - val_loss: 1.0536 - val_accuracy: 0.7563\n",
      "Epoch 178/200\n",
      "1116/1116 [==============================] - 1s 449us/sample - loss: 0.7165 - accuracy: 0.7625 - val_loss: 1.0446 - val_accuracy: 0.7491\n",
      "Epoch 179/200\n",
      "1116/1116 [==============================] - 1s 451us/sample - loss: 0.7221 - accuracy: 0.7652 - val_loss: 1.0527 - val_accuracy: 0.7527\n",
      "Epoch 180/200\n",
      "1116/1116 [==============================] - 1s 451us/sample - loss: 0.7245 - accuracy: 0.7616 - val_loss: 1.0509 - val_accuracy: 0.7563\n",
      "Epoch 181/200\n",
      "1116/1116 [==============================] - 1s 450us/sample - loss: 0.7158 - accuracy: 0.7608 - val_loss: 1.0639 - val_accuracy: 0.7491\n",
      "Epoch 182/200\n",
      "1116/1116 [==============================] - 1s 459us/sample - loss: 0.7035 - accuracy: 0.7625 - val_loss: 1.0752 - val_accuracy: 0.7455\n",
      "Epoch 183/200\n",
      "1116/1116 [==============================] - 1s 465us/sample - loss: 0.7134 - accuracy: 0.7554 - val_loss: 1.0664 - val_accuracy: 0.7348\n",
      "Epoch 184/200\n",
      "1116/1116 [==============================] - 1s 467us/sample - loss: 0.7275 - accuracy: 0.7581 - val_loss: 1.0641 - val_accuracy: 0.7419\n",
      "Epoch 185/200\n",
      "1116/1116 [==============================] - 1s 455us/sample - loss: 0.7143 - accuracy: 0.7563 - val_loss: 1.0509 - val_accuracy: 0.7527\n",
      "Epoch 186/200\n",
      "1116/1116 [==============================] - 1s 458us/sample - loss: 0.7103 - accuracy: 0.7572 - val_loss: 1.0963 - val_accuracy: 0.7419\n",
      "Epoch 187/200\n",
      "1116/1116 [==============================] - 1s 460us/sample - loss: 0.7081 - accuracy: 0.7599 - val_loss: 1.0468 - val_accuracy: 0.7563\n",
      "Epoch 188/200\n",
      "1116/1116 [==============================] - 1s 468us/sample - loss: 0.7202 - accuracy: 0.7599 - val_loss: 1.0501 - val_accuracy: 0.7527\n",
      "Epoch 189/200\n",
      "1116/1116 [==============================] - 1s 458us/sample - loss: 0.7038 - accuracy: 0.7652 - val_loss: 1.0473 - val_accuracy: 0.7491\n",
      "Epoch 190/200\n",
      "1116/1116 [==============================] - 1s 468us/sample - loss: 0.6940 - accuracy: 0.7625 - val_loss: 1.1275 - val_accuracy: 0.7455\n",
      "Epoch 191/200\n",
      "1116/1116 [==============================] - 1s 456us/sample - loss: 0.7068 - accuracy: 0.7625 - val_loss: 1.0746 - val_accuracy: 0.7491\n",
      "Epoch 192/200\n",
      "1116/1116 [==============================] - 1s 459us/sample - loss: 0.7033 - accuracy: 0.7563 - val_loss: 1.0548 - val_accuracy: 0.7455\n",
      "Epoch 193/200\n",
      "1116/1116 [==============================] - 1s 463us/sample - loss: 0.7010 - accuracy: 0.7652 - val_loss: 1.0765 - val_accuracy: 0.7384\n",
      "Epoch 194/200\n",
      "1116/1116 [==============================] - 1s 458us/sample - loss: 0.7063 - accuracy: 0.7643 - val_loss: 1.0788 - val_accuracy: 0.7491\n",
      "Epoch 195/200\n",
      "1116/1116 [==============================] - 1s 458us/sample - loss: 0.7284 - accuracy: 0.7599 - val_loss: 1.0676 - val_accuracy: 0.7455\n",
      "Epoch 196/200\n",
      "1116/1116 [==============================] - 1s 459us/sample - loss: 0.7120 - accuracy: 0.7616 - val_loss: 1.0606 - val_accuracy: 0.7491\n",
      "Epoch 197/200\n",
      "1116/1116 [==============================] - 0s 444us/sample - loss: 0.6934 - accuracy: 0.7688 - val_loss: 1.0433 - val_accuracy: 0.7563\n",
      "Epoch 198/200\n",
      "1116/1116 [==============================] - 1s 453us/sample - loss: 0.6904 - accuracy: 0.7706 - val_loss: 1.0499 - val_accuracy: 0.7455\n",
      "Epoch 199/200\n",
      "1116/1116 [==============================] - 0s 448us/sample - loss: 0.6910 - accuracy: 0.7625 - val_loss: 1.0431 - val_accuracy: 0.7491\n",
      "Epoch 200/200\n",
      "1116/1116 [==============================] - 1s 453us/sample - loss: 0.6858 - accuracy: 0.7688 - val_loss: 1.0589 - val_accuracy: 0.7634\n"
     ]
    }
   ],
   "source": [
    "history = model.fit(X_train, y_train, verbose=1, batch_size=32, epochs=200, validation_split=0.2)"
   ]
  },
  {
   "cell_type": "code",
   "execution_count": 36,
   "metadata": {},
   "outputs": [
    {
     "data": {
      "image/png": "[encoded data removed]",
      "text/plain": [
       "<Figure size 432x288 with 1 Axes>"
      ]
     },
     "metadata": {
      "needs_background": "light"
     },
     "output_type": "display_data"
    }
   ],
   "source": [
    "plt.plot(history.history['accuracy'])\n",
    "plt.plot(history.history['val_accuracy'])\n",
    "plt.legend(['Training', 'Validation'])\n",
    "\n",
    "plt.show()"
   ]
  },
  {
   "cell_type": "code",
   "execution_count": 39,
   "metadata": {},
   "outputs": [
    {
     "data": {
      "text/plain": [
       "[1.2034709190884496, 0.7462437]"
      ]
     },
     "execution_count": 39,
     "metadata": {},
     "output_type": "execute_result"
    }
   ],
   "source": [
    "results = model.evaluate(X_test, y_test, verbose=0)\n",
    "results"
   ]
  },
  {
   "cell_type": "code",
   "execution_count": 40,
   "metadata": {},
   "outputs": [
    {
     "data": {
      "text/plain": [
       "['loss', 'accuracy']"
      ]
     },
     "execution_count": 40,
     "metadata": {},
     "output_type": "execute_result"
    }
   ],
   "source": [
    "model.metrics_names"
   ]
  },
  {
   "cell_type": "markdown",
   "metadata": {},
   "source": [
    "## 2. Stacked Vanilla RNN\n",
    "- RNN layers can be stacked to form a deeper network\n",
    "\n",
    "<img src=\"https://lh6.googleusercontent.com/rC1DSgjlmobtRxMPFi14hkMdDqSkEkuOX7EW_QrLFSymjasIM95Za2Wf-VwSC1Tq1sjJlOPLJ92q7PTKJh2hjBoXQawM6MQC27east67GFDklTalljlt0cFLZnPMdhp8erzO\" style=\"width: 500px\"/>"
   ]
  },
  {
   "cell_type": "code",
   "execution_count": 21,
   "metadata": {},
   "outputs": [],
   "source": [
    "def stacked_vanilla_rnn():\n",
    "    model = Sequential()\n",
    "    model.add(SimpleRNN(50, input_shape = (49,1), return_sequences = True))   # return_sequences parameter has to be set True to stack\n",
    "    model.add(SimpleRNN(50, return_sequences = False))\n",
    "    model.add(Dense(46))\n",
    "    model.add(Activation('softmax'))\n",
    "    \n",
    "    adam = optimizers.Adam(lr = 0.001)\n",
    "    model.compile(loss = 'categorical_crossentropy', optimizer = adam, metrics = ['accuracy'])\n",
    "    \n",
    "    return model"
   ]
  },
  {
   "cell_type": "code",
   "execution_count": 22,
   "metadata": {},
   "outputs": [
    {
     "name": "stdout",
     "output_type": "stream",
     "text": [
      "Model: \"sequential_1\"\n",
      "_________________________________________________________________\n",
      "Layer (type)                 Output Shape              Param #   \n",
      "=================================================================\n",
      "simple_rnn_2 (SimpleRNN)     (None, 49, 50)            2600      \n",
      "_________________________________________________________________\n",
      "simple_rnn_3 (SimpleRNN)     (None, 50)                5050      \n",
      "_________________________________________________________________\n",
      "dense_1 (Dense)              (None, 46)                2346      \n",
      "_________________________________________________________________\n",
      "activation_1 (Activation)    (None, 46)                0         \n",
      "=================================================================\n",
      "Total params: 9,996\n",
      "Trainable params: 9,996\n",
      "Non-trainable params: 0\n",
      "_________________________________________________________________\n"
     ]
    }
   ],
   "source": [
    "model = stacked_vanilla_rnn()\n",
    "\n",
    "model.summary()"
   ]
  },
  {
   "cell_type": "code",
   "execution_count": 23,
   "metadata": {},
   "outputs": [
    {
     "name": "stdout",
     "output_type": "stream",
     "text": [
      "Train on 1116 samples, validate on 279 samples\n",
      "Epoch 1/100\n",
      "1116/1116 [==============================] - 3s 3ms/sample - loss: 2.2400 - accuracy: 0.5833 - val_loss: 1.2696 - val_accuracy: 0.7240\n",
      "Epoch 2/100\n",
      "1116/1116 [==============================] - 1s 945us/sample - loss: 1.2546 - accuracy: 0.7124 - val_loss: 1.1227 - val_accuracy: 0.7240\n",
      "Epoch 3/100\n",
      "1116/1116 [==============================] - 1s 965us/sample - loss: 1.1876 - accuracy: 0.7124 - val_loss: 1.1047 - val_accuracy: 0.7240\n",
      "Epoch 4/100\n",
      "1116/1116 [==============================] - 1s 964us/sample - loss: 1.1573 - accuracy: 0.7124 - val_loss: 1.0620 - val_accuracy: 0.7240\n",
      "Epoch 5/100\n",
      "1116/1116 [==============================] - 1s 983us/sample - loss: 1.1253 - accuracy: 0.7124 - val_loss: 1.0567 - val_accuracy: 0.7240\n",
      "Epoch 6/100\n",
      "1116/1116 [==============================] - 1s 993us/sample - loss: 1.1208 - accuracy: 0.7124 - val_loss: 1.0413 - val_accuracy: 0.7240\n",
      "Epoch 7/100\n",
      "1116/1116 [==============================] - 1s 952us/sample - loss: 1.1025 - accuracy: 0.7115 - val_loss: 1.0406 - val_accuracy: 0.7168\n",
      "Epoch 8/100\n",
      "1116/1116 [==============================] - 1s 982us/sample - loss: 1.0924 - accuracy: 0.7133 - val_loss: 1.0395 - val_accuracy: 0.7168\n",
      "Epoch 9/100\n",
      "1116/1116 [==============================] - 1s 935us/sample - loss: 1.0808 - accuracy: 0.7115 - val_loss: 1.0457 - val_accuracy: 0.7168\n",
      "Epoch 10/100\n",
      "1116/1116 [==============================] - 1s 951us/sample - loss: 1.0746 - accuracy: 0.7168 - val_loss: 1.0293 - val_accuracy: 0.7240\n",
      "Epoch 11/100\n",
      "1116/1116 [==============================] - 1s 975us/sample - loss: 1.0700 - accuracy: 0.7115 - val_loss: 1.0313 - val_accuracy: 0.7168\n",
      "Epoch 12/100\n",
      "1116/1116 [==============================] - 1s 943us/sample - loss: 1.0728 - accuracy: 0.7124 - val_loss: 1.0335 - val_accuracy: 0.7168\n",
      "Epoch 13/100\n",
      "1116/1116 [==============================] - 1s 948us/sample - loss: 1.0637 - accuracy: 0.7142 - val_loss: 1.0300 - val_accuracy: 0.7168\n",
      "Epoch 14/100\n",
      "1116/1116 [==============================] - 1s 974us/sample - loss: 1.0528 - accuracy: 0.7133 - val_loss: 1.0402 - val_accuracy: 0.7204\n",
      "Epoch 15/100\n",
      "1116/1116 [==============================] - 1s 991us/sample - loss: 1.0498 - accuracy: 0.7186 - val_loss: 1.0267 - val_accuracy: 0.7240\n",
      "Epoch 16/100\n",
      "1116/1116 [==============================] - 1s 982us/sample - loss: 1.0488 - accuracy: 0.7106 - val_loss: 1.0357 - val_accuracy: 0.7168\n",
      "Epoch 17/100\n",
      "1116/1116 [==============================] - 1s 942us/sample - loss: 1.0394 - accuracy: 0.7115 - val_loss: 1.0472 - val_accuracy: 0.7168\n",
      "Epoch 18/100\n",
      "1116/1116 [==============================] - 1s 975us/sample - loss: 1.0307 - accuracy: 0.7124 - val_loss: 1.0430 - val_accuracy: 0.7240\n",
      "Epoch 19/100\n",
      "1116/1116 [==============================] - 1s 964us/sample - loss: 1.0334 - accuracy: 0.7079 - val_loss: 1.0303 - val_accuracy: 0.7168\n",
      "Epoch 20/100\n",
      "1116/1116 [==============================] - 1s 948us/sample - loss: 1.0253 - accuracy: 0.7195 - val_loss: 1.0284 - val_accuracy: 0.7240\n",
      "Epoch 21/100\n",
      "1116/1116 [==============================] - 1s 973us/sample - loss: 1.0198 - accuracy: 0.7151 - val_loss: 1.0326 - val_accuracy: 0.7168\n",
      "Epoch 22/100\n",
      "1116/1116 [==============================] - 1s 960us/sample - loss: 1.0232 - accuracy: 0.7133 - val_loss: 1.0406 - val_accuracy: 0.7168\n",
      "Epoch 23/100\n",
      "1116/1116 [==============================] - 1s 991us/sample - loss: 1.0093 - accuracy: 0.7151 - val_loss: 1.0315 - val_accuracy: 0.7168\n",
      "Epoch 24/100\n",
      "1116/1116 [==============================] - 1s 1ms/sample - loss: 1.0043 - accuracy: 0.7159 - val_loss: 1.0345 - val_accuracy: 0.7240\n",
      "Epoch 25/100\n",
      "1116/1116 [==============================] - 1s 1ms/sample - loss: 0.9940 - accuracy: 0.7115 - val_loss: 1.0313 - val_accuracy: 0.7168\n",
      "Epoch 26/100\n",
      "1116/1116 [==============================] - 1s 968us/sample - loss: 0.9935 - accuracy: 0.7106 - val_loss: 1.0327 - val_accuracy: 0.7240\n",
      "Epoch 27/100\n",
      "1116/1116 [==============================] - 1s 999us/sample - loss: 0.9924 - accuracy: 0.7115 - val_loss: 1.0310 - val_accuracy: 0.7204\n",
      "Epoch 28/100\n",
      "1116/1116 [==============================] - 1s 946us/sample - loss: 0.9897 - accuracy: 0.7186 - val_loss: 1.0324 - val_accuracy: 0.7204\n",
      "Epoch 29/100\n",
      "1116/1116 [==============================] - 1s 929us/sample - loss: 0.9747 - accuracy: 0.7159 - val_loss: 1.0356 - val_accuracy: 0.7204\n",
      "Epoch 30/100\n",
      "1116/1116 [==============================] - 1s 945us/sample - loss: 0.9650 - accuracy: 0.7142 - val_loss: 1.0387 - val_accuracy: 0.7240\n",
      "Epoch 31/100\n",
      "1116/1116 [==============================] - 1s 945us/sample - loss: 0.9564 - accuracy: 0.7151 - val_loss: 1.0284 - val_accuracy: 0.7240\n",
      "Epoch 32/100\n",
      "1116/1116 [==============================] - 1s 926us/sample - loss: 0.9462 - accuracy: 0.7133 - val_loss: 1.0274 - val_accuracy: 0.7348\n",
      "Epoch 33/100\n",
      "1116/1116 [==============================] - 1s 935us/sample - loss: 0.9308 - accuracy: 0.7204 - val_loss: 1.0347 - val_accuracy: 0.7276\n",
      "Epoch 34/100\n",
      "1116/1116 [==============================] - 1s 972us/sample - loss: 0.9293 - accuracy: 0.7151 - val_loss: 1.0279 - val_accuracy: 0.7348\n",
      "Epoch 35/100\n",
      "1116/1116 [==============================] - 1s 951us/sample - loss: 0.9088 - accuracy: 0.7249 - val_loss: 1.0074 - val_accuracy: 0.7240\n",
      "Epoch 36/100\n",
      "1116/1116 [==============================] - 1s 991us/sample - loss: 0.9166 - accuracy: 0.7115 - val_loss: 1.0199 - val_accuracy: 0.7276\n",
      "Epoch 37/100\n",
      "1116/1116 [==============================] - 1s 1ms/sample - loss: 0.8967 - accuracy: 0.7312 - val_loss: 0.9917 - val_accuracy: 0.7348\n",
      "Epoch 38/100\n",
      "1116/1116 [==============================] - 1s 972us/sample - loss: 0.8871 - accuracy: 0.7312 - val_loss: 1.0234 - val_accuracy: 0.7168\n",
      "Epoch 39/100\n",
      "1116/1116 [==============================] - 1s 951us/sample - loss: 0.8782 - accuracy: 0.7240 - val_loss: 1.0105 - val_accuracy: 0.7276\n",
      "Epoch 40/100\n",
      "1116/1116 [==============================] - 1s 939us/sample - loss: 0.8727 - accuracy: 0.7231 - val_loss: 0.9925 - val_accuracy: 0.7419\n",
      "Epoch 41/100\n",
      "1116/1116 [==============================] - 1s 930us/sample - loss: 0.8691 - accuracy: 0.7204 - val_loss: 1.0041 - val_accuracy: 0.7348\n",
      "Epoch 42/100\n",
      "1116/1116 [==============================] - 1s 924us/sample - loss: 0.8558 - accuracy: 0.7267 - val_loss: 0.9951 - val_accuracy: 0.7455\n",
      "Epoch 43/100\n",
      "1116/1116 [==============================] - 1s 916us/sample - loss: 0.8418 - accuracy: 0.7330 - val_loss: 0.9885 - val_accuracy: 0.7312\n",
      "Epoch 44/100\n",
      "1116/1116 [==============================] - 1s 920us/sample - loss: 0.8214 - accuracy: 0.7366 - val_loss: 1.0078 - val_accuracy: 0.7348\n",
      "Epoch 45/100\n",
      "1116/1116 [==============================] - 1s 926us/sample - loss: 0.8242 - accuracy: 0.7339 - val_loss: 0.9767 - val_accuracy: 0.7455\n",
      "Epoch 46/100\n",
      "1116/1116 [==============================] - 1s 908us/sample - loss: 0.8008 - accuracy: 0.7375 - val_loss: 0.9833 - val_accuracy: 0.7455\n",
      "Epoch 47/100\n",
      "1116/1116 [==============================] - 1s 935us/sample - loss: 0.8004 - accuracy: 0.7357 - val_loss: 1.0175 - val_accuracy: 0.7312\n",
      "Epoch 48/100\n",
      "1116/1116 [==============================] - 1s 907us/sample - loss: 0.8008 - accuracy: 0.7285 - val_loss: 0.9888 - val_accuracy: 0.7419\n",
      "Epoch 49/100\n",
      "1116/1116 [==============================] - 1s 921us/sample - loss: 0.7817 - accuracy: 0.7392 - val_loss: 0.9922 - val_accuracy: 0.7455\n",
      "Epoch 50/100\n",
      "1116/1116 [==============================] - 1s 913us/sample - loss: 0.7996 - accuracy: 0.7366 - val_loss: 0.9998 - val_accuracy: 0.7491\n",
      "Epoch 51/100\n",
      "1116/1116 [==============================] - 1s 879us/sample - loss: 0.7709 - accuracy: 0.7509 - val_loss: 1.0284 - val_accuracy: 0.7348\n",
      "Epoch 52/100\n",
      "1116/1116 [==============================] - 1s 911us/sample - loss: 0.7752 - accuracy: 0.7437 - val_loss: 1.0037 - val_accuracy: 0.7491\n",
      "Epoch 53/100\n",
      "1116/1116 [==============================] - 1s 927us/sample - loss: 0.7693 - accuracy: 0.7437 - val_loss: 1.0000 - val_accuracy: 0.7491\n",
      "Epoch 54/100\n",
      "1116/1116 [==============================] - 1s 900us/sample - loss: 0.7599 - accuracy: 0.7509 - val_loss: 1.0014 - val_accuracy: 0.7563\n",
      "Epoch 55/100\n"
     ]
    },
    {
     "name": "stdout",
     "output_type": "stream",
     "text": [
      "1116/1116 [==============================] - 1s 944us/sample - loss: 0.7364 - accuracy: 0.7590 - val_loss: 1.0203 - val_accuracy: 0.7384\n",
      "Epoch 56/100\n",
      "1116/1116 [==============================] - 1s 934us/sample - loss: 0.7403 - accuracy: 0.7572 - val_loss: 1.0018 - val_accuracy: 0.7527\n",
      "Epoch 57/100\n",
      "1116/1116 [==============================] - 1s 944us/sample - loss: 0.7281 - accuracy: 0.7536 - val_loss: 1.0167 - val_accuracy: 0.7312\n",
      "Epoch 58/100\n",
      "1116/1116 [==============================] - 1s 994us/sample - loss: 0.7244 - accuracy: 0.7563 - val_loss: 1.0226 - val_accuracy: 0.7419\n",
      "Epoch 59/100\n",
      "1116/1116 [==============================] - 1s 1ms/sample - loss: 0.7091 - accuracy: 0.7616 - val_loss: 1.0099 - val_accuracy: 0.7455\n",
      "Epoch 60/100\n",
      "1116/1116 [==============================] - 1s 935us/sample - loss: 0.7232 - accuracy: 0.7590 - val_loss: 1.0272 - val_accuracy: 0.7312\n",
      "Epoch 61/100\n",
      "1116/1116 [==============================] - 1s 948us/sample - loss: 0.7183 - accuracy: 0.7599 - val_loss: 1.0256 - val_accuracy: 0.7312\n",
      "Epoch 62/100\n",
      "1116/1116 [==============================] - 1s 934us/sample - loss: 0.6936 - accuracy: 0.7625 - val_loss: 1.0339 - val_accuracy: 0.7527\n",
      "Epoch 63/100\n",
      "1116/1116 [==============================] - 1s 950us/sample - loss: 0.6923 - accuracy: 0.7661 - val_loss: 1.0353 - val_accuracy: 0.7563\n",
      "Epoch 64/100\n",
      "1116/1116 [==============================] - 1s 1ms/sample - loss: 0.6982 - accuracy: 0.7545 - val_loss: 1.0327 - val_accuracy: 0.7527\n",
      "Epoch 65/100\n",
      "1116/1116 [==============================] - 1s 983us/sample - loss: 0.6876 - accuracy: 0.7625 - val_loss: 1.0324 - val_accuracy: 0.7419\n",
      "Epoch 66/100\n",
      "1116/1116 [==============================] - 1s 1ms/sample - loss: 0.7045 - accuracy: 0.7536 - val_loss: 1.0465 - val_accuracy: 0.7455\n",
      "Epoch 67/100\n",
      "1116/1116 [==============================] - 1s 963us/sample - loss: 0.6943 - accuracy: 0.7625 - val_loss: 1.0391 - val_accuracy: 0.7204\n",
      "Epoch 68/100\n",
      "1116/1116 [==============================] - 1s 946us/sample - loss: 0.6682 - accuracy: 0.7715 - val_loss: 1.0339 - val_accuracy: 0.7419\n",
      "Epoch 69/100\n",
      "1116/1116 [==============================] - 1s 943us/sample - loss: 0.6647 - accuracy: 0.7706 - val_loss: 1.0356 - val_accuracy: 0.7491\n",
      "Epoch 70/100\n",
      "1116/1116 [==============================] - 1s 963us/sample - loss: 0.6882 - accuracy: 0.7652 - val_loss: 1.0581 - val_accuracy: 0.7419\n",
      "Epoch 71/100\n",
      "1116/1116 [==============================] - 1s 963us/sample - loss: 0.6714 - accuracy: 0.7679 - val_loss: 1.0557 - val_accuracy: 0.7419\n",
      "Epoch 72/100\n",
      "1116/1116 [==============================] - 1s 925us/sample - loss: 0.6542 - accuracy: 0.7787 - val_loss: 1.0494 - val_accuracy: 0.7240\n",
      "Epoch 73/100\n",
      "1116/1116 [==============================] - 1s 963us/sample - loss: 0.6486 - accuracy: 0.7706 - val_loss: 1.0735 - val_accuracy: 0.7276\n",
      "Epoch 74/100\n",
      "1116/1116 [==============================] - 1s 959us/sample - loss: 0.6401 - accuracy: 0.7760 - val_loss: 1.0613 - val_accuracy: 0.7348\n",
      "Epoch 75/100\n",
      "1116/1116 [==============================] - 1s 941us/sample - loss: 0.6342 - accuracy: 0.7787 - val_loss: 1.0655 - val_accuracy: 0.7312\n",
      "Epoch 76/100\n",
      "1116/1116 [==============================] - 1s 965us/sample - loss: 0.6406 - accuracy: 0.7769 - val_loss: 1.0636 - val_accuracy: 0.7455\n",
      "Epoch 77/100\n",
      "1116/1116 [==============================] - 1s 1ms/sample - loss: 0.6339 - accuracy: 0.7841 - val_loss: 1.0928 - val_accuracy: 0.7455\n",
      "Epoch 78/100\n",
      "1116/1116 [==============================] - 1s 969us/sample - loss: 0.6288 - accuracy: 0.7805 - val_loss: 1.0717 - val_accuracy: 0.7348\n",
      "Epoch 79/100\n",
      "1116/1116 [==============================] - 1s 966us/sample - loss: 0.6261 - accuracy: 0.7796 - val_loss: 1.0774 - val_accuracy: 0.7419\n",
      "Epoch 80/100\n",
      "1116/1116 [==============================] - 1s 937us/sample - loss: 0.6194 - accuracy: 0.7894 - val_loss: 1.0780 - val_accuracy: 0.7276\n",
      "Epoch 81/100\n",
      "1116/1116 [==============================] - 1s 946us/sample - loss: 0.6015 - accuracy: 0.7903 - val_loss: 1.0732 - val_accuracy: 0.7527\n",
      "Epoch 82/100\n",
      "1116/1116 [==============================] - 1s 970us/sample - loss: 0.6198 - accuracy: 0.7787 - val_loss: 1.1190 - val_accuracy: 0.7240\n",
      "Epoch 83/100\n",
      "1116/1116 [==============================] - 1s 954us/sample - loss: 0.6062 - accuracy: 0.7814 - val_loss: 1.0773 - val_accuracy: 0.7491\n",
      "Epoch 84/100\n",
      "1116/1116 [==============================] - 1s 967us/sample - loss: 0.6041 - accuracy: 0.7805 - val_loss: 1.0940 - val_accuracy: 0.7491\n",
      "Epoch 85/100\n",
      "1116/1116 [==============================] - 1s 1ms/sample - loss: 0.6533 - accuracy: 0.7706 - val_loss: 1.1092 - val_accuracy: 0.7133\n",
      "Epoch 86/100\n",
      "1116/1116 [==============================] - 1s 1ms/sample - loss: 0.6611 - accuracy: 0.7697 - val_loss: 1.0820 - val_accuracy: 0.7240\n",
      "Epoch 87/100\n",
      "1116/1116 [==============================] - 1s 980us/sample - loss: 0.6339 - accuracy: 0.7715 - val_loss: 1.0802 - val_accuracy: 0.7312\n",
      "Epoch 88/100\n",
      "1116/1116 [==============================] - 1s 953us/sample - loss: 0.6218 - accuracy: 0.7778 - val_loss: 1.0894 - val_accuracy: 0.7204\n",
      "Epoch 89/100\n",
      "1116/1116 [==============================] - 1s 952us/sample - loss: 0.6181 - accuracy: 0.7787 - val_loss: 1.0929 - val_accuracy: 0.7204\n",
      "Epoch 90/100\n",
      "1116/1116 [==============================] - 1s 952us/sample - loss: 0.6162 - accuracy: 0.7751 - val_loss: 1.1005 - val_accuracy: 0.7455\n",
      "Epoch 91/100\n",
      "1116/1116 [==============================] - 1s 974us/sample - loss: 0.6034 - accuracy: 0.7832 - val_loss: 1.0981 - val_accuracy: 0.7527\n",
      "Epoch 92/100\n",
      "1116/1116 [==============================] - 1s 957us/sample - loss: 0.6059 - accuracy: 0.7823 - val_loss: 1.1207 - val_accuracy: 0.7168\n",
      "Epoch 93/100\n",
      "1116/1116 [==============================] - 1s 968us/sample - loss: 0.6084 - accuracy: 0.7805 - val_loss: 1.1105 - val_accuracy: 0.7276\n",
      "Epoch 94/100\n",
      "1116/1116 [==============================] - 1s 944us/sample - loss: 0.6282 - accuracy: 0.7742 - val_loss: 1.1236 - val_accuracy: 0.7312\n",
      "Epoch 95/100\n",
      "1116/1116 [==============================] - 1s 973us/sample - loss: 0.5904 - accuracy: 0.7921 - val_loss: 1.1105 - val_accuracy: 0.7133\n",
      "Epoch 96/100\n",
      "1116/1116 [==============================] - 1s 984us/sample - loss: 0.5872 - accuracy: 0.7885 - val_loss: 1.1405 - val_accuracy: 0.7168\n",
      "Epoch 97/100\n",
      "1116/1116 [==============================] - 1s 980us/sample - loss: 0.6023 - accuracy: 0.7778 - val_loss: 1.1288 - val_accuracy: 0.7240\n",
      "Epoch 98/100\n",
      "1116/1116 [==============================] - 1s 968us/sample - loss: 0.5739 - accuracy: 0.7912 - val_loss: 1.1295 - val_accuracy: 0.7168\n",
      "Epoch 99/100\n",
      "1116/1116 [==============================] - 1s 1ms/sample - loss: 0.5899 - accuracy: 0.7787 - val_loss: 1.1855 - val_accuracy: 0.7276\n",
      "Epoch 100/100\n",
      "1116/1116 [==============================] - 1s 964us/sample - loss: 0.6178 - accuracy: 0.7814 - val_loss: 1.1462 - val_accuracy: 0.7312\n"
     ]
    }
   ],
   "source": [
    "history = model.fit(X_train, y_train, verbose=1, batch_size=32, epochs=100, validation_split=0.2)"
   ]
  },
  {
   "cell_type": "code",
   "execution_count": 24,
   "metadata": {},
   "outputs": [
    {
     "data": {
      "image/png": "[encoded data removed]",
      "text/plain": [
       "<Figure size 432x288 with 1 Axes>"
      ]
     },
     "metadata": {
      "needs_background": "light"
     },
     "output_type": "display_data"
    }
   ],
   "source": [
    "plt.plot(history.history['accuracy'])\n",
    "plt.plot(history.history['val_accuracy'])\n",
    "plt.legend(['Training', 'Validation'])\n",
    "\n",
    "plt.show()"
   ]
  },
  {
   "cell_type": "code",
   "execution_count": 25,
   "metadata": {},
   "outputs": [
    {
     "data": {
      "text/plain": [
       "[1.166383427650184, 0.754591]"
      ]
     },
     "execution_count": 25,
     "metadata": {},
     "output_type": "execute_result"
    }
   ],
   "source": [
    "results = model.evaluate(X_test, y_test, verbose=0)\n",
    "results"
   ]
  },
  {
   "cell_type": "code",
   "execution_count": 26,
   "metadata": {},
   "outputs": [
    {
     "data": {
      "text/plain": [
       "['loss', 'accuracy']"
      ]
     },
     "execution_count": 26,
     "metadata": {},
     "output_type": "execute_result"
    }
   ],
   "source": [
    "model.metrics_names"
   ]
  },
  {
   "cell_type": "markdown",
   "metadata": {},
   "source": [
    "## 3. LSTM\n",
    "- LSTM (long short-term memory) is an improved structure to solve the problem of long-term dependencies\n",
    "\n",
    "<img src=\"http://colah.github.io/posts/2015-08-Understanding-LSTMs/img/LSTM3-chain.png\" style=\"width: 600px\"/>"
   ]
  },
  {
   "cell_type": "code",
   "execution_count": 57,
   "metadata": {},
   "outputs": [],
   "source": [
    "from tensorflow.keras.layers import LSTM"
   ]
  },
  {
   "cell_type": "code",
   "execution_count": 29,
   "metadata": {},
   "outputs": [],
   "source": [
    "def lstm():\n",
    "    model = Sequential()\n",
    "    model.add(LSTM(50, input_shape = (49,1), return_sequences = False))\n",
    "    model.add(Dense(46))\n",
    "    model.add(Activation('softmax'))\n",
    "    \n",
    "    adam = optimizers.Adam(lr = 0.001)\n",
    "    model.compile(loss = 'categorical_crossentropy', optimizer = adam, metrics = ['accuracy'])\n",
    "    \n",
    "    return model"
   ]
  },
  {
   "cell_type": "code",
   "execution_count": 32,
   "metadata": {},
   "outputs": [],
   "source": [
    "tf.keras.backend.clear_session()"
   ]
  },
  {
   "cell_type": "code",
   "execution_count": 33,
   "metadata": {},
   "outputs": [
    {
     "name": "stdout",
     "output_type": "stream",
     "text": [
      "Model: \"sequential\"\n",
      "_________________________________________________________________\n",
      "Layer (type)                 Output Shape              Param #   \n",
      "=================================================================\n",
      "lstm (LSTM)                  (None, 50)                10400     \n",
      "_________________________________________________________________\n",
      "dense (Dense)                (None, 46)                2346      \n",
      "_________________________________________________________________\n",
      "activation (Activation)      (None, 46)                0         \n",
      "=================================================================\n",
      "Total params: 12,746\n",
      "Trainable params: 12,746\n",
      "Non-trainable params: 0\n",
      "_________________________________________________________________\n"
     ]
    }
   ],
   "source": [
    "model = lstm()\n",
    "\n",
    "model.summary()"
   ]
  },
  {
   "cell_type": "code",
   "execution_count": 34,
   "metadata": {},
   "outputs": [
    {
     "name": "stdout",
     "output_type": "stream",
     "text": [
      "Train on 1116 samples, validate on 279 samples\n",
      "Epoch 1/100\n",
      "1116/1116 [==============================] - 3s 3ms/sample - loss: 2.9901 - accuracy: 0.5842 - val_loss: 1.6242 - val_accuracy: 0.6989\n",
      "Epoch 2/100\n",
      "1116/1116 [==============================] - 1s 817us/sample - loss: 1.3157 - accuracy: 0.7088 - val_loss: 1.1230 - val_accuracy: 0.7240\n",
      "Epoch 3/100\n",
      "1116/1116 [==============================] - 1s 748us/sample - loss: 1.1945 - accuracy: 0.7124 - val_loss: 1.1037 - val_accuracy: 0.7240\n",
      "Epoch 4/100\n",
      "1116/1116 [==============================] - 1s 760us/sample - loss: 1.1664 - accuracy: 0.7124 - val_loss: 1.0739 - val_accuracy: 0.7240\n",
      "Epoch 5/100\n",
      "1116/1116 [==============================] - 1s 1ms/sample - loss: 1.1425 - accuracy: 0.7124 - val_loss: 1.0589 - val_accuracy: 0.7240\n",
      "Epoch 6/100\n",
      "1116/1116 [==============================] - 1s 749us/sample - loss: 1.1080 - accuracy: 0.7124 - val_loss: 0.9762 - val_accuracy: 0.7240\n",
      "Epoch 7/100\n",
      "1116/1116 [==============================] - 1s 741us/sample - loss: 1.0000 - accuracy: 0.7437 - val_loss: 0.9567 - val_accuracy: 0.7885\n",
      "Epoch 8/100\n",
      "1116/1116 [==============================] - 1s 773us/sample - loss: 0.9405 - accuracy: 0.7858 - val_loss: 0.8412 - val_accuracy: 0.8136\n",
      "Epoch 9/100\n",
      "1116/1116 [==============================] - 1s 760us/sample - loss: 0.9080 - accuracy: 0.7930 - val_loss: 0.8057 - val_accuracy: 0.8244\n",
      "Epoch 10/100\n",
      "1116/1116 [==============================] - 1s 758us/sample - loss: 0.8750 - accuracy: 0.8002 - val_loss: 0.8755 - val_accuracy: 0.7742\n",
      "Epoch 11/100\n",
      "1116/1116 [==============================] - 1s 763us/sample - loss: 0.8798 - accuracy: 0.7858 - val_loss: 0.7767 - val_accuracy: 0.8280\n",
      "Epoch 12/100\n",
      "1116/1116 [==============================] - 1s 810us/sample - loss: 0.8374 - accuracy: 0.7993 - val_loss: 0.7490 - val_accuracy: 0.8280\n",
      "Epoch 13/100\n",
      "1116/1116 [==============================] - 1s 902us/sample - loss: 0.8123 - accuracy: 0.8100 - val_loss: 0.7624 - val_accuracy: 0.8172\n",
      "Epoch 14/100\n",
      "1116/1116 [==============================] - 1s 773us/sample - loss: 0.8062 - accuracy: 0.8073 - val_loss: 0.7634 - val_accuracy: 0.8172\n",
      "Epoch 15/100\n",
      "1116/1116 [==============================] - 1s 778us/sample - loss: 0.8294 - accuracy: 0.8002 - val_loss: 0.7421 - val_accuracy: 0.8351\n",
      "Epoch 16/100\n",
      "1116/1116 [==============================] - 1s 757us/sample - loss: 0.8006 - accuracy: 0.8181 - val_loss: 0.7340 - val_accuracy: 0.8280\n",
      "Epoch 17/100\n",
      "1116/1116 [==============================] - 1s 756us/sample - loss: 0.7788 - accuracy: 0.8127 - val_loss: 0.7351 - val_accuracy: 0.8315\n",
      "Epoch 18/100\n",
      "1116/1116 [==============================] - 1s 748us/sample - loss: 0.7815 - accuracy: 0.8136 - val_loss: 0.7221 - val_accuracy: 0.8244\n",
      "Epoch 19/100\n",
      "1116/1116 [==============================] - 1s 764us/sample - loss: 0.7560 - accuracy: 0.8190 - val_loss: 0.7044 - val_accuracy: 0.8387\n",
      "Epoch 20/100\n",
      "1116/1116 [==============================] - 1s 744us/sample - loss: 0.7435 - accuracy: 0.8226 - val_loss: 0.7020 - val_accuracy: 0.8423\n",
      "Epoch 21/100\n",
      "1116/1116 [==============================] - 1s 756us/sample - loss: 0.7431 - accuracy: 0.8217 - val_loss: 0.6962 - val_accuracy: 0.8423\n",
      "Epoch 22/100\n",
      "1116/1116 [==============================] - 1s 755us/sample - loss: 0.7380 - accuracy: 0.8226 - val_loss: 0.7061 - val_accuracy: 0.8280\n",
      "Epoch 23/100\n",
      "1116/1116 [==============================] - 1s 774us/sample - loss: 0.7296 - accuracy: 0.8181 - val_loss: 0.7042 - val_accuracy: 0.8423\n",
      "Epoch 24/100\n",
      "1116/1116 [==============================] - 1s 761us/sample - loss: 0.7206 - accuracy: 0.8235 - val_loss: 0.6829 - val_accuracy: 0.8459\n",
      "Epoch 25/100\n",
      "1116/1116 [==============================] - 1s 721us/sample - loss: 0.7324 - accuracy: 0.8172 - val_loss: 0.7049 - val_accuracy: 0.8244\n",
      "Epoch 26/100\n",
      "1116/1116 [==============================] - 1s 751us/sample - loss: 0.7244 - accuracy: 0.8235 - val_loss: 0.7131 - val_accuracy: 0.8172\n",
      "Epoch 27/100\n",
      "1116/1116 [==============================] - 1s 743us/sample - loss: 0.7118 - accuracy: 0.8217 - val_loss: 0.6821 - val_accuracy: 0.8459\n",
      "Epoch 28/100\n",
      "1116/1116 [==============================] - 1s 757us/sample - loss: 0.7115 - accuracy: 0.8226 - val_loss: 0.6834 - val_accuracy: 0.8459\n",
      "Epoch 29/100\n",
      "1116/1116 [==============================] - 1s 755us/sample - loss: 0.7013 - accuracy: 0.8235 - val_loss: 0.6797 - val_accuracy: 0.8459\n",
      "Epoch 30/100\n",
      "1116/1116 [==============================] - 1s 754us/sample - loss: 0.6915 - accuracy: 0.8297 - val_loss: 0.7293 - val_accuracy: 0.8208\n",
      "Epoch 31/100\n",
      "1116/1116 [==============================] - 1s 795us/sample - loss: 0.7054 - accuracy: 0.8208 - val_loss: 0.6809 - val_accuracy: 0.8423\n",
      "Epoch 32/100\n",
      "1116/1116 [==============================] - 1s 805us/sample - loss: 0.6922 - accuracy: 0.8280 - val_loss: 0.6682 - val_accuracy: 0.8602\n",
      "Epoch 33/100\n",
      "1116/1116 [==============================] - 1s 777us/sample - loss: 0.7028 - accuracy: 0.8280 - val_loss: 0.6799 - val_accuracy: 0.8566\n",
      "Epoch 34/100\n",
      "1116/1116 [==============================] - 1s 787us/sample - loss: 0.6765 - accuracy: 0.8369 - val_loss: 0.6640 - val_accuracy: 0.8602\n",
      "Epoch 35/100\n",
      "1116/1116 [==============================] - 1s 804us/sample - loss: 0.6859 - accuracy: 0.8324 - val_loss: 0.6771 - val_accuracy: 0.8495\n",
      "Epoch 36/100\n",
      "1116/1116 [==============================] - 1s 754us/sample - loss: 0.6681 - accuracy: 0.8360 - val_loss: 0.6692 - val_accuracy: 0.8638\n",
      "Epoch 37/100\n",
      "1116/1116 [==============================] - 1s 734us/sample - loss: 0.6696 - accuracy: 0.8378 - val_loss: 0.6647 - val_accuracy: 0.8459\n",
      "Epoch 38/100\n",
      "1116/1116 [==============================] - 1s 738us/sample - loss: 0.6694 - accuracy: 0.8333 - val_loss: 0.6719 - val_accuracy: 0.8495\n",
      "Epoch 39/100\n",
      "1116/1116 [==============================] - 1s 734us/sample - loss: 0.6477 - accuracy: 0.8405 - val_loss: 0.6589 - val_accuracy: 0.8674\n",
      "Epoch 40/100\n",
      "1116/1116 [==============================] - 1s 701us/sample - loss: 0.6521 - accuracy: 0.8351 - val_loss: 0.6590 - val_accuracy: 0.8602\n",
      "Epoch 41/100\n",
      "1116/1116 [==============================] - 1s 700us/sample - loss: 0.6355 - accuracy: 0.8378 - val_loss: 0.6662 - val_accuracy: 0.8530\n",
      "Epoch 42/100\n",
      "1116/1116 [==============================] - 1s 729us/sample - loss: 0.6277 - accuracy: 0.8396 - val_loss: 0.6504 - val_accuracy: 0.8638\n",
      "Epoch 43/100\n",
      "1116/1116 [==============================] - 1s 708us/sample - loss: 0.6207 - accuracy: 0.8405 - val_loss: 0.6476 - val_accuracy: 0.8710\n",
      "Epoch 44/100\n",
      "1116/1116 [==============================] - 1s 700us/sample - loss: 0.6207 - accuracy: 0.8414 - val_loss: 0.6754 - val_accuracy: 0.8602\n",
      "Epoch 45/100\n",
      "1116/1116 [==============================] - 1s 725us/sample - loss: 0.6282 - accuracy: 0.8414 - val_loss: 0.6641 - val_accuracy: 0.8530\n",
      "Epoch 46/100\n",
      "1116/1116 [==============================] - 1s 700us/sample - loss: 0.6074 - accuracy: 0.8459 - val_loss: 0.6675 - val_accuracy: 0.8566\n",
      "Epoch 47/100\n",
      "1116/1116 [==============================] - 1s 716us/sample - loss: 0.6111 - accuracy: 0.8423 - val_loss: 0.6441 - val_accuracy: 0.8710\n",
      "Epoch 48/100\n",
      "1116/1116 [==============================] - 1s 720us/sample - loss: 0.6013 - accuracy: 0.8432 - val_loss: 0.6664 - val_accuracy: 0.8566\n",
      "Epoch 49/100\n",
      "1116/1116 [==============================] - 1s 728us/sample - loss: 0.5945 - accuracy: 0.8486 - val_loss: 0.6430 - val_accuracy: 0.8638\n",
      "Epoch 50/100\n",
      "1116/1116 [==============================] - 1s 734us/sample - loss: 0.6082 - accuracy: 0.8450 - val_loss: 0.6455 - val_accuracy: 0.8674\n",
      "Epoch 51/100\n",
      "1116/1116 [==============================] - 1s 707us/sample - loss: 0.5771 - accuracy: 0.8504 - val_loss: 0.6548 - val_accuracy: 0.8566\n",
      "Epoch 52/100\n",
      "1116/1116 [==============================] - 1s 725us/sample - loss: 0.5762 - accuracy: 0.8522 - val_loss: 0.7472 - val_accuracy: 0.8208\n",
      "Epoch 53/100\n",
      "1116/1116 [==============================] - 1s 713us/sample - loss: 0.6363 - accuracy: 0.8405 - val_loss: 0.6911 - val_accuracy: 0.8495\n",
      "Epoch 54/100\n",
      "1116/1116 [==============================] - 1s 723us/sample - loss: 0.6039 - accuracy: 0.8432 - val_loss: 0.6329 - val_accuracy: 0.8674\n",
      "Epoch 55/100\n"
     ]
    },
    {
     "name": "stdout",
     "output_type": "stream",
     "text": [
      "1116/1116 [==============================] - 1s 722us/sample - loss: 0.5788 - accuracy: 0.8495 - val_loss: 0.6370 - val_accuracy: 0.8638\n",
      "Epoch 56/100\n",
      "1116/1116 [==============================] - 1s 699us/sample - loss: 0.5491 - accuracy: 0.8557 - val_loss: 0.6394 - val_accuracy: 0.8566\n",
      "Epoch 57/100\n",
      "1116/1116 [==============================] - 1s 708us/sample - loss: 0.5556 - accuracy: 0.8566 - val_loss: 0.6372 - val_accuracy: 0.8638\n",
      "Epoch 58/100\n",
      "1116/1116 [==============================] - 1s 717us/sample - loss: 0.5577 - accuracy: 0.8495 - val_loss: 0.6598 - val_accuracy: 0.8530\n",
      "Epoch 59/100\n",
      "1116/1116 [==============================] - 1s 738us/sample - loss: 0.5613 - accuracy: 0.8575 - val_loss: 0.6280 - val_accuracy: 0.8638\n",
      "Epoch 60/100\n",
      "1116/1116 [==============================] - 1s 709us/sample - loss: 0.5474 - accuracy: 0.8530 - val_loss: 0.6500 - val_accuracy: 0.8566\n",
      "Epoch 61/100\n",
      "1116/1116 [==============================] - 1s 711us/sample - loss: 0.5426 - accuracy: 0.8566 - val_loss: 0.6408 - val_accuracy: 0.8710\n",
      "Epoch 62/100\n",
      "1116/1116 [==============================] - 1s 712us/sample - loss: 0.5248 - accuracy: 0.8611 - val_loss: 0.6398 - val_accuracy: 0.8602\n",
      "Epoch 63/100\n",
      "1116/1116 [==============================] - 1s 717us/sample - loss: 0.5267 - accuracy: 0.8575 - val_loss: 0.6361 - val_accuracy: 0.8674\n",
      "Epoch 64/100\n",
      "1116/1116 [==============================] - 1s 712us/sample - loss: 0.5338 - accuracy: 0.8557 - val_loss: 0.6501 - val_accuracy: 0.8638\n",
      "Epoch 65/100\n",
      "1116/1116 [==============================] - 1s 705us/sample - loss: 0.5395 - accuracy: 0.8566 - val_loss: 0.6480 - val_accuracy: 0.8638\n",
      "Epoch 66/100\n",
      "1116/1116 [==============================] - 1s 710us/sample - loss: 0.4970 - accuracy: 0.8683 - val_loss: 0.6447 - val_accuracy: 0.8674\n",
      "Epoch 67/100\n",
      "1116/1116 [==============================] - 1s 710us/sample - loss: 0.4898 - accuracy: 0.8683 - val_loss: 0.6478 - val_accuracy: 0.8674\n",
      "Epoch 68/100\n",
      "1116/1116 [==============================] - 1s 696us/sample - loss: 0.4858 - accuracy: 0.8728 - val_loss: 0.6427 - val_accuracy: 0.8638\n",
      "Epoch 69/100\n",
      "1116/1116 [==============================] - 1s 711us/sample - loss: 0.5027 - accuracy: 0.8638 - val_loss: 0.6486 - val_accuracy: 0.8602\n",
      "Epoch 70/100\n",
      "1116/1116 [==============================] - 1s 888us/sample - loss: 0.4800 - accuracy: 0.8692 - val_loss: 0.6337 - val_accuracy: 0.8638\n",
      "Epoch 71/100\n",
      "1116/1116 [==============================] - 1s 798us/sample - loss: 0.4836 - accuracy: 0.8656 - val_loss: 0.6600 - val_accuracy: 0.8638\n",
      "Epoch 72/100\n",
      "1116/1116 [==============================] - 1s 870us/sample - loss: 0.4924 - accuracy: 0.8611 - val_loss: 0.6461 - val_accuracy: 0.8674\n",
      "Epoch 73/100\n",
      "1116/1116 [==============================] - 1s 764us/sample - loss: 0.5020 - accuracy: 0.8683 - val_loss: 0.6808 - val_accuracy: 0.8459\n",
      "Epoch 74/100\n",
      "1116/1116 [==============================] - 1s 757us/sample - loss: 0.4779 - accuracy: 0.8674 - val_loss: 0.6573 - val_accuracy: 0.8602\n",
      "Epoch 75/100\n",
      "1116/1116 [==============================] - 1s 759us/sample - loss: 0.4591 - accuracy: 0.8665 - val_loss: 0.6978 - val_accuracy: 0.8459\n",
      "Epoch 76/100\n",
      "1116/1116 [==============================] - 1s 746us/sample - loss: 0.5378 - accuracy: 0.8539 - val_loss: 0.6860 - val_accuracy: 0.8459\n",
      "Epoch 77/100\n",
      "1116/1116 [==============================] - 1s 756us/sample - loss: 0.5088 - accuracy: 0.8566 - val_loss: 0.6807 - val_accuracy: 0.8638\n",
      "Epoch 78/100\n",
      "1116/1116 [==============================] - 1s 798us/sample - loss: 0.4754 - accuracy: 0.8674 - val_loss: 0.6511 - val_accuracy: 0.8638\n",
      "Epoch 79/100\n",
      "1116/1116 [==============================] - 1s 767us/sample - loss: 0.4484 - accuracy: 0.8772 - val_loss: 0.6469 - val_accuracy: 0.8566\n",
      "Epoch 80/100\n",
      "1116/1116 [==============================] - 1s 761us/sample - loss: 0.4307 - accuracy: 0.8808 - val_loss: 0.6722 - val_accuracy: 0.8530\n",
      "Epoch 81/100\n",
      "1116/1116 [==============================] - 1s 767us/sample - loss: 0.4578 - accuracy: 0.8737 - val_loss: 0.6580 - val_accuracy: 0.8566\n",
      "Epoch 82/100\n",
      "1116/1116 [==============================] - 1s 733us/sample - loss: 0.4311 - accuracy: 0.8763 - val_loss: 0.6871 - val_accuracy: 0.8495\n",
      "Epoch 83/100\n",
      "1116/1116 [==============================] - 1s 760us/sample - loss: 0.4331 - accuracy: 0.8719 - val_loss: 0.6470 - val_accuracy: 0.8638\n",
      "Epoch 84/100\n",
      "1116/1116 [==============================] - 1s 763us/sample - loss: 0.4358 - accuracy: 0.8781 - val_loss: 0.6732 - val_accuracy: 0.8602\n",
      "Epoch 85/100\n",
      "1116/1116 [==============================] - 1s 779us/sample - loss: 0.4437 - accuracy: 0.8701 - val_loss: 0.6443 - val_accuracy: 0.8602\n",
      "Epoch 86/100\n",
      "1116/1116 [==============================] - 1s 730us/sample - loss: 0.4178 - accuracy: 0.8844 - val_loss: 0.6811 - val_accuracy: 0.8495\n",
      "Epoch 87/100\n",
      "1116/1116 [==============================] - 1s 789us/sample - loss: 0.4585 - accuracy: 0.8737 - val_loss: 0.6616 - val_accuracy: 0.8530\n",
      "Epoch 88/100\n",
      "1116/1116 [==============================] - 1s 753us/sample - loss: 0.4506 - accuracy: 0.8665 - val_loss: 0.6863 - val_accuracy: 0.8423\n",
      "Epoch 89/100\n",
      "1116/1116 [==============================] - 1s 793us/sample - loss: 0.4403 - accuracy: 0.8683 - val_loss: 0.6622 - val_accuracy: 0.8495\n",
      "Epoch 90/100\n",
      "1116/1116 [==============================] - 1s 771us/sample - loss: 0.4089 - accuracy: 0.8862 - val_loss: 0.6465 - val_accuracy: 0.8530\n",
      "Epoch 91/100\n",
      "1116/1116 [==============================] - 1s 758us/sample - loss: 0.3951 - accuracy: 0.8889 - val_loss: 0.6813 - val_accuracy: 0.8566\n",
      "Epoch 92/100\n",
      "1116/1116 [==============================] - 1s 764us/sample - loss: 0.3918 - accuracy: 0.8880 - val_loss: 0.6420 - val_accuracy: 0.8602\n",
      "Epoch 93/100\n",
      "1116/1116 [==============================] - 1s 861us/sample - loss: 0.3847 - accuracy: 0.8978 - val_loss: 0.6754 - val_accuracy: 0.8566\n",
      "Epoch 94/100\n",
      "1116/1116 [==============================] - 1s 765us/sample - loss: 0.3771 - accuracy: 0.8916 - val_loss: 0.6389 - val_accuracy: 0.8566\n",
      "Epoch 95/100\n",
      "1116/1116 [==============================] - 1s 749us/sample - loss: 0.3928 - accuracy: 0.8871 - val_loss: 0.6506 - val_accuracy: 0.8566\n",
      "Epoch 96/100\n",
      "1116/1116 [==============================] - 1s 733us/sample - loss: 0.4253 - accuracy: 0.8799 - val_loss: 0.7092 - val_accuracy: 0.8459\n",
      "Epoch 97/100\n",
      "1116/1116 [==============================] - 1s 728us/sample - loss: 0.4108 - accuracy: 0.8763 - val_loss: 0.6898 - val_accuracy: 0.8530\n",
      "Epoch 98/100\n",
      "1116/1116 [==============================] - 1s 745us/sample - loss: 0.3923 - accuracy: 0.8898 - val_loss: 0.6664 - val_accuracy: 0.8530\n",
      "Epoch 99/100\n",
      "1116/1116 [==============================] - 1s 744us/sample - loss: 0.3838 - accuracy: 0.8871 - val_loss: 0.6654 - val_accuracy: 0.8530\n",
      "Epoch 100/100\n",
      "1116/1116 [==============================] - 1s 821us/sample - loss: 0.3577 - accuracy: 0.8987 - val_loss: 0.6458 - val_accuracy: 0.8638\n"
     ]
    }
   ],
   "source": [
    "history = model.fit(X_train, y_train, verbose=1, batch_size=32, epochs=100, validation_split=0.2)"
   ]
  },
  {
   "cell_type": "code",
   "execution_count": 35,
   "metadata": {},
   "outputs": [
    {
     "data": {
      "image/png": "[encoded data removed]",
      "text/plain": [
       "<Figure size 432x288 with 1 Axes>"
      ]
     },
     "metadata": {
      "needs_background": "light"
     },
     "output_type": "display_data"
    }
   ],
   "source": [
    "plt.plot(history.history['accuracy'])\n",
    "plt.plot(history.history['val_accuracy'])\n",
    "plt.legend(['Training', 'Validation'])\n",
    "\n",
    "plt.show()"
   ]
  },
  {
   "cell_type": "code",
   "execution_count": 36,
   "metadata": {},
   "outputs": [
    {
     "data": {
      "text/plain": [
       "[0.820925746218788, 0.8464107]"
      ]
     },
     "execution_count": 36,
     "metadata": {},
     "output_type": "execute_result"
    }
   ],
   "source": [
    "results = model.evaluate(X_test, y_test, verbose=0)\n",
    "results"
   ]
  },
  {
   "cell_type": "code",
   "execution_count": 37,
   "metadata": {},
   "outputs": [
    {
     "data": {
      "text/plain": [
       "['loss', 'accuracy']"
      ]
     },
     "execution_count": 37,
     "metadata": {},
     "output_type": "execute_result"
    }
   ],
   "source": [
    "model.metrics_names"
   ]
  },
  {
   "cell_type": "markdown",
   "metadata": {},
   "source": [
    "## 4. Stacked LSTM\n",
    "- LSTM layers can be stacked as well"
   ]
  },
  {
   "cell_type": "code",
   "execution_count": 63,
   "metadata": {},
   "outputs": [],
   "source": [
    "def stacked_lstm():\n",
    "    model = Sequential()\n",
    "    model.add(LSTM(50, input_shape = (49,1), return_sequences = True))\n",
    "    model.add(LSTM(50, return_sequences = False))\n",
    "    model.add(Dense(46))\n",
    "    model.add(Activation('softmax'))\n",
    "    \n",
    "    adam = optimizers.Adam(lr = 0.001)\n",
    "    model.compile(loss = 'categorical_crossentropy', optimizer = adam, metrics = ['accuracy'])\n",
    "    \n",
    "    return model"
   ]
  },
  {
   "cell_type": "code",
   "execution_count": 64,
   "metadata": {},
   "outputs": [],
   "source": [
    "tf.keras.backend.clear_session()"
   ]
  },
  {
   "cell_type": "code",
   "execution_count": 65,
   "metadata": {},
   "outputs": [
    {
     "name": "stdout",
     "output_type": "stream",
     "text": [
      "Model: \"sequential\"\n",
      "_________________________________________________________________\n",
      "Layer (type)                 Output Shape              Param #   \n",
      "=================================================================\n",
      "lstm (LSTM)                  (None, 49, 50)            10400     \n",
      "_________________________________________________________________\n",
      "lstm_1 (LSTM)                (None, 50)                20200     \n",
      "_________________________________________________________________\n",
      "dense (Dense)                (None, 46)                2346      \n",
      "_________________________________________________________________\n",
      "activation (Activation)      (None, 46)                0         \n",
      "=================================================================\n",
      "Total params: 32,946\n",
      "Trainable params: 32,946\n",
      "Non-trainable params: 0\n",
      "_________________________________________________________________\n"
     ]
    }
   ],
   "source": [
    "model = stacked_lstm()\n",
    "\n",
    "model.summary()"
   ]
  },
  {
   "cell_type": "code",
   "execution_count": 66,
   "metadata": {},
   "outputs": [
    {
     "name": "stdout",
     "output_type": "stream",
     "text": [
      "Train on 1116 samples, validate on 279 samples\n",
      "Epoch 1/100\n",
      "1116/1116 [==============================] - 6s 5ms/sample - loss: 2.1774 - accuracy: 0.6837 - val_loss: 1.2362 - val_accuracy: 0.7240\n",
      "Epoch 2/100\n",
      "1116/1116 [==============================] - 2s 1ms/sample - loss: 1.2369 - accuracy: 0.7124 - val_loss: 1.1237 - val_accuracy: 0.7240\n",
      "Epoch 3/100\n",
      "1116/1116 [==============================] - 2s 1ms/sample - loss: 1.1866 - accuracy: 0.7124 - val_loss: 1.0954 - val_accuracy: 0.7240\n",
      "Epoch 4/100\n",
      "1116/1116 [==============================] - 2s 1ms/sample - loss: 1.1639 - accuracy: 0.7124 - val_loss: 1.0695 - val_accuracy: 0.7240\n",
      "Epoch 5/100\n",
      "1116/1116 [==============================] - 2s 1ms/sample - loss: 1.1306 - accuracy: 0.7124 - val_loss: 1.0515 - val_accuracy: 0.7240\n",
      "Epoch 6/100\n",
      "1116/1116 [==============================] - 2s 1ms/sample - loss: 1.1079 - accuracy: 0.7124 - val_loss: 1.0127 - val_accuracy: 0.7240\n",
      "Epoch 7/100\n",
      "1116/1116 [==============================] - 2s 1ms/sample - loss: 1.0104 - accuracy: 0.7312 - val_loss: 0.8419 - val_accuracy: 0.8172\n",
      "Epoch 8/100\n",
      "1116/1116 [==============================] - 2s 1ms/sample - loss: 0.9180 - accuracy: 0.7670 - val_loss: 0.8926 - val_accuracy: 0.7921\n",
      "Epoch 9/100\n",
      "1116/1116 [==============================] - 2s 1ms/sample - loss: 0.9047 - accuracy: 0.7876 - val_loss: 0.8204 - val_accuracy: 0.7993\n",
      "Epoch 10/100\n",
      "1116/1116 [==============================] - 2s 1ms/sample - loss: 0.8566 - accuracy: 0.7876 - val_loss: 0.8244 - val_accuracy: 0.7885\n",
      "Epoch 11/100\n",
      "1116/1116 [==============================] - 2s 1ms/sample - loss: 0.8632 - accuracy: 0.7796 - val_loss: 0.8312 - val_accuracy: 0.7849\n",
      "Epoch 12/100\n",
      "1116/1116 [==============================] - 2s 1ms/sample - loss: 0.8561 - accuracy: 0.7849 - val_loss: 0.8804 - val_accuracy: 0.7563\n",
      "Epoch 13/100\n",
      "1116/1116 [==============================] - 2s 1ms/sample - loss: 0.8452 - accuracy: 0.7885 - val_loss: 0.8297 - val_accuracy: 0.7921\n",
      "Epoch 14/100\n",
      "1116/1116 [==============================] - 2s 1ms/sample - loss: 0.8391 - accuracy: 0.7885 - val_loss: 0.8050 - val_accuracy: 0.8029\n",
      "Epoch 15/100\n",
      "1116/1116 [==============================] - 2s 1ms/sample - loss: 0.8266 - accuracy: 0.7912 - val_loss: 0.7887 - val_accuracy: 0.8280\n",
      "Epoch 16/100\n",
      "1116/1116 [==============================] - 2s 1ms/sample - loss: 0.8147 - accuracy: 0.7957 - val_loss: 0.7873 - val_accuracy: 0.8351\n",
      "Epoch 17/100\n",
      "1116/1116 [==============================] - 2s 2ms/sample - loss: 0.8089 - accuracy: 0.7993 - val_loss: 0.7924 - val_accuracy: 0.8029\n",
      "Epoch 18/100\n",
      "1116/1116 [==============================] - 2s 2ms/sample - loss: 0.8239 - accuracy: 0.7841 - val_loss: 0.8311 - val_accuracy: 0.7921\n",
      "Epoch 19/100\n",
      "1116/1116 [==============================] - 2s 2ms/sample - loss: 0.8028 - accuracy: 0.7930 - val_loss: 0.7866 - val_accuracy: 0.8136\n",
      "Epoch 20/100\n",
      "1116/1116 [==============================] - 2s 1ms/sample - loss: 0.7934 - accuracy: 0.7930 - val_loss: 0.7841 - val_accuracy: 0.8100\n",
      "Epoch 21/100\n",
      "1116/1116 [==============================] - 2s 1ms/sample - loss: 0.7931 - accuracy: 0.7975 - val_loss: 0.7768 - val_accuracy: 0.8244\n",
      "Epoch 22/100\n",
      "1116/1116 [==============================] - 2s 2ms/sample - loss: 0.7811 - accuracy: 0.8002 - val_loss: 0.7743 - val_accuracy: 0.8244\n",
      "Epoch 23/100\n",
      "1116/1116 [==============================] - 2s 1ms/sample - loss: 0.7743 - accuracy: 0.8020 - val_loss: 0.7690 - val_accuracy: 0.8208\n",
      "Epoch 24/100\n",
      "1116/1116 [==============================] - 2s 1ms/sample - loss: 0.7735 - accuracy: 0.8020 - val_loss: 0.7705 - val_accuracy: 0.8208\n",
      "Epoch 25/100\n",
      "1116/1116 [==============================] - 2s 1ms/sample - loss: 0.7701 - accuracy: 0.8029 - val_loss: 0.7730 - val_accuracy: 0.8280\n",
      "Epoch 26/100\n",
      "1116/1116 [==============================] - 2s 1ms/sample - loss: 0.7547 - accuracy: 0.8109 - val_loss: 0.7739 - val_accuracy: 0.8029\n",
      "Epoch 27/100\n",
      "1116/1116 [==============================] - 2s 1ms/sample - loss: 0.7670 - accuracy: 0.8047 - val_loss: 0.7625 - val_accuracy: 0.8315\n",
      "Epoch 28/100\n",
      "1116/1116 [==============================] - 2s 1ms/sample - loss: 0.7567 - accuracy: 0.8109 - val_loss: 0.7751 - val_accuracy: 0.8029\n",
      "Epoch 29/100\n",
      "1116/1116 [==============================] - 2s 1ms/sample - loss: 0.7447 - accuracy: 0.8172 - val_loss: 0.7435 - val_accuracy: 0.8351\n",
      "Epoch 30/100\n",
      "1116/1116 [==============================] - 2s 1ms/sample - loss: 0.7512 - accuracy: 0.8145 - val_loss: 0.7596 - val_accuracy: 0.8351\n",
      "Epoch 31/100\n",
      "1116/1116 [==============================] - 2s 1ms/sample - loss: 0.7541 - accuracy: 0.8109 - val_loss: 0.7828 - val_accuracy: 0.8065\n",
      "Epoch 32/100\n",
      "1116/1116 [==============================] - 2s 1ms/sample - loss: 0.7416 - accuracy: 0.8136 - val_loss: 0.7667 - val_accuracy: 0.8065\n",
      "Epoch 33/100\n",
      "1116/1116 [==============================] - 2s 1ms/sample - loss: 0.7336 - accuracy: 0.8199 - val_loss: 0.7566 - val_accuracy: 0.8280\n",
      "Epoch 34/100\n",
      "1116/1116 [==============================] - 2s 1ms/sample - loss: 0.7381 - accuracy: 0.8172 - val_loss: 0.7404 - val_accuracy: 0.8280\n",
      "Epoch 35/100\n",
      "1116/1116 [==============================] - 2s 2ms/sample - loss: 0.7262 - accuracy: 0.8190 - val_loss: 0.7445 - val_accuracy: 0.8351\n",
      "Epoch 36/100\n",
      "1116/1116 [==============================] - 2s 2ms/sample - loss: 0.7256 - accuracy: 0.8253 - val_loss: 0.7430 - val_accuracy: 0.8280\n",
      "Epoch 37/100\n",
      "1116/1116 [==============================] - 2s 1ms/sample - loss: 0.7239 - accuracy: 0.8199 - val_loss: 0.7373 - val_accuracy: 0.8423\n",
      "Epoch 38/100\n",
      "1116/1116 [==============================] - 2s 1ms/sample - loss: 0.7109 - accuracy: 0.8226 - val_loss: 0.7289 - val_accuracy: 0.8351\n",
      "Epoch 39/100\n",
      "1116/1116 [==============================] - 2s 1ms/sample - loss: 0.6949 - accuracy: 0.8253 - val_loss: 0.7046 - val_accuracy: 0.8459\n",
      "Epoch 40/100\n",
      "1116/1116 [==============================] - 2s 1ms/sample - loss: 0.6996 - accuracy: 0.8244 - val_loss: 0.7067 - val_accuracy: 0.8423\n",
      "Epoch 41/100\n",
      "1116/1116 [==============================] - 2s 2ms/sample - loss: 0.6958 - accuracy: 0.8235 - val_loss: 0.7019 - val_accuracy: 0.8459\n",
      "Epoch 42/100\n",
      "1116/1116 [==============================] - 2s 1ms/sample - loss: 0.6809 - accuracy: 0.8253 - val_loss: 0.7093 - val_accuracy: 0.8423\n",
      "Epoch 43/100\n",
      "1116/1116 [==============================] - 2s 1ms/sample - loss: 0.6893 - accuracy: 0.8262 - val_loss: 0.6967 - val_accuracy: 0.8423\n",
      "Epoch 44/100\n",
      "1116/1116 [==============================] - 2s 1ms/sample - loss: 0.7033 - accuracy: 0.8244 - val_loss: 0.7350 - val_accuracy: 0.8423\n",
      "Epoch 45/100\n",
      "1116/1116 [==============================] - 2s 1ms/sample - loss: 0.6636 - accuracy: 0.8306 - val_loss: 0.6902 - val_accuracy: 0.8423\n",
      "Epoch 46/100\n",
      "1116/1116 [==============================] - 2s 1ms/sample - loss: 0.6561 - accuracy: 0.8280 - val_loss: 0.6990 - val_accuracy: 0.8423\n",
      "Epoch 47/100\n",
      "1116/1116 [==============================] - 2s 1ms/sample - loss: 0.6536 - accuracy: 0.8262 - val_loss: 0.6755 - val_accuracy: 0.8387\n",
      "Epoch 48/100\n",
      "1116/1116 [==============================] - 2s 1ms/sample - loss: 0.6696 - accuracy: 0.8217 - val_loss: 0.6918 - val_accuracy: 0.8315\n",
      "Epoch 49/100\n",
      "1116/1116 [==============================] - 2s 1ms/sample - loss: 0.6650 - accuracy: 0.8253 - val_loss: 0.7195 - val_accuracy: 0.8387\n",
      "Epoch 50/100\n",
      "1116/1116 [==============================] - 2s 1ms/sample - loss: 0.6752 - accuracy: 0.8208 - val_loss: 0.6992 - val_accuracy: 0.8423\n",
      "Epoch 51/100\n",
      "1116/1116 [==============================] - 2s 1ms/sample - loss: 0.6593 - accuracy: 0.8271 - val_loss: 0.6980 - val_accuracy: 0.8459\n",
      "Epoch 52/100\n",
      "1116/1116 [==============================] - 2s 1ms/sample - loss: 0.6511 - accuracy: 0.8280 - val_loss: 0.6662 - val_accuracy: 0.8495\n",
      "Epoch 53/100\n",
      "1116/1116 [==============================] - 2s 1ms/sample - loss: 0.6314 - accuracy: 0.8280 - val_loss: 0.6807 - val_accuracy: 0.8315\n",
      "Epoch 54/100\n",
      "1116/1116 [==============================] - 2s 1ms/sample - loss: 0.6553 - accuracy: 0.8262 - val_loss: 0.6823 - val_accuracy: 0.8387\n",
      "Epoch 55/100\n",
      "1116/1116 [==============================] - 2s 1ms/sample - loss: 0.6233 - accuracy: 0.8342 - val_loss: 0.6660 - val_accuracy: 0.8423\n",
      "Epoch 56/100\n"
     ]
    },
    {
     "name": "stdout",
     "output_type": "stream",
     "text": [
      "1116/1116 [==============================] - 2s 1ms/sample - loss: 0.6321 - accuracy: 0.8297 - val_loss: 0.6913 - val_accuracy: 0.8387\n",
      "Epoch 57/100\n",
      "1116/1116 [==============================] - 2s 1ms/sample - loss: 0.6415 - accuracy: 0.8315 - val_loss: 0.6709 - val_accuracy: 0.8423\n",
      "Epoch 58/100\n",
      "1116/1116 [==============================] - 2s 1ms/sample - loss: 0.6131 - accuracy: 0.8280 - val_loss: 0.6617 - val_accuracy: 0.8459\n",
      "Epoch 59/100\n",
      "1116/1116 [==============================] - 2s 1ms/sample - loss: 0.6052 - accuracy: 0.8342 - val_loss: 0.6706 - val_accuracy: 0.8459\n",
      "Epoch 60/100\n",
      "1116/1116 [==============================] - 2s 1ms/sample - loss: 0.6008 - accuracy: 0.8315 - val_loss: 0.7098 - val_accuracy: 0.8280\n",
      "Epoch 61/100\n",
      "1116/1116 [==============================] - 2s 1ms/sample - loss: 0.5969 - accuracy: 0.8333 - val_loss: 0.6539 - val_accuracy: 0.8530\n",
      "Epoch 62/100\n",
      "1116/1116 [==============================] - 2s 1ms/sample - loss: 0.5867 - accuracy: 0.8351 - val_loss: 0.6683 - val_accuracy: 0.8459\n",
      "Epoch 63/100\n",
      "1116/1116 [==============================] - 2s 1ms/sample - loss: 0.5806 - accuracy: 0.8360 - val_loss: 0.6888 - val_accuracy: 0.8459\n",
      "Epoch 64/100\n",
      "1116/1116 [==============================] - 2s 1ms/sample - loss: 0.5889 - accuracy: 0.8387 - val_loss: 0.6653 - val_accuracy: 0.8459\n",
      "Epoch 65/100\n",
      "1116/1116 [==============================] - 2s 1ms/sample - loss: 0.5608 - accuracy: 0.8423 - val_loss: 0.6504 - val_accuracy: 0.8495\n",
      "Epoch 66/100\n",
      "1116/1116 [==============================] - 2s 1ms/sample - loss: 0.5643 - accuracy: 0.8441 - val_loss: 0.6481 - val_accuracy: 0.8459\n",
      "Epoch 67/100\n",
      "1116/1116 [==============================] - 2s 1ms/sample - loss: 0.5849 - accuracy: 0.8333 - val_loss: 0.6776 - val_accuracy: 0.8351\n",
      "Epoch 68/100\n",
      "1116/1116 [==============================] - 2s 1ms/sample - loss: 0.5629 - accuracy: 0.8387 - val_loss: 0.6393 - val_accuracy: 0.8638\n",
      "Epoch 69/100\n",
      "1116/1116 [==============================] - 2s 1ms/sample - loss: 0.5506 - accuracy: 0.8504 - val_loss: 0.6535 - val_accuracy: 0.8423\n",
      "Epoch 70/100\n",
      "1116/1116 [==============================] - 2s 1ms/sample - loss: 0.5366 - accuracy: 0.8459 - val_loss: 0.7163 - val_accuracy: 0.8351\n",
      "Epoch 71/100\n",
      "1116/1116 [==============================] - 2s 1ms/sample - loss: 0.5631 - accuracy: 0.8342 - val_loss: 0.6581 - val_accuracy: 0.8495\n",
      "Epoch 72/100\n",
      "1116/1116 [==============================] - 2s 1ms/sample - loss: 0.5465 - accuracy: 0.8423 - val_loss: 0.6455 - val_accuracy: 0.8566\n",
      "Epoch 73/100\n",
      "1116/1116 [==============================] - 2s 1ms/sample - loss: 0.5364 - accuracy: 0.8513 - val_loss: 0.6472 - val_accuracy: 0.8710\n",
      "Epoch 74/100\n",
      "1116/1116 [==============================] - 2s 1ms/sample - loss: 0.5242 - accuracy: 0.8495 - val_loss: 0.6521 - val_accuracy: 0.8459\n",
      "Epoch 75/100\n",
      "1116/1116 [==============================] - 2s 1ms/sample - loss: 0.5319 - accuracy: 0.8530 - val_loss: 0.6278 - val_accuracy: 0.8530\n",
      "Epoch 76/100\n",
      "1116/1116 [==============================] - 2s 1ms/sample - loss: 0.5075 - accuracy: 0.8566 - val_loss: 0.6355 - val_accuracy: 0.8423\n",
      "Epoch 77/100\n",
      "1116/1116 [==============================] - 2s 1ms/sample - loss: 0.4904 - accuracy: 0.8602 - val_loss: 0.6410 - val_accuracy: 0.8602\n",
      "Epoch 78/100\n",
      "1116/1116 [==============================] - 2s 1ms/sample - loss: 0.4951 - accuracy: 0.8593 - val_loss: 0.6474 - val_accuracy: 0.8495\n",
      "Epoch 79/100\n",
      "1116/1116 [==============================] - 2s 1ms/sample - loss: 0.5231 - accuracy: 0.8468 - val_loss: 0.6371 - val_accuracy: 0.8423\n",
      "Epoch 80/100\n",
      "1116/1116 [==============================] - 2s 1ms/sample - loss: 0.4827 - accuracy: 0.8656 - val_loss: 0.6376 - val_accuracy: 0.8459\n",
      "Epoch 81/100\n",
      "1116/1116 [==============================] - 2s 1ms/sample - loss: 0.4660 - accuracy: 0.8674 - val_loss: 0.6302 - val_accuracy: 0.8566\n",
      "Epoch 82/100\n",
      "1116/1116 [==============================] - 2s 1ms/sample - loss: 0.4528 - accuracy: 0.8674 - val_loss: 0.6747 - val_accuracy: 0.8566\n",
      "Epoch 83/100\n",
      "1116/1116 [==============================] - 2s 1ms/sample - loss: 0.4626 - accuracy: 0.8638 - val_loss: 0.6346 - val_accuracy: 0.8602\n",
      "Epoch 84/100\n",
      "1116/1116 [==============================] - 2s 1ms/sample - loss: 0.4614 - accuracy: 0.8611 - val_loss: 0.6708 - val_accuracy: 0.8387\n",
      "Epoch 85/100\n",
      "1116/1116 [==============================] - 2s 1ms/sample - loss: 0.4634 - accuracy: 0.8719 - val_loss: 0.6455 - val_accuracy: 0.8495\n",
      "Epoch 86/100\n",
      "1116/1116 [==============================] - 2s 1ms/sample - loss: 0.4418 - accuracy: 0.8817 - val_loss: 0.6435 - val_accuracy: 0.8459\n",
      "Epoch 87/100\n",
      "1116/1116 [==============================] - 2s 1ms/sample - loss: 0.4358 - accuracy: 0.8728 - val_loss: 0.6534 - val_accuracy: 0.8459\n",
      "Epoch 88/100\n",
      "1116/1116 [==============================] - 2s 1ms/sample - loss: 0.4431 - accuracy: 0.8728 - val_loss: 0.6522 - val_accuracy: 0.8566\n",
      "Epoch 89/100\n",
      "1116/1116 [==============================] - 2s 1ms/sample - loss: 0.4359 - accuracy: 0.8746 - val_loss: 0.6422 - val_accuracy: 0.8602\n",
      "Epoch 90/100\n",
      "1116/1116 [==============================] - 2s 1ms/sample - loss: 0.4045 - accuracy: 0.8880 - val_loss: 0.6282 - val_accuracy: 0.8566\n",
      "Epoch 91/100\n",
      "1116/1116 [==============================] - 2s 1ms/sample - loss: 0.4067 - accuracy: 0.8853 - val_loss: 0.6488 - val_accuracy: 0.8530\n",
      "Epoch 92/100\n",
      "1116/1116 [==============================] - 2s 1ms/sample - loss: 0.3940 - accuracy: 0.8943 - val_loss: 0.6380 - val_accuracy: 0.8566\n",
      "Epoch 93/100\n",
      "1116/1116 [==============================] - 2s 1ms/sample - loss: 0.3821 - accuracy: 0.8952 - val_loss: 0.6168 - val_accuracy: 0.8602\n",
      "Epoch 94/100\n",
      "1116/1116 [==============================] - 2s 1ms/sample - loss: 0.4322 - accuracy: 0.8737 - val_loss: 0.6397 - val_accuracy: 0.8530\n",
      "Epoch 95/100\n",
      "1116/1116 [==============================] - 1s 1ms/sample - loss: 0.3989 - accuracy: 0.8952 - val_loss: 0.6648 - val_accuracy: 0.8387\n",
      "Epoch 96/100\n",
      "1116/1116 [==============================] - 2s 2ms/sample - loss: 0.3932 - accuracy: 0.8907 - val_loss: 0.6491 - val_accuracy: 0.8530\n",
      "Epoch 97/100\n",
      "1116/1116 [==============================] - 2s 2ms/sample - loss: 0.3852 - accuracy: 0.8952 - val_loss: 0.6430 - val_accuracy: 0.8602\n",
      "Epoch 98/100\n",
      "1116/1116 [==============================] - 2s 2ms/sample - loss: 0.3842 - accuracy: 0.8952 - val_loss: 0.6189 - val_accuracy: 0.8602\n",
      "Epoch 99/100\n",
      "1116/1116 [==============================] - 2s 2ms/sample - loss: 0.3649 - accuracy: 0.9059 - val_loss: 0.6024 - val_accuracy: 0.8710\n",
      "Epoch 100/100\n",
      "1116/1116 [==============================] - 2s 1ms/sample - loss: 0.3731 - accuracy: 0.9041 - val_loss: 0.6374 - val_accuracy: 0.8602\n"
     ]
    }
   ],
   "source": [
    "history = model.fit(X_train, y_train, verbose=1, batch_size=32, epochs=100, validation_split=0.2)"
   ]
  },
  {
   "cell_type": "code",
   "execution_count": 67,
   "metadata": {},
   "outputs": [
    {
     "data": {
      "image/png": "[encoded data removed]",
      "text/plain": [
       "<Figure size 432x288 with 1 Axes>"
      ]
     },
     "metadata": {
      "needs_background": "light"
     },
     "output_type": "display_data"
    }
   ],
   "source": [
    "plt.plot(history.history['accuracy'])\n",
    "plt.plot(history.history['val_accuracy'])\n",
    "plt.legend(['Training', 'Validation'])\n",
    "\n",
    "plt.show()"
   ]
  },
  {
   "cell_type": "code",
   "execution_count": 68,
   "metadata": {},
   "outputs": [
    {
     "data": {
      "text/plain": [
       "[0.7647697465845659, 0.8447412]"
      ]
     },
     "execution_count": 68,
     "metadata": {},
     "output_type": "execute_result"
    }
   ],
   "source": [
    "results = model.evaluate(X_test, y_test, verbose=0)\n",
    "results"
   ]
  },
  {
   "cell_type": "code",
   "execution_count": 69,
   "metadata": {},
   "outputs": [
    {
     "data": {
      "text/plain": [
       "['loss', 'accuracy']"
      ]
     },
     "execution_count": 69,
     "metadata": {},
     "output_type": "execute_result"
    }
   ],
   "source": [
    "model.metrics_names"
   ]
  },
  {
   "cell_type": "code",
   "execution_count": null,
   "metadata": {},
   "outputs": [],
   "source": []
  },
  {
   "cell_type": "code",
   "execution_count": null,
   "metadata": {},
   "outputs": [],
   "source": []
  }
 ],
 "metadata": {
  "kernelspec": {
   "display_name": "Python 3",
   "language": "python",
   "name": "python3"
  },
  "language_info": {
   "codemirror_mode": {
    "name": "ipython",
    "version": 3
   },
   "file_extension": ".py",
   "mimetype": "text/x-python",
   "name": "python",
   "nbconvert_exporter": "python",
   "pygments_lexer": "ipython3",
   "version": "3.6.8"
  }
 },
 "nbformat": 4,
 "nbformat_minor": 2
}
