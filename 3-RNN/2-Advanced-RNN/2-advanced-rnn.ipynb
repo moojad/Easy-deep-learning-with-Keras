{
 "cells": [
  {
   "cell_type": "code",
   "execution_count": 23,
   "metadata": {},
   "outputs": [],
   "source": [
    "import numpy as np\n",
    "import matplotlib.pyplot as plt\n",
    "\n",
    "import tensorflow as tf\n",
    "from tensorflow.keras.datasets import reuters\n",
    "from tensorflow.keras.preprocessing.sequence import pad_sequences\n",
    "from tensorflow.keras.utils import to_categorical"
   ]
  },
  {
   "cell_type": "code",
   "execution_count": 2,
   "metadata": {},
   "outputs": [],
   "source": [
    "# parameters for data load\n",
    "num_words = 30000\n",
    "maxlen = 50\n",
    "test_split = 0.3"
   ]
  },
  {
   "cell_type": "code",
   "execution_count": 3,
   "metadata": {},
   "outputs": [],
   "source": [
    "(X_train, y_train), (X_test, y_test) = reuters.load_data(num_words = num_words, maxlen = maxlen, test_split = test_split)"
   ]
  },
  {
   "cell_type": "code",
   "execution_count": 4,
   "metadata": {},
   "outputs": [],
   "source": [
    "# pad the sequences with zeros \n",
    "# padding parameter is set to 'post' => 0's are appended to end of sequences\n",
    "X_train = pad_sequences(X_train, padding = 'post')\n",
    "X_test = pad_sequences(X_test, padding = 'post')\n",
    "\n",
    "X_train = X_train.reshape((X_train.shape[0], X_train.shape[1], 1))\n",
    "X_test = X_test.reshape((X_test.shape[0], X_test.shape[1], 1))\n",
    "\n",
    "y_data = np.concatenate((y_train, y_test))\n",
    "y_data = to_categorical(y_data)\n",
    "y_train = y_data[:1395]\n",
    "y_test = y_data[1395:]"
   ]
  },
  {
   "cell_type": "code",
   "execution_count": 5,
   "metadata": {},
   "outputs": [
    {
     "name": "stdout",
     "output_type": "stream",
     "text": [
      "(1395, 49, 1)\n",
      "(599, 49, 1)\n",
      "(1395, 46)\n",
      "(599, 46)\n"
     ]
    }
   ],
   "source": [
    "print(X_train.shape)\n",
    "print(X_test.shape)\n",
    "print(y_train.shape)\n",
    "print(y_test.shape)"
   ]
  },
  {
   "cell_type": "markdown",
   "metadata": {},
   "source": [
    "## 1. Deep RNN\n",
    "- RNNs can be made deep, with multiple layers, like CNNs or MLPs\n",
    "- Beware that RNNs take long to train compared to CNNs"
   ]
  },
  {
   "cell_type": "code",
   "execution_count": 6,
   "metadata": {},
   "outputs": [],
   "source": [
    "from tensorflow.keras.models import Sequential\n",
    "from tensorflow.keras.layers import Dense, LSTM, Activation\n",
    "from tensorflow.keras import optimizers"
   ]
  },
  {
   "cell_type": "code",
   "execution_count": 7,
   "metadata": {},
   "outputs": [],
   "source": [
    "def deep_lstm():\n",
    "    model = Sequential()\n",
    "    model.add(LSTM(20, input_shape = (49,1), return_sequences = True))\n",
    "    model.add(LSTM(20, return_sequences = True))\n",
    "    model.add(LSTM(20, return_sequences = True))\n",
    "    model.add(LSTM(20, return_sequences = False))\n",
    "    model.add(Dense(46))\n",
    "    model.add(Activation('softmax'))\n",
    "    \n",
    "    adam = optimizers.Adam(lr = 0.001)\n",
    "    model.compile(loss = 'categorical_crossentropy', optimizer = adam, metrics = ['accuracy'])\n",
    "    \n",
    "    return model"
   ]
  },
  {
   "cell_type": "code",
   "execution_count": 8,
   "metadata": {
    "scrolled": true
   },
   "outputs": [
    {
     "name": "stdout",
     "output_type": "stream",
     "text": [
      "Model: \"sequential\"\n",
      "_________________________________________________________________\n",
      "Layer (type)                 Output Shape              Param #   \n",
      "=================================================================\n",
      "lstm (LSTM)                  (None, 49, 20)            1760      \n",
      "_________________________________________________________________\n",
      "lstm_1 (LSTM)                (None, 49, 20)            3280      \n",
      "_________________________________________________________________\n",
      "lstm_2 (LSTM)                (None, 49, 20)            3280      \n",
      "_________________________________________________________________\n",
      "lstm_3 (LSTM)                (None, 20)                3280      \n",
      "_________________________________________________________________\n",
      "dense (Dense)                (None, 46)                966       \n",
      "_________________________________________________________________\n",
      "activation (Activation)      (None, 46)                0         \n",
      "=================================================================\n",
      "Total params: 12,566\n",
      "Trainable params: 12,566\n",
      "Non-trainable params: 0\n",
      "_________________________________________________________________\n"
     ]
    }
   ],
   "source": [
    "model = deep_lstm()\n",
    "\n",
    "model.summary()"
   ]
  },
  {
   "cell_type": "code",
   "execution_count": 9,
   "metadata": {},
   "outputs": [
    {
     "name": "stdout",
     "output_type": "stream",
     "text": [
      "Train on 1116 samples, validate on 279 samples\n",
      "Epoch 1/100\n",
      "1116/1116 [==============================] - 11s 10ms/sample - loss: 3.0964 - accuracy: 0.6738 - val_loss: 2.2260 - val_accuracy: 0.7240\n",
      "Epoch 2/100\n",
      "1116/1116 [==============================] - 3s 3ms/sample - loss: 1.7453 - accuracy: 0.7124 - val_loss: 1.3350 - val_accuracy: 0.7240\n",
      "Epoch 3/100\n",
      "1116/1116 [==============================] - 3s 3ms/sample - loss: 1.2949 - accuracy: 0.7124 - val_loss: 1.1744 - val_accuracy: 0.7240\n",
      "Epoch 4/100\n",
      "1116/1116 [==============================] - 3s 3ms/sample - loss: 1.2243 - accuracy: 0.7124 - val_loss: 1.1418 - val_accuracy: 0.7240\n",
      "Epoch 5/100\n",
      "1116/1116 [==============================] - 3s 3ms/sample - loss: 1.2055 - accuracy: 0.7124 - val_loss: 1.1279 - val_accuracy: 0.7240\n",
      "Epoch 6/100\n",
      "1116/1116 [==============================] - 3s 3ms/sample - loss: 1.1954 - accuracy: 0.7124 - val_loss: 1.1193 - val_accuracy: 0.7240\n",
      "Epoch 7/100\n",
      "1116/1116 [==============================] - 3s 3ms/sample - loss: 1.1888 - accuracy: 0.7124 - val_loss: 1.1138 - val_accuracy: 0.7240\n",
      "Epoch 8/100\n",
      "1116/1116 [==============================] - 3s 3ms/sample - loss: 1.1849 - accuracy: 0.7124 - val_loss: 1.1110 - val_accuracy: 0.7240\n",
      "Epoch 9/100\n",
      "1116/1116 [==============================] - 3s 3ms/sample - loss: 1.1820 - accuracy: 0.7124 - val_loss: 1.1081 - val_accuracy: 0.7240\n",
      "Epoch 10/100\n",
      "1116/1116 [==============================] - 3s 3ms/sample - loss: 1.1798 - accuracy: 0.7124 - val_loss: 1.1073 - val_accuracy: 0.7240\n",
      "Epoch 11/100\n",
      "1116/1116 [==============================] - 3s 3ms/sample - loss: 1.1782 - accuracy: 0.7124 - val_loss: 1.1050 - val_accuracy: 0.7240\n",
      "Epoch 12/100\n",
      "1116/1116 [==============================] - 3s 3ms/sample - loss: 1.1781 - accuracy: 0.7124 - val_loss: 1.1034 - val_accuracy: 0.7240\n",
      "Epoch 13/100\n",
      "1116/1116 [==============================] - 3s 3ms/sample - loss: 1.1762 - accuracy: 0.7124 - val_loss: 1.1033 - val_accuracy: 0.7240\n",
      "Epoch 14/100\n",
      "1116/1116 [==============================] - 3s 3ms/sample - loss: 1.1746 - accuracy: 0.7124 - val_loss: 1.1024 - val_accuracy: 0.7240\n",
      "Epoch 15/100\n",
      "1116/1116 [==============================] - 3s 3ms/sample - loss: 1.1745 - accuracy: 0.7124 - val_loss: 1.1013 - val_accuracy: 0.7240\n",
      "Epoch 16/100\n",
      "1116/1116 [==============================] - 3s 3ms/sample - loss: 1.1752 - accuracy: 0.7124 - val_loss: 1.1017 - val_accuracy: 0.7240\n",
      "Epoch 17/100\n",
      "1116/1116 [==============================] - 3s 3ms/sample - loss: 1.1729 - accuracy: 0.7124 - val_loss: 1.0985 - val_accuracy: 0.7240\n",
      "Epoch 18/100\n",
      "1116/1116 [==============================] - 3s 3ms/sample - loss: 1.1701 - accuracy: 0.7124 - val_loss: 1.0953 - val_accuracy: 0.7240\n",
      "Epoch 19/100\n",
      "1116/1116 [==============================] - 3s 3ms/sample - loss: 1.1608 - accuracy: 0.7124 - val_loss: 1.0705 - val_accuracy: 0.7240\n",
      "Epoch 20/100\n",
      "1116/1116 [==============================] - 3s 3ms/sample - loss: 1.0963 - accuracy: 0.7124 - val_loss: 0.9684 - val_accuracy: 0.7240\n",
      "Epoch 21/100\n",
      "1116/1116 [==============================] - 3s 3ms/sample - loss: 0.9776 - accuracy: 0.7124 - val_loss: 0.8799 - val_accuracy: 0.8029\n",
      "Epoch 22/100\n",
      "1116/1116 [==============================] - 3s 3ms/sample - loss: 0.9173 - accuracy: 0.7661 - val_loss: 0.8758 - val_accuracy: 0.7706\n",
      "Epoch 23/100\n",
      "1116/1116 [==============================] - 3s 3ms/sample - loss: 0.9155 - accuracy: 0.7321 - val_loss: 0.8395 - val_accuracy: 0.7921\n",
      "Epoch 24/100\n",
      "1116/1116 [==============================] - 3s 3ms/sample - loss: 0.8785 - accuracy: 0.7885 - val_loss: 0.8355 - val_accuracy: 0.7921\n",
      "Epoch 25/100\n",
      "1116/1116 [==============================] - 3s 3ms/sample - loss: 0.8579 - accuracy: 0.7876 - val_loss: 0.8283 - val_accuracy: 0.7921\n",
      "Epoch 26/100\n",
      "1116/1116 [==============================] - 3s 3ms/sample - loss: 0.8619 - accuracy: 0.7823 - val_loss: 0.8366 - val_accuracy: 0.8172\n",
      "Epoch 27/100\n",
      "1116/1116 [==============================] - 3s 3ms/sample - loss: 0.8782 - accuracy: 0.7841 - val_loss: 0.8208 - val_accuracy: 0.7993\n",
      "Epoch 28/100\n",
      "1116/1116 [==============================] - 3s 3ms/sample - loss: 0.8487 - accuracy: 0.7849 - val_loss: 0.8108 - val_accuracy: 0.8100\n",
      "Epoch 29/100\n",
      "1116/1116 [==============================] - 3s 3ms/sample - loss: 0.8382 - accuracy: 0.7912 - val_loss: 0.8058 - val_accuracy: 0.8065\n",
      "Epoch 30/100\n",
      "1116/1116 [==============================] - 3s 3ms/sample - loss: 0.8290 - accuracy: 0.7823 - val_loss: 0.8172 - val_accuracy: 0.7921\n",
      "Epoch 31/100\n",
      "1116/1116 [==============================] - 4s 3ms/sample - loss: 0.8177 - accuracy: 0.7921 - val_loss: 0.7940 - val_accuracy: 0.8100\n",
      "Epoch 32/100\n",
      "1116/1116 [==============================] - 3s 3ms/sample - loss: 0.8179 - accuracy: 0.7903 - val_loss: 0.7958 - val_accuracy: 0.8065\n",
      "Epoch 33/100\n",
      "1116/1116 [==============================] - 3s 3ms/sample - loss: 0.8144 - accuracy: 0.7885 - val_loss: 0.8190 - val_accuracy: 0.7993\n",
      "Epoch 34/100\n",
      "1116/1116 [==============================] - 3s 3ms/sample - loss: 0.8055 - accuracy: 0.7921 - val_loss: 0.7952 - val_accuracy: 0.8100\n",
      "Epoch 35/100\n",
      "1116/1116 [==============================] - 3s 3ms/sample - loss: 0.8023 - accuracy: 0.7912 - val_loss: 0.7970 - val_accuracy: 0.8208\n",
      "Epoch 36/100\n",
      "1116/1116 [==============================] - 3s 3ms/sample - loss: 0.7907 - accuracy: 0.7948 - val_loss: 0.8066 - val_accuracy: 0.8029\n",
      "Epoch 37/100\n",
      "1116/1116 [==============================] - 3s 3ms/sample - loss: 0.7869 - accuracy: 0.7948 - val_loss: 0.8014 - val_accuracy: 0.8100\n",
      "Epoch 38/100\n",
      "1116/1116 [==============================] - 3s 3ms/sample - loss: 0.7882 - accuracy: 0.7930 - val_loss: 0.8034 - val_accuracy: 0.7921\n",
      "Epoch 39/100\n",
      "1116/1116 [==============================] - 3s 3ms/sample - loss: 0.7983 - accuracy: 0.7885 - val_loss: 0.7947 - val_accuracy: 0.8029\n",
      "Epoch 40/100\n",
      "1116/1116 [==============================] - 3s 3ms/sample - loss: 0.7790 - accuracy: 0.7930 - val_loss: 0.7842 - val_accuracy: 0.8208\n",
      "Epoch 41/100\n",
      "1116/1116 [==============================] - 3s 3ms/sample - loss: 0.7788 - accuracy: 0.7939 - val_loss: 0.7848 - val_accuracy: 0.8136\n",
      "Epoch 42/100\n",
      "1116/1116 [==============================] - 3s 3ms/sample - loss: 0.7670 - accuracy: 0.8002 - val_loss: 0.7872 - val_accuracy: 0.8208\n",
      "Epoch 43/100\n",
      "1116/1116 [==============================] - 3s 3ms/sample - loss: 0.7751 - accuracy: 0.7966 - val_loss: 0.7750 - val_accuracy: 0.8172\n",
      "Epoch 44/100\n",
      "1116/1116 [==============================] - 3s 3ms/sample - loss: 0.7834 - accuracy: 0.8002 - val_loss: 0.8212 - val_accuracy: 0.8100\n",
      "Epoch 45/100\n",
      "1116/1116 [==============================] - 3s 3ms/sample - loss: 0.7679 - accuracy: 0.7966 - val_loss: 0.7878 - val_accuracy: 0.8172\n",
      "Epoch 46/100\n",
      "1116/1116 [==============================] - 3s 3ms/sample - loss: 0.7685 - accuracy: 0.8047 - val_loss: 0.8097 - val_accuracy: 0.8172\n",
      "Epoch 47/100\n",
      "1116/1116 [==============================] - 3s 3ms/sample - loss: 0.7625 - accuracy: 0.7939 - val_loss: 0.8066 - val_accuracy: 0.8136\n",
      "Epoch 48/100\n",
      "1116/1116 [==============================] - 3s 3ms/sample - loss: 0.7649 - accuracy: 0.7966 - val_loss: 0.7737 - val_accuracy: 0.8136\n",
      "Epoch 49/100\n",
      "1116/1116 [==============================] - 3s 3ms/sample - loss: 0.7498 - accuracy: 0.8011 - val_loss: 0.7650 - val_accuracy: 0.8172\n",
      "Epoch 50/100\n",
      "1116/1116 [==============================] - 3s 3ms/sample - loss: 0.7473 - accuracy: 0.7984 - val_loss: 0.7881 - val_accuracy: 0.8065\n",
      "Epoch 51/100\n",
      "1116/1116 [==============================] - 3s 3ms/sample - loss: 0.7597 - accuracy: 0.7948 - val_loss: 0.7744 - val_accuracy: 0.8136\n",
      "Epoch 52/100\n",
      "1116/1116 [==============================] - 3s 3ms/sample - loss: 0.7546 - accuracy: 0.7966 - val_loss: 0.7936 - val_accuracy: 0.8065\n",
      "Epoch 53/100\n",
      "1116/1116 [==============================] - 3s 3ms/sample - loss: 0.7501 - accuracy: 0.7984 - val_loss: 0.7712 - val_accuracy: 0.8065\n",
      "Epoch 54/100\n",
      "1116/1116 [==============================] - 3s 3ms/sample - loss: 0.7372 - accuracy: 0.7975 - val_loss: 0.7709 - val_accuracy: 0.8136\n",
      "Epoch 55/100\n",
      "1116/1116 [==============================] - 3s 3ms/sample - loss: 0.7680 - accuracy: 0.7984 - val_loss: 0.7714 - val_accuracy: 0.8208\n",
      "Epoch 56/100\n"
     ]
    },
    {
     "name": "stdout",
     "output_type": "stream",
     "text": [
      "1116/1116 [==============================] - 3s 3ms/sample - loss: 0.8452 - accuracy: 0.7778 - val_loss: 0.8675 - val_accuracy: 0.7670\n",
      "Epoch 57/100\n",
      "1116/1116 [==============================] - 3s 3ms/sample - loss: 0.7899 - accuracy: 0.7948 - val_loss: 0.7803 - val_accuracy: 0.8065\n",
      "Epoch 58/100\n",
      "1116/1116 [==============================] - 3s 3ms/sample - loss: 0.7700 - accuracy: 0.7930 - val_loss: 0.7745 - val_accuracy: 0.8065\n",
      "Epoch 59/100\n",
      "1116/1116 [==============================] - 3s 3ms/sample - loss: 0.7556 - accuracy: 0.7993 - val_loss: 0.7856 - val_accuracy: 0.8065\n",
      "Epoch 60/100\n",
      "1116/1116 [==============================] - 3s 3ms/sample - loss: 0.7477 - accuracy: 0.7993 - val_loss: 0.7627 - val_accuracy: 0.8208\n",
      "Epoch 61/100\n",
      "1116/1116 [==============================] - 3s 3ms/sample - loss: 0.7596 - accuracy: 0.7957 - val_loss: 0.7586 - val_accuracy: 0.8136\n",
      "Epoch 62/100\n",
      "1116/1116 [==============================] - 3s 3ms/sample - loss: 0.7486 - accuracy: 0.7957 - val_loss: 0.7628 - val_accuracy: 0.8136\n",
      "Epoch 63/100\n",
      "1116/1116 [==============================] - 3s 3ms/sample - loss: 0.7501 - accuracy: 0.7939 - val_loss: 0.7651 - val_accuracy: 0.8208\n",
      "Epoch 64/100\n",
      "1116/1116 [==============================] - 3s 3ms/sample - loss: 0.7649 - accuracy: 0.7939 - val_loss: 0.7759 - val_accuracy: 0.8172\n",
      "Epoch 65/100\n",
      "1116/1116 [==============================] - 4s 3ms/sample - loss: 0.7600 - accuracy: 0.7984 - val_loss: 0.7525 - val_accuracy: 0.8208\n",
      "Epoch 66/100\n",
      "1116/1116 [==============================] - 3s 3ms/sample - loss: 0.7335 - accuracy: 0.7975 - val_loss: 0.7539 - val_accuracy: 0.8136\n",
      "Epoch 67/100\n",
      "1116/1116 [==============================] - 4s 3ms/sample - loss: 0.7287 - accuracy: 0.7984 - val_loss: 0.7661 - val_accuracy: 0.8172\n",
      "Epoch 68/100\n",
      "1116/1116 [==============================] - 3s 3ms/sample - loss: 0.7246 - accuracy: 0.8011 - val_loss: 0.7654 - val_accuracy: 0.8100\n",
      "Epoch 69/100\n",
      "1116/1116 [==============================] - 3s 3ms/sample - loss: 0.7354 - accuracy: 0.8011 - val_loss: 0.7550 - val_accuracy: 0.8172\n",
      "Epoch 70/100\n",
      "1116/1116 [==============================] - 3s 3ms/sample - loss: 0.7077 - accuracy: 0.8020 - val_loss: 0.7639 - val_accuracy: 0.8136\n",
      "Epoch 71/100\n",
      "1116/1116 [==============================] - 3s 3ms/sample - loss: 0.7243 - accuracy: 0.7975 - val_loss: 0.7396 - val_accuracy: 0.8244\n",
      "Epoch 72/100\n",
      "1116/1116 [==============================] - 3s 3ms/sample - loss: 0.6991 - accuracy: 0.8082 - val_loss: 0.7380 - val_accuracy: 0.8315\n",
      "Epoch 73/100\n",
      "1116/1116 [==============================] - 3s 3ms/sample - loss: 0.7005 - accuracy: 0.8145 - val_loss: 0.7384 - val_accuracy: 0.8244\n",
      "Epoch 74/100\n",
      "1116/1116 [==============================] - 3s 3ms/sample - loss: 0.7124 - accuracy: 0.8136 - val_loss: 0.7342 - val_accuracy: 0.8280\n",
      "Epoch 75/100\n",
      "1116/1116 [==============================] - 3s 3ms/sample - loss: 0.6891 - accuracy: 0.8127 - val_loss: 0.7347 - val_accuracy: 0.8244\n",
      "Epoch 76/100\n",
      "1116/1116 [==============================] - 3s 3ms/sample - loss: 0.7279 - accuracy: 0.8065 - val_loss: 0.7672 - val_accuracy: 0.8172\n",
      "Epoch 77/100\n",
      "1116/1116 [==============================] - 3s 3ms/sample - loss: 0.7216 - accuracy: 0.8118 - val_loss: 0.7447 - val_accuracy: 0.8244\n",
      "Epoch 78/100\n",
      "1116/1116 [==============================] - 3s 3ms/sample - loss: 0.7081 - accuracy: 0.8163 - val_loss: 0.7840 - val_accuracy: 0.8136\n",
      "Epoch 79/100\n",
      "1116/1116 [==============================] - 3s 3ms/sample - loss: 0.7917 - accuracy: 0.7885 - val_loss: 0.7779 - val_accuracy: 0.8136\n",
      "Epoch 80/100\n",
      "1116/1116 [==============================] - 3s 3ms/sample - loss: 0.7424 - accuracy: 0.7930 - val_loss: 0.7674 - val_accuracy: 0.8136\n",
      "Epoch 81/100\n",
      "1116/1116 [==============================] - 3s 3ms/sample - loss: 0.7331 - accuracy: 0.7984 - val_loss: 0.7644 - val_accuracy: 0.8136\n",
      "Epoch 82/100\n",
      "1116/1116 [==============================] - 3s 3ms/sample - loss: 0.7218 - accuracy: 0.7984 - val_loss: 0.7628 - val_accuracy: 0.8136\n",
      "Epoch 83/100\n",
      "1116/1116 [==============================] - 3s 3ms/sample - loss: 0.7250 - accuracy: 0.7975 - val_loss: 0.7701 - val_accuracy: 0.8100\n",
      "Epoch 84/100\n",
      "1116/1116 [==============================] - 3s 3ms/sample - loss: 0.7215 - accuracy: 0.7984 - val_loss: 0.7648 - val_accuracy: 0.8100\n",
      "Epoch 85/100\n",
      "1116/1116 [==============================] - 3s 3ms/sample - loss: 0.7880 - accuracy: 0.7858 - val_loss: 0.7882 - val_accuracy: 0.7993\n",
      "Epoch 86/100\n",
      "1116/1116 [==============================] - 3s 3ms/sample - loss: 0.7610 - accuracy: 0.7948 - val_loss: 0.7836 - val_accuracy: 0.8065\n",
      "Epoch 87/100\n",
      "1116/1116 [==============================] - 3s 3ms/sample - loss: 0.7408 - accuracy: 0.7957 - val_loss: 0.7756 - val_accuracy: 0.7957\n",
      "Epoch 88/100\n",
      "1116/1116 [==============================] - 3s 3ms/sample - loss: 0.7300 - accuracy: 0.7948 - val_loss: 0.7725 - val_accuracy: 0.8172\n",
      "Epoch 89/100\n",
      "1116/1116 [==============================] - 3s 3ms/sample - loss: 0.7397 - accuracy: 0.7957 - val_loss: 0.7780 - val_accuracy: 0.8100\n",
      "Epoch 90/100\n",
      "1116/1116 [==============================] - 3s 3ms/sample - loss: 0.7437 - accuracy: 0.7948 - val_loss: 0.7685 - val_accuracy: 0.8172\n",
      "Epoch 91/100\n",
      "1116/1116 [==============================] - 3s 3ms/sample - loss: 0.7198 - accuracy: 0.8002 - val_loss: 0.7689 - val_accuracy: 0.8136\n",
      "Epoch 92/100\n",
      "1116/1116 [==============================] - 3s 3ms/sample - loss: 0.7141 - accuracy: 0.8002 - val_loss: 0.7719 - val_accuracy: 0.8100\n",
      "Epoch 93/100\n",
      "1116/1116 [==============================] - 3s 3ms/sample - loss: 0.7146 - accuracy: 0.7984 - val_loss: 0.7646 - val_accuracy: 0.8100\n",
      "Epoch 94/100\n",
      "1116/1116 [==============================] - 3s 3ms/sample - loss: 0.7063 - accuracy: 0.8002 - val_loss: 0.7627 - val_accuracy: 0.8172\n",
      "Epoch 95/100\n",
      "1116/1116 [==============================] - 3s 3ms/sample - loss: 0.7239 - accuracy: 0.7993 - val_loss: 0.7595 - val_accuracy: 0.8100\n",
      "Epoch 96/100\n",
      "1116/1116 [==============================] - 3s 3ms/sample - loss: 0.7306 - accuracy: 0.7984 - val_loss: 0.7946 - val_accuracy: 0.8100\n",
      "Epoch 97/100\n",
      "1116/1116 [==============================] - 3s 3ms/sample - loss: 0.7153 - accuracy: 0.7975 - val_loss: 0.7622 - val_accuracy: 0.8100\n",
      "Epoch 98/100\n",
      "1116/1116 [==============================] - 3s 3ms/sample - loss: 0.7105 - accuracy: 0.7975 - val_loss: 0.7656 - val_accuracy: 0.8065\n",
      "Epoch 99/100\n",
      "1116/1116 [==============================] - 3s 3ms/sample - loss: 0.7013 - accuracy: 0.8047 - val_loss: 0.7706 - val_accuracy: 0.8029\n",
      "Epoch 100/100\n",
      "1116/1116 [==============================] - 3s 3ms/sample - loss: 0.7002 - accuracy: 0.8011 - val_loss: 0.7635 - val_accuracy: 0.8136\n"
     ]
    }
   ],
   "source": [
    "history = model.fit(X_train, y_train, verbose=1, batch_size=32, epochs=100, validation_split=0.2)"
   ]
  },
  {
   "cell_type": "code",
   "execution_count": 12,
   "metadata": {},
   "outputs": [
    {
     "data": {
      "image/png": "[encoded data removed]",
      "text/plain": [
       "<Figure size 432x288 with 1 Axes>"
      ]
     },
     "metadata": {
      "needs_background": "light"
     },
     "output_type": "display_data"
    }
   ],
   "source": [
    "plt.plot(history.history['accuracy'])\n",
    "plt.plot(history.history['val_accuracy'])\n",
    "plt.legend(['Training', 'Validation'])\n",
    "\n",
    "plt.show()"
   ]
  },
  {
   "cell_type": "code",
   "execution_count": 13,
   "metadata": {},
   "outputs": [
    {
     "data": {
      "text/plain": [
       "[0.8340369721684909, 0.7996661]"
      ]
     },
     "execution_count": 13,
     "metadata": {},
     "output_type": "execute_result"
    }
   ],
   "source": [
    "results = model.evaluate(X_test, y_test, verbose=0)\n",
    "results"
   ]
  },
  {
   "cell_type": "code",
   "execution_count": 14,
   "metadata": {},
   "outputs": [
    {
     "data": {
      "text/plain": [
       "['loss', 'accuracy']"
      ]
     },
     "execution_count": 14,
     "metadata": {},
     "output_type": "execute_result"
    }
   ],
   "source": [
    "model.metrics_names"
   ]
  },
  {
   "cell_type": "code",
   "execution_count": null,
   "metadata": {},
   "outputs": [],
   "source": []
  },
  {
   "cell_type": "markdown",
   "metadata": {},
   "source": [
    "## 2. Bidirectional RNN\n",
    "- Bidirectional RNNs consider not only one-way influence of sequence, but also the other way\n",
    "- Actually, they can be thought as building two separate RNNs, and merging them\n",
    "<br>\n",
    "<img src=\"http://d3kbpzbmcynnmx.cloudfront.net/wp-content/uploads/2015/09/bidirectional-rnn.png\" style=\"width: 400px\"/>\n",
    "</br>"
   ]
  },
  {
   "cell_type": "code",
   "execution_count": 15,
   "metadata": {},
   "outputs": [],
   "source": [
    "from tensorflow.keras.layers import Bidirectional"
   ]
  },
  {
   "cell_type": "code",
   "execution_count": 16,
   "metadata": {},
   "outputs": [],
   "source": [
    "def bidirectional_lstm():\n",
    "    model = Sequential()\n",
    "    model.add(Bidirectional(LSTM(20, return_sequences = False), input_shape = (49,1)))\n",
    "    model.add(Dense(46))\n",
    "    model.add(Activation('softmax'))\n",
    "    \n",
    "    adam = optimizers.Adam(lr = 0.001)\n",
    "    model.compile(loss = 'categorical_crossentropy', optimizer = adam, metrics = ['accuracy'])\n",
    "    \n",
    "    return model"
   ]
  },
  {
   "cell_type": "code",
   "execution_count": 17,
   "metadata": {
    "scrolled": true
   },
   "outputs": [
    {
     "name": "stdout",
     "output_type": "stream",
     "text": [
      "Model: \"sequential_1\"\n",
      "_________________________________________________________________\n",
      "Layer (type)                 Output Shape              Param #   \n",
      "=================================================================\n",
      "bidirectional (Bidirectional (None, 40)                3520      \n",
      "_________________________________________________________________\n",
      "dense_1 (Dense)              (None, 46)                1886      \n",
      "_________________________________________________________________\n",
      "activation_1 (Activation)    (None, 46)                0         \n",
      "=================================================================\n",
      "Total params: 5,406\n",
      "Trainable params: 5,406\n",
      "Non-trainable params: 0\n",
      "_________________________________________________________________\n"
     ]
    }
   ],
   "source": [
    "model = bidirectional_lstm()\n",
    "\n",
    "model.summary()"
   ]
  },
  {
   "cell_type": "code",
   "execution_count": 18,
   "metadata": {},
   "outputs": [
    {
     "name": "stdout",
     "output_type": "stream",
     "text": [
      "Train on 1116 samples, validate on 279 samples\n",
      "Epoch 1/100\n",
      "1116/1116 [==============================] - 5s 4ms/sample - loss: 2.9278 - accuracy: 0.6111 - val_loss: 2.0561 - val_accuracy: 0.7240\n",
      "Epoch 2/100\n",
      "1116/1116 [==============================] - 1s 934us/sample - loss: 1.5631 - accuracy: 0.7124 - val_loss: 1.2427 - val_accuracy: 0.7240\n",
      "Epoch 3/100\n",
      "1116/1116 [==============================] - 1s 987us/sample - loss: 1.2441 - accuracy: 0.7124 - val_loss: 1.1345 - val_accuracy: 0.7240\n",
      "Epoch 4/100\n",
      "1116/1116 [==============================] - 1s 1ms/sample - loss: 1.1863 - accuracy: 0.7124 - val_loss: 1.1042 - val_accuracy: 0.7240\n",
      "Epoch 5/100\n",
      "1116/1116 [==============================] - 1s 1ms/sample - loss: 1.1667 - accuracy: 0.7124 - val_loss: 1.0886 - val_accuracy: 0.7240\n",
      "Epoch 6/100\n",
      "1116/1116 [==============================] - 1s 1ms/sample - loss: 1.1413 - accuracy: 0.7124 - val_loss: 1.0463 - val_accuracy: 0.7240\n",
      "Epoch 7/100\n",
      "1116/1116 [==============================] - 1s 896us/sample - loss: 1.0900 - accuracy: 0.7124 - val_loss: 1.0056 - val_accuracy: 0.7240\n",
      "Epoch 8/100\n",
      "1116/1116 [==============================] - 1s 1ms/sample - loss: 1.0501 - accuracy: 0.7124 - val_loss: 0.9651 - val_accuracy: 0.7240\n",
      "Epoch 9/100\n",
      "1116/1116 [==============================] - 1s 940us/sample - loss: 1.0121 - accuracy: 0.7124 - val_loss: 0.9340 - val_accuracy: 0.7240\n",
      "Epoch 10/100\n",
      "1116/1116 [==============================] - 1s 901us/sample - loss: 0.9753 - accuracy: 0.7168 - val_loss: 0.8931 - val_accuracy: 0.7276\n",
      "Epoch 11/100\n",
      "1116/1116 [==============================] - 1s 776us/sample - loss: 0.9495 - accuracy: 0.7204 - val_loss: 0.8770 - val_accuracy: 0.7348\n",
      "Epoch 12/100\n",
      "1116/1116 [==============================] - 1s 750us/sample - loss: 0.9114 - accuracy: 0.7518 - val_loss: 0.8407 - val_accuracy: 0.7742\n",
      "Epoch 13/100\n",
      "1116/1116 [==============================] - 1s 774us/sample - loss: 0.8801 - accuracy: 0.7733 - val_loss: 0.8162 - val_accuracy: 0.7885\n",
      "Epoch 14/100\n",
      "1116/1116 [==============================] - 1s 786us/sample - loss: 0.8557 - accuracy: 0.7876 - val_loss: 0.8015 - val_accuracy: 0.8172\n",
      "Epoch 15/100\n",
      "1116/1116 [==============================] - 1s 776us/sample - loss: 0.8364 - accuracy: 0.7957 - val_loss: 0.7900 - val_accuracy: 0.8244\n",
      "Epoch 16/100\n",
      "1116/1116 [==============================] - 1s 1ms/sample - loss: 0.8228 - accuracy: 0.8038 - val_loss: 0.7792 - val_accuracy: 0.8244\n",
      "Epoch 17/100\n",
      "1116/1116 [==============================] - 1s 988us/sample - loss: 0.8086 - accuracy: 0.8029 - val_loss: 0.7722 - val_accuracy: 0.8172\n",
      "Epoch 18/100\n",
      "1116/1116 [==============================] - 1s 899us/sample - loss: 0.7974 - accuracy: 0.7993 - val_loss: 0.7674 - val_accuracy: 0.8208\n",
      "Epoch 19/100\n",
      "1116/1116 [==============================] - 1s 839us/sample - loss: 0.7894 - accuracy: 0.8056 - val_loss: 0.7553 - val_accuracy: 0.8280\n",
      "Epoch 20/100\n",
      "1116/1116 [==============================] - 1s 872us/sample - loss: 0.7806 - accuracy: 0.8082 - val_loss: 0.7491 - val_accuracy: 0.8280\n",
      "Epoch 21/100\n",
      "1116/1116 [==============================] - 1s 795us/sample - loss: 0.7772 - accuracy: 0.8038 - val_loss: 0.7516 - val_accuracy: 0.8208\n",
      "Epoch 22/100\n",
      "1116/1116 [==============================] - 1s 797us/sample - loss: 0.7718 - accuracy: 0.8056 - val_loss: 0.7526 - val_accuracy: 0.8280\n",
      "Epoch 23/100\n",
      "1116/1116 [==============================] - 1s 799us/sample - loss: 0.7662 - accuracy: 0.8100 - val_loss: 0.7458 - val_accuracy: 0.8208\n",
      "Epoch 24/100\n",
      "1116/1116 [==============================] - 1s 909us/sample - loss: 0.7696 - accuracy: 0.8082 - val_loss: 0.7446 - val_accuracy: 0.8280\n",
      "Epoch 25/100\n",
      "1116/1116 [==============================] - 1s 971us/sample - loss: 0.7643 - accuracy: 0.8109 - val_loss: 0.7570 - val_accuracy: 0.8065\n",
      "Epoch 26/100\n",
      "1116/1116 [==============================] - 1s 819us/sample - loss: 0.7714 - accuracy: 0.8091 - val_loss: 0.7551 - val_accuracy: 0.8244\n",
      "Epoch 27/100\n",
      "1116/1116 [==============================] - 1s 1ms/sample - loss: 0.7636 - accuracy: 0.8127 - val_loss: 0.7444 - val_accuracy: 0.8315\n",
      "Epoch 28/100\n",
      "1116/1116 [==============================] - 2s 1ms/sample - loss: 0.7587 - accuracy: 0.8109 - val_loss: 0.7483 - val_accuracy: 0.8208\n",
      "Epoch 29/100\n",
      "1116/1116 [==============================] - 1s 1ms/sample - loss: 0.7555 - accuracy: 0.8145 - val_loss: 0.7482 - val_accuracy: 0.8244\n",
      "Epoch 30/100\n",
      "1116/1116 [==============================] - 1s 1ms/sample - loss: 0.7503 - accuracy: 0.8136 - val_loss: 0.7401 - val_accuracy: 0.8315\n",
      "Epoch 31/100\n",
      "1116/1116 [==============================] - 2s 1ms/sample - loss: 0.7475 - accuracy: 0.8127 - val_loss: 0.7396 - val_accuracy: 0.8315\n",
      "Epoch 32/100\n",
      "1116/1116 [==============================] - 1s 1ms/sample - loss: 0.7447 - accuracy: 0.8127 - val_loss: 0.7452 - val_accuracy: 0.8280\n",
      "Epoch 33/100\n",
      "1116/1116 [==============================] - 1s 1ms/sample - loss: 0.7430 - accuracy: 0.8172 - val_loss: 0.7418 - val_accuracy: 0.8280\n",
      "Epoch 34/100\n",
      "1116/1116 [==============================] - 1s 812us/sample - loss: 0.7398 - accuracy: 0.8163 - val_loss: 0.7388 - val_accuracy: 0.8315\n",
      "Epoch 35/100\n",
      "1116/1116 [==============================] - 1s 773us/sample - loss: 0.7364 - accuracy: 0.8136 - val_loss: 0.7384 - val_accuracy: 0.8315\n",
      "Epoch 36/100\n",
      "1116/1116 [==============================] - 1s 922us/sample - loss: 0.7316 - accuracy: 0.8163 - val_loss: 0.7330 - val_accuracy: 0.8351\n",
      "Epoch 37/100\n",
      "1116/1116 [==============================] - 1s 966us/sample - loss: 0.7314 - accuracy: 0.8154 - val_loss: 0.7359 - val_accuracy: 0.8244\n",
      "Epoch 38/100\n",
      "1116/1116 [==============================] - 1s 759us/sample - loss: 0.7275 - accuracy: 0.8163 - val_loss: 0.7338 - val_accuracy: 0.8351\n",
      "Epoch 39/100\n",
      "1116/1116 [==============================] - 1s 747us/sample - loss: 0.7228 - accuracy: 0.8163 - val_loss: 0.7416 - val_accuracy: 0.8280\n",
      "Epoch 40/100\n",
      "1116/1116 [==============================] - 1s 756us/sample - loss: 0.7257 - accuracy: 0.8181 - val_loss: 0.7327 - val_accuracy: 0.8280\n",
      "Epoch 41/100\n",
      "1116/1116 [==============================] - 1s 884us/sample - loss: 0.7174 - accuracy: 0.8217 - val_loss: 0.7317 - val_accuracy: 0.8315\n",
      "Epoch 42/100\n",
      "1116/1116 [==============================] - 1s 963us/sample - loss: 0.7158 - accuracy: 0.8199 - val_loss: 0.7252 - val_accuracy: 0.8387\n",
      "Epoch 43/100\n",
      "1116/1116 [==============================] - 1s 850us/sample - loss: 0.7127 - accuracy: 0.8190 - val_loss: 0.7269 - val_accuracy: 0.8315\n",
      "Epoch 44/100\n",
      "1116/1116 [==============================] - 1s 789us/sample - loss: 0.7089 - accuracy: 0.8244 - val_loss: 0.7255 - val_accuracy: 0.8315\n",
      "Epoch 45/100\n",
      "1116/1116 [==============================] - 1s 927us/sample - loss: 0.7123 - accuracy: 0.8181 - val_loss: 0.7277 - val_accuracy: 0.8315\n",
      "Epoch 46/100\n",
      "1116/1116 [==============================] - 1s 1ms/sample - loss: 0.7106 - accuracy: 0.8199 - val_loss: 0.7276 - val_accuracy: 0.8280\n",
      "Epoch 47/100\n",
      "1116/1116 [==============================] - 1s 1ms/sample - loss: 0.7018 - accuracy: 0.8217 - val_loss: 0.7278 - val_accuracy: 0.8280\n",
      "Epoch 48/100\n",
      "1116/1116 [==============================] - 1s 1ms/sample - loss: 0.7184 - accuracy: 0.8145 - val_loss: 0.7307 - val_accuracy: 0.8280\n",
      "Epoch 49/100\n",
      "1116/1116 [==============================] - 1s 1ms/sample - loss: 0.7004 - accuracy: 0.8199 - val_loss: 0.7127 - val_accuracy: 0.8351\n",
      "Epoch 50/100\n",
      "1116/1116 [==============================] - 1s 1ms/sample - loss: 0.6938 - accuracy: 0.8208 - val_loss: 0.7172 - val_accuracy: 0.8459\n",
      "Epoch 51/100\n",
      "1116/1116 [==============================] - 1s 1ms/sample - loss: 0.7021 - accuracy: 0.8226 - val_loss: 0.7181 - val_accuracy: 0.8315\n",
      "Epoch 52/100\n",
      "1116/1116 [==============================] - 1s 1ms/sample - loss: 0.6959 - accuracy: 0.8172 - val_loss: 0.7208 - val_accuracy: 0.8387\n",
      "Epoch 53/100\n",
      "1116/1116 [==============================] - 1s 1ms/sample - loss: 0.6928 - accuracy: 0.8217 - val_loss: 0.7205 - val_accuracy: 0.8459\n",
      "Epoch 54/100\n",
      "1116/1116 [==============================] - 1s 1ms/sample - loss: 0.6831 - accuracy: 0.8199 - val_loss: 0.7153 - val_accuracy: 0.8387\n",
      "Epoch 55/100\n"
     ]
    },
    {
     "name": "stdout",
     "output_type": "stream",
     "text": [
      "1116/1116 [==============================] - 1s 939us/sample - loss: 0.6823 - accuracy: 0.8253 - val_loss: 0.7133 - val_accuracy: 0.8315\n",
      "Epoch 56/100\n",
      "1116/1116 [==============================] - 1s 985us/sample - loss: 0.6766 - accuracy: 0.8208 - val_loss: 0.7123 - val_accuracy: 0.8315\n",
      "Epoch 57/100\n",
      "1116/1116 [==============================] - 1s 1ms/sample - loss: 0.6729 - accuracy: 0.8235 - val_loss: 0.7010 - val_accuracy: 0.8423\n",
      "Epoch 58/100\n",
      "1116/1116 [==============================] - 1s 1ms/sample - loss: 0.6732 - accuracy: 0.8253 - val_loss: 0.7107 - val_accuracy: 0.8530\n",
      "Epoch 59/100\n",
      "1116/1116 [==============================] - 1s 857us/sample - loss: 0.6723 - accuracy: 0.8244 - val_loss: 0.7166 - val_accuracy: 0.8315\n",
      "Epoch 60/100\n",
      "1116/1116 [==============================] - 1s 857us/sample - loss: 0.6638 - accuracy: 0.8244 - val_loss: 0.7236 - val_accuracy: 0.8387\n",
      "Epoch 61/100\n",
      "1116/1116 [==============================] - 1s 816us/sample - loss: 0.6656 - accuracy: 0.8297 - val_loss: 0.6969 - val_accuracy: 0.8351\n",
      "Epoch 62/100\n",
      "1116/1116 [==============================] - 1s 746us/sample - loss: 0.6595 - accuracy: 0.8289 - val_loss: 0.7126 - val_accuracy: 0.8495\n",
      "Epoch 63/100\n",
      "1116/1116 [==============================] - 1s 908us/sample - loss: 0.6780 - accuracy: 0.8262 - val_loss: 0.7186 - val_accuracy: 0.8351\n",
      "Epoch 64/100\n",
      "1116/1116 [==============================] - 1s 837us/sample - loss: 0.6648 - accuracy: 0.8226 - val_loss: 0.7088 - val_accuracy: 0.8351\n",
      "Epoch 65/100\n",
      "1116/1116 [==============================] - 1s 858us/sample - loss: 0.6551 - accuracy: 0.8208 - val_loss: 0.6904 - val_accuracy: 0.8351\n",
      "Epoch 66/100\n",
      "1116/1116 [==============================] - 1s 849us/sample - loss: 0.6458 - accuracy: 0.8253 - val_loss: 0.6937 - val_accuracy: 0.8495\n",
      "Epoch 67/100\n",
      "1116/1116 [==============================] - 1s 817us/sample - loss: 0.6444 - accuracy: 0.8333 - val_loss: 0.7006 - val_accuracy: 0.8387\n",
      "Epoch 68/100\n",
      "1116/1116 [==============================] - 1s 810us/sample - loss: 0.6433 - accuracy: 0.8315 - val_loss: 0.6869 - val_accuracy: 0.8530\n",
      "Epoch 69/100\n",
      "1116/1116 [==============================] - 2s 2ms/sample - loss: 0.6333 - accuracy: 0.8289 - val_loss: 0.6814 - val_accuracy: 0.8530\n",
      "Epoch 70/100\n",
      "1116/1116 [==============================] - 2s 2ms/sample - loss: 0.6304 - accuracy: 0.8369 - val_loss: 0.6808 - val_accuracy: 0.8423\n",
      "Epoch 71/100\n",
      "1116/1116 [==============================] - 1s 820us/sample - loss: 0.6277 - accuracy: 0.8360 - val_loss: 0.6708 - val_accuracy: 0.8387\n",
      "Epoch 72/100\n",
      "1116/1116 [==============================] - 1s 905us/sample - loss: 0.6209 - accuracy: 0.8360 - val_loss: 0.6643 - val_accuracy: 0.8566\n",
      "Epoch 73/100\n",
      "1116/1116 [==============================] - 1s 1ms/sample - loss: 0.6139 - accuracy: 0.8414 - val_loss: 0.6703 - val_accuracy: 0.8459\n",
      "Epoch 74/100\n",
      "1116/1116 [==============================] - 1s 1ms/sample - loss: 0.6244 - accuracy: 0.8351 - val_loss: 0.6827 - val_accuracy: 0.8495\n",
      "Epoch 75/100\n",
      "1116/1116 [==============================] - 1s 853us/sample - loss: 0.6267 - accuracy: 0.8405 - val_loss: 0.6714 - val_accuracy: 0.8566\n",
      "Epoch 76/100\n",
      "1116/1116 [==============================] - 1s 876us/sample - loss: 0.6132 - accuracy: 0.8405 - val_loss: 0.6587 - val_accuracy: 0.8566\n",
      "Epoch 77/100\n",
      "1116/1116 [==============================] - 1s 1ms/sample - loss: 0.6001 - accuracy: 0.8459 - val_loss: 0.6659 - val_accuracy: 0.8530\n",
      "Epoch 78/100\n",
      "1116/1116 [==============================] - 1s 1ms/sample - loss: 0.5989 - accuracy: 0.8504 - val_loss: 0.6454 - val_accuracy: 0.8566\n",
      "Epoch 79/100\n",
      "1116/1116 [==============================] - 1s 1ms/sample - loss: 0.5911 - accuracy: 0.8495 - val_loss: 0.6463 - val_accuracy: 0.8674\n",
      "Epoch 80/100\n",
      "1116/1116 [==============================] - 1s 829us/sample - loss: 0.5981 - accuracy: 0.8477 - val_loss: 0.6400 - val_accuracy: 0.8674\n",
      "Epoch 81/100\n",
      "1116/1116 [==============================] - 1s 925us/sample - loss: 0.6155 - accuracy: 0.8468 - val_loss: 0.7085 - val_accuracy: 0.8495\n",
      "Epoch 82/100\n",
      "1116/1116 [==============================] - 2s 1ms/sample - loss: 0.6167 - accuracy: 0.8405 - val_loss: 0.6424 - val_accuracy: 0.8781\n",
      "Epoch 83/100\n",
      "1116/1116 [==============================] - 2s 2ms/sample - loss: 0.5944 - accuracy: 0.8486 - val_loss: 0.6375 - val_accuracy: 0.8710\n",
      "Epoch 84/100\n",
      "1116/1116 [==============================] - 3s 3ms/sample - loss: 0.5774 - accuracy: 0.8539 - val_loss: 0.6302 - val_accuracy: 0.8710\n",
      "Epoch 85/100\n",
      "1116/1116 [==============================] - 3s 2ms/sample - loss: 0.5792 - accuracy: 0.8477 - val_loss: 0.6393 - val_accuracy: 0.8781\n",
      "Epoch 86/100\n",
      "1116/1116 [==============================] - 2s 2ms/sample - loss: 0.5752 - accuracy: 0.8530 - val_loss: 0.6351 - val_accuracy: 0.8817\n",
      "Epoch 87/100\n",
      "1116/1116 [==============================] - 1s 1ms/sample - loss: 0.5625 - accuracy: 0.8548 - val_loss: 0.6212 - val_accuracy: 0.8781\n",
      "Epoch 88/100\n",
      "1116/1116 [==============================] - 2s 2ms/sample - loss: 0.5667 - accuracy: 0.8539 - val_loss: 0.6297 - val_accuracy: 0.8781\n",
      "Epoch 89/100\n",
      "1116/1116 [==============================] - 2s 2ms/sample - loss: 0.5658 - accuracy: 0.8522 - val_loss: 0.6203 - val_accuracy: 0.8781\n",
      "Epoch 90/100\n",
      "1116/1116 [==============================] - 3s 2ms/sample - loss: 0.5567 - accuracy: 0.8593 - val_loss: 0.6226 - val_accuracy: 0.8746\n",
      "Epoch 91/100\n",
      "1116/1116 [==============================] - 3s 2ms/sample - loss: 0.5635 - accuracy: 0.8557 - val_loss: 0.6251 - val_accuracy: 0.8710\n",
      "Epoch 92/100\n",
      "1116/1116 [==============================] - 2s 2ms/sample - loss: 0.5653 - accuracy: 0.8522 - val_loss: 0.6282 - val_accuracy: 0.8638\n",
      "Epoch 93/100\n",
      "1116/1116 [==============================] - 1s 1ms/sample - loss: 0.5644 - accuracy: 0.8477 - val_loss: 0.6448 - val_accuracy: 0.8781\n",
      "Epoch 94/100\n",
      "1116/1116 [==============================] - 1s 1ms/sample - loss: 0.5651 - accuracy: 0.8566 - val_loss: 0.6292 - val_accuracy: 0.8746\n",
      "Epoch 95/100\n",
      "1116/1116 [==============================] - 1s 1ms/sample - loss: 0.5597 - accuracy: 0.8566 - val_loss: 0.6205 - val_accuracy: 0.8746\n",
      "Epoch 96/100\n",
      "1116/1116 [==============================] - 1s 1ms/sample - loss: 0.5410 - accuracy: 0.8557 - val_loss: 0.6199 - val_accuracy: 0.8746\n",
      "Epoch 97/100\n",
      "1116/1116 [==============================] - 1s 1ms/sample - loss: 0.5414 - accuracy: 0.8530 - val_loss: 0.6135 - val_accuracy: 0.8746\n",
      "Epoch 98/100\n",
      "1116/1116 [==============================] - 1s 1ms/sample - loss: 0.5393 - accuracy: 0.8566 - val_loss: 0.6417 - val_accuracy: 0.8710\n",
      "Epoch 99/100\n",
      "1116/1116 [==============================] - 2s 2ms/sample - loss: 0.5461 - accuracy: 0.8566 - val_loss: 0.6273 - val_accuracy: 0.8817\n",
      "Epoch 100/100\n",
      "1116/1116 [==============================] - 2s 2ms/sample - loss: 0.5398 - accuracy: 0.8557 - val_loss: 0.6221 - val_accuracy: 0.8674\n"
     ]
    }
   ],
   "source": [
    "history = model.fit(X_train, y_train, verbose=1, batch_size=32, epochs=100, validation_split=0.2)"
   ]
  },
  {
   "cell_type": "code",
   "execution_count": 19,
   "metadata": {},
   "outputs": [
    {
     "data": {
      "image/png": "[encoded data removed]",
      "text/plain": [
       "<Figure size 432x288 with 1 Axes>"
      ]
     },
     "metadata": {
      "needs_background": "light"
     },
     "output_type": "display_data"
    }
   ],
   "source": [
    "plt.plot(history.history['accuracy'])\n",
    "plt.plot(history.history['val_accuracy'])\n",
    "plt.legend(['Training', 'Validation'])\n",
    "\n",
    "plt.show()"
   ]
  },
  {
   "cell_type": "code",
   "execution_count": 20,
   "metadata": {},
   "outputs": [
    {
     "data": {
      "text/plain": [
       "[0.7975201439578864, 0.84307176]"
      ]
     },
     "execution_count": 20,
     "metadata": {},
     "output_type": "execute_result"
    }
   ],
   "source": [
    "results = model.evaluate(X_test, y_test, verbose=0)\n",
    "results"
   ]
  },
  {
   "cell_type": "code",
   "execution_count": 21,
   "metadata": {},
   "outputs": [
    {
     "data": {
      "text/plain": [
       "['loss', 'accuracy']"
      ]
     },
     "execution_count": 21,
     "metadata": {},
     "output_type": "execute_result"
    }
   ],
   "source": [
    "model.metrics_names"
   ]
  },
  {
   "cell_type": "markdown",
   "metadata": {},
   "source": [
    "## 3. Deep Bidirectional RNN\n",
    "- Bidirectional RNNs can be stacked\n",
    "\n",
    "<img src=\"http://www.wildml.com/wp-content/uploads/2015/09/Screen-Shot-2015-09-16-at-2.21.51-PM-272x300.png\" style=\"width: 300px\"/>"
   ]
  },
  {
   "cell_type": "code",
   "execution_count": 24,
   "metadata": {},
   "outputs": [],
   "source": [
    "def deep_bidirectional_lstm():\n",
    "    model = Sequential()\n",
    "    model.add(Bidirectional(LSTM(10, return_sequences = True), input_shape = (49,1)))\n",
    "    model.add(Bidirectional(LSTM(10, return_sequences = True)))\n",
    "    model.add(Bidirectional(LSTM(10, return_sequences = True)))\n",
    "    model.add(Bidirectional(LSTM(10, return_sequences = False)))\n",
    "    model.add(Dense(46))\n",
    "    model.add(Activation('softmax'))\n",
    "    \n",
    "    adam = optimizers.Adam(lr = 0.001)\n",
    "    model.compile(loss = 'categorical_crossentropy', optimizer = adam, metrics = ['accuracy'])\n",
    "    \n",
    "    return model"
   ]
  },
  {
   "cell_type": "code",
   "execution_count": 25,
   "metadata": {},
   "outputs": [],
   "source": [
    "tf.keras.backend.clear_session()"
   ]
  },
  {
   "cell_type": "code",
   "execution_count": 26,
   "metadata": {
    "scrolled": true
   },
   "outputs": [
    {
     "name": "stdout",
     "output_type": "stream",
     "text": [
      "Model: \"sequential\"\n",
      "_________________________________________________________________\n",
      "Layer (type)                 Output Shape              Param #   \n",
      "=================================================================\n",
      "lstm (LSTM)                  (None, 49, 20)            1760      \n",
      "_________________________________________________________________\n",
      "lstm_1 (LSTM)                (None, 49, 20)            3280      \n",
      "_________________________________________________________________\n",
      "lstm_2 (LSTM)                (None, 49, 20)            3280      \n",
      "_________________________________________________________________\n",
      "lstm_3 (LSTM)                (None, 20)                3280      \n",
      "_________________________________________________________________\n",
      "dense (Dense)                (None, 46)                966       \n",
      "_________________________________________________________________\n",
      "activation (Activation)      (None, 46)                0         \n",
      "=================================================================\n",
      "Total params: 12,566\n",
      "Trainable params: 12,566\n",
      "Non-trainable params: 0\n",
      "_________________________________________________________________\n"
     ]
    }
   ],
   "source": [
    "model = deep_lstm()\n",
    "\n",
    "model.summary()"
   ]
  },
  {
   "cell_type": "code",
   "execution_count": 27,
   "metadata": {},
   "outputs": [
    {
     "name": "stdout",
     "output_type": "stream",
     "text": [
      "Train on 1116 samples, validate on 279 samples\n",
      "Epoch 1/100\n",
      "1116/1116 [==============================] - 11s 10ms/sample - loss: 3.1474 - accuracy: 0.6120 - val_loss: 2.2615 - val_accuracy: 0.7240\n",
      "Epoch 2/100\n",
      "1116/1116 [==============================] - 3s 3ms/sample - loss: 1.7604 - accuracy: 0.7124 - val_loss: 1.3313 - val_accuracy: 0.7240\n",
      "Epoch 3/100\n",
      "1116/1116 [==============================] - 3s 3ms/sample - loss: 1.3060 - accuracy: 0.7124 - val_loss: 1.1750 - val_accuracy: 0.7240\n",
      "Epoch 4/100\n",
      "1116/1116 [==============================] - 3s 3ms/sample - loss: 1.2310 - accuracy: 0.7124 - val_loss: 1.1377 - val_accuracy: 0.7240\n",
      "Epoch 5/100\n",
      "1116/1116 [==============================] - 3s 3ms/sample - loss: 1.2084 - accuracy: 0.7124 - val_loss: 1.1237 - val_accuracy: 0.7240\n",
      "Epoch 6/100\n",
      "1116/1116 [==============================] - 3s 3ms/sample - loss: 1.1974 - accuracy: 0.7124 - val_loss: 1.1165 - val_accuracy: 0.7240\n",
      "Epoch 7/100\n",
      "1116/1116 [==============================] - 3s 3ms/sample - loss: 1.1926 - accuracy: 0.7124 - val_loss: 1.1125 - val_accuracy: 0.7240\n",
      "Epoch 8/100\n",
      "1116/1116 [==============================] - 3s 3ms/sample - loss: 1.1871 - accuracy: 0.7124 - val_loss: 1.1083 - val_accuracy: 0.7240\n",
      "Epoch 9/100\n",
      "1116/1116 [==============================] - 3s 3ms/sample - loss: 1.1843 - accuracy: 0.7124 - val_loss: 1.1063 - val_accuracy: 0.7240\n",
      "Epoch 10/100\n",
      "1116/1116 [==============================] - 3s 3ms/sample - loss: 1.1817 - accuracy: 0.7124 - val_loss: 1.1043 - val_accuracy: 0.7240\n",
      "Epoch 11/100\n",
      "1116/1116 [==============================] - 3s 3ms/sample - loss: 1.1802 - accuracy: 0.7124 - val_loss: 1.1029 - val_accuracy: 0.7240\n",
      "Epoch 12/100\n",
      "1116/1116 [==============================] - 3s 3ms/sample - loss: 1.1787 - accuracy: 0.7124 - val_loss: 1.1013 - val_accuracy: 0.7240\n",
      "Epoch 13/100\n",
      "1116/1116 [==============================] - 3s 3ms/sample - loss: 1.1778 - accuracy: 0.7124 - val_loss: 1.1006 - val_accuracy: 0.7240\n",
      "Epoch 14/100\n",
      "1116/1116 [==============================] - 3s 3ms/sample - loss: 1.1766 - accuracy: 0.7124 - val_loss: 1.1017 - val_accuracy: 0.7240\n",
      "Epoch 15/100\n",
      "1116/1116 [==============================] - 3s 3ms/sample - loss: 1.1758 - accuracy: 0.7124 - val_loss: 1.1003 - val_accuracy: 0.7240\n",
      "Epoch 16/100\n",
      "1116/1116 [==============================] - 3s 3ms/sample - loss: 1.1751 - accuracy: 0.7124 - val_loss: 1.1010 - val_accuracy: 0.7240\n",
      "Epoch 17/100\n",
      "1116/1116 [==============================] - 3s 3ms/sample - loss: 1.1746 - accuracy: 0.7124 - val_loss: 1.0993 - val_accuracy: 0.7240\n",
      "Epoch 18/100\n",
      "1116/1116 [==============================] - 3s 3ms/sample - loss: 1.1744 - accuracy: 0.7124 - val_loss: 1.0995 - val_accuracy: 0.7240\n",
      "Epoch 19/100\n",
      "1116/1116 [==============================] - 3s 3ms/sample - loss: 1.1736 - accuracy: 0.7124 - val_loss: 1.0996 - val_accuracy: 0.7240\n",
      "Epoch 20/100\n",
      "1116/1116 [==============================] - 3s 3ms/sample - loss: 1.1736 - accuracy: 0.7124 - val_loss: 1.0988 - val_accuracy: 0.7240\n",
      "Epoch 21/100\n",
      "1116/1116 [==============================] - 3s 3ms/sample - loss: 1.1735 - accuracy: 0.7124 - val_loss: 1.0983 - val_accuracy: 0.7240\n",
      "Epoch 22/100\n",
      "1116/1116 [==============================] - 3s 3ms/sample - loss: 1.1742 - accuracy: 0.7124 - val_loss: 1.0996 - val_accuracy: 0.7240\n",
      "Epoch 23/100\n",
      "1116/1116 [==============================] - 3s 3ms/sample - loss: 1.1722 - accuracy: 0.7124 - val_loss: 1.0996 - val_accuracy: 0.7240\n",
      "Epoch 24/100\n",
      "1116/1116 [==============================] - 3s 3ms/sample - loss: 1.1719 - accuracy: 0.7124 - val_loss: 1.0994 - val_accuracy: 0.7240\n",
      "Epoch 25/100\n",
      "1116/1116 [==============================] - 3s 3ms/sample - loss: 1.1716 - accuracy: 0.7124 - val_loss: 1.0991 - val_accuracy: 0.7240\n",
      "Epoch 26/100\n",
      "1116/1116 [==============================] - 4s 3ms/sample - loss: 1.1712 - accuracy: 0.7124 - val_loss: 1.0983 - val_accuracy: 0.7240\n",
      "Epoch 27/100\n",
      "1116/1116 [==============================] - 3s 3ms/sample - loss: 1.1722 - accuracy: 0.7124 - val_loss: 1.0973 - val_accuracy: 0.7240\n",
      "Epoch 28/100\n",
      "1116/1116 [==============================] - 3s 3ms/sample - loss: 1.1698 - accuracy: 0.7124 - val_loss: 1.0966 - val_accuracy: 0.7240\n",
      "Epoch 29/100\n",
      "1116/1116 [==============================] - 4s 3ms/sample - loss: 1.1604 - accuracy: 0.7124 - val_loss: 1.0634 - val_accuracy: 0.7240\n",
      "Epoch 30/100\n",
      "1116/1116 [==============================] - 3s 3ms/sample - loss: 1.0814 - accuracy: 0.7097 - val_loss: 0.9619 - val_accuracy: 0.7240\n",
      "Epoch 31/100\n",
      "1116/1116 [==============================] - 3s 3ms/sample - loss: 1.0264 - accuracy: 0.7195 - val_loss: 0.9327 - val_accuracy: 0.7240\n",
      "Epoch 32/100\n",
      "1116/1116 [==============================] - 3s 3ms/sample - loss: 0.9996 - accuracy: 0.7240 - val_loss: 0.9317 - val_accuracy: 0.7348\n",
      "Epoch 33/100\n",
      "1116/1116 [==============================] - 3s 3ms/sample - loss: 1.0627 - accuracy: 0.7428 - val_loss: 0.9174 - val_accuracy: 0.7778\n",
      "Epoch 34/100\n",
      "1116/1116 [==============================] - 3s 3ms/sample - loss: 1.0793 - accuracy: 0.6783 - val_loss: 0.9640 - val_accuracy: 0.7240\n",
      "Epoch 35/100\n",
      "1116/1116 [==============================] - 3s 3ms/sample - loss: 0.9785 - accuracy: 0.7115 - val_loss: 0.8603 - val_accuracy: 0.7742\n",
      "Epoch 36/100\n",
      "1116/1116 [==============================] - 3s 3ms/sample - loss: 0.9508 - accuracy: 0.7384 - val_loss: 0.9894 - val_accuracy: 0.6989\n",
      "Epoch 37/100\n",
      "1116/1116 [==============================] - 3s 3ms/sample - loss: 0.9754 - accuracy: 0.7133 - val_loss: 0.8220 - val_accuracy: 0.7240\n",
      "Epoch 38/100\n",
      "1116/1116 [==============================] - 3s 3ms/sample - loss: 0.8726 - accuracy: 0.7760 - val_loss: 0.8100 - val_accuracy: 0.8029\n",
      "Epoch 39/100\n",
      "1116/1116 [==============================] - 3s 3ms/sample - loss: 0.8896 - accuracy: 0.7688 - val_loss: 0.8459 - val_accuracy: 0.7921\n",
      "Epoch 40/100\n",
      "1116/1116 [==============================] - 3s 3ms/sample - loss: 0.8645 - accuracy: 0.7742 - val_loss: 0.8143 - val_accuracy: 0.7993\n",
      "Epoch 41/100\n",
      "1116/1116 [==============================] - 3s 3ms/sample - loss: 0.8632 - accuracy: 0.7715 - val_loss: 0.8006 - val_accuracy: 0.8029\n",
      "Epoch 42/100\n",
      "1116/1116 [==============================] - 3s 3ms/sample - loss: 0.8439 - accuracy: 0.7841 - val_loss: 0.8022 - val_accuracy: 0.7993\n",
      "Epoch 43/100\n",
      "1116/1116 [==============================] - 3s 3ms/sample - loss: 0.8611 - accuracy: 0.7876 - val_loss: 0.8107 - val_accuracy: 0.7957\n",
      "Epoch 44/100\n",
      "1116/1116 [==============================] - 3s 3ms/sample - loss: 0.8532 - accuracy: 0.7841 - val_loss: 0.8199 - val_accuracy: 0.7993\n",
      "Epoch 45/100\n",
      "1116/1116 [==============================] - 3s 3ms/sample - loss: 0.8525 - accuracy: 0.7867 - val_loss: 0.8193 - val_accuracy: 0.7957\n",
      "Epoch 46/100\n",
      "1116/1116 [==============================] - 3s 3ms/sample - loss: 0.8372 - accuracy: 0.7867 - val_loss: 0.8229 - val_accuracy: 0.7993\n",
      "Epoch 47/100\n",
      "1116/1116 [==============================] - 3s 3ms/sample - loss: 0.8452 - accuracy: 0.7849 - val_loss: 0.7955 - val_accuracy: 0.8065\n",
      "Epoch 48/100\n",
      "1116/1116 [==============================] - 3s 3ms/sample - loss: 0.8336 - accuracy: 0.7903 - val_loss: 0.7937 - val_accuracy: 0.8100\n",
      "Epoch 49/100\n",
      "1116/1116 [==============================] - 3s 3ms/sample - loss: 0.8288 - accuracy: 0.7912 - val_loss: 0.8146 - val_accuracy: 0.8029\n",
      "Epoch 50/100\n",
      "1116/1116 [==============================] - 3s 3ms/sample - loss: 0.8260 - accuracy: 0.7948 - val_loss: 0.7901 - val_accuracy: 0.8100\n",
      "Epoch 51/100\n",
      "1116/1116 [==============================] - 3s 3ms/sample - loss: 0.8154 - accuracy: 0.7966 - val_loss: 0.7938 - val_accuracy: 0.8065\n",
      "Epoch 52/100\n",
      "1116/1116 [==============================] - 3s 3ms/sample - loss: 0.8150 - accuracy: 0.7948 - val_loss: 0.7889 - val_accuracy: 0.8100\n",
      "Epoch 53/100\n",
      "1116/1116 [==============================] - 3s 3ms/sample - loss: 0.8121 - accuracy: 0.7948 - val_loss: 0.8098 - val_accuracy: 0.7957\n",
      "Epoch 54/100\n",
      "1116/1116 [==============================] - 3s 3ms/sample - loss: 0.8287 - accuracy: 0.7876 - val_loss: 0.7996 - val_accuracy: 0.8100\n",
      "Epoch 55/100\n",
      "1116/1116 [==============================] - 3s 3ms/sample - loss: 0.8277 - accuracy: 0.7948 - val_loss: 0.7890 - val_accuracy: 0.8100\n",
      "Epoch 56/100\n"
     ]
    },
    {
     "name": "stdout",
     "output_type": "stream",
     "text": [
      "1116/1116 [==============================] - 3s 3ms/sample - loss: 0.8130 - accuracy: 0.7948 - val_loss: 0.7916 - val_accuracy: 0.8065\n",
      "Epoch 57/100\n",
      "1116/1116 [==============================] - 3s 3ms/sample - loss: 0.8161 - accuracy: 0.7948 - val_loss: 0.8039 - val_accuracy: 0.8100\n",
      "Epoch 58/100\n",
      "1116/1116 [==============================] - 3s 3ms/sample - loss: 0.8209 - accuracy: 0.7912 - val_loss: 0.7998 - val_accuracy: 0.8065\n",
      "Epoch 59/100\n",
      "1116/1116 [==============================] - 3s 3ms/sample - loss: 0.8115 - accuracy: 0.7957 - val_loss: 0.7981 - val_accuracy: 0.8100\n",
      "Epoch 60/100\n",
      "1116/1116 [==============================] - 3s 3ms/sample - loss: 0.8157 - accuracy: 0.7930 - val_loss: 0.7957 - val_accuracy: 0.8065\n",
      "Epoch 61/100\n",
      "1116/1116 [==============================] - 3s 3ms/sample - loss: 0.8264 - accuracy: 0.7885 - val_loss: 0.7915 - val_accuracy: 0.8100\n",
      "Epoch 62/100\n",
      "1116/1116 [==============================] - 3s 3ms/sample - loss: 0.8154 - accuracy: 0.7903 - val_loss: 0.7882 - val_accuracy: 0.8136\n",
      "Epoch 63/100\n",
      "1116/1116 [==============================] - 4s 3ms/sample - loss: 0.8102 - accuracy: 0.7966 - val_loss: 0.7976 - val_accuracy: 0.8065\n",
      "Epoch 64/100\n",
      "1116/1116 [==============================] - 3s 3ms/sample - loss: 0.8054 - accuracy: 0.7939 - val_loss: 0.7907 - val_accuracy: 0.8065\n",
      "Epoch 65/100\n",
      "1116/1116 [==============================] - 3s 3ms/sample - loss: 0.7996 - accuracy: 0.7957 - val_loss: 0.7900 - val_accuracy: 0.8100\n",
      "Epoch 66/100\n",
      "1116/1116 [==============================] - 3s 3ms/sample - loss: 0.7994 - accuracy: 0.7966 - val_loss: 0.7949 - val_accuracy: 0.8065\n",
      "Epoch 67/100\n",
      "1116/1116 [==============================] - 3s 3ms/sample - loss: 0.8219 - accuracy: 0.7849 - val_loss: 0.8033 - val_accuracy: 0.8029\n",
      "Epoch 68/100\n",
      "1116/1116 [==============================] - 3s 3ms/sample - loss: 0.8003 - accuracy: 0.7948 - val_loss: 0.7934 - val_accuracy: 0.8065\n",
      "Epoch 69/100\n",
      "1116/1116 [==============================] - 3s 3ms/sample - loss: 0.8125 - accuracy: 0.7912 - val_loss: 0.7916 - val_accuracy: 0.8208\n",
      "Epoch 70/100\n",
      "1116/1116 [==============================] - 3s 3ms/sample - loss: 0.8018 - accuracy: 0.7939 - val_loss: 0.7894 - val_accuracy: 0.8100\n",
      "Epoch 71/100\n",
      "1116/1116 [==============================] - 3s 3ms/sample - loss: 0.8017 - accuracy: 0.7957 - val_loss: 0.7889 - val_accuracy: 0.8065\n",
      "Epoch 72/100\n",
      "1116/1116 [==============================] - 3s 3ms/sample - loss: 0.8010 - accuracy: 0.7975 - val_loss: 0.8014 - val_accuracy: 0.8136\n",
      "Epoch 73/100\n",
      "1116/1116 [==============================] - 3s 3ms/sample - loss: 0.7951 - accuracy: 0.8011 - val_loss: 0.7900 - val_accuracy: 0.8136\n",
      "Epoch 74/100\n",
      "1116/1116 [==============================] - 3s 3ms/sample - loss: 0.7904 - accuracy: 0.7957 - val_loss: 0.7861 - val_accuracy: 0.8136\n",
      "Epoch 75/100\n",
      "1116/1116 [==============================] - 3s 3ms/sample - loss: 0.7868 - accuracy: 0.7966 - val_loss: 0.7987 - val_accuracy: 0.8065\n",
      "Epoch 76/100\n",
      "1116/1116 [==============================] - 3s 3ms/sample - loss: 0.7848 - accuracy: 0.7984 - val_loss: 0.7836 - val_accuracy: 0.8172\n",
      "Epoch 77/100\n",
      "1116/1116 [==============================] - 3s 3ms/sample - loss: 0.7878 - accuracy: 0.7957 - val_loss: 0.8053 - val_accuracy: 0.7993\n",
      "Epoch 78/100\n",
      "1116/1116 [==============================] - 3s 3ms/sample - loss: 0.7845 - accuracy: 0.8002 - val_loss: 0.7862 - val_accuracy: 0.8065\n",
      "Epoch 79/100\n",
      "1116/1116 [==============================] - 3s 3ms/sample - loss: 0.8171 - accuracy: 0.7894 - val_loss: 0.7833 - val_accuracy: 0.8100\n",
      "Epoch 80/100\n",
      "1116/1116 [==============================] - 3s 3ms/sample - loss: 0.7813 - accuracy: 0.7993 - val_loss: 0.7782 - val_accuracy: 0.8280\n",
      "Epoch 81/100\n",
      "1116/1116 [==============================] - 3s 3ms/sample - loss: 0.7809 - accuracy: 0.7975 - val_loss: 0.7814 - val_accuracy: 0.8208\n",
      "Epoch 82/100\n",
      "1116/1116 [==============================] - 3s 3ms/sample - loss: 0.7777 - accuracy: 0.8011 - val_loss: 0.7808 - val_accuracy: 0.8136\n",
      "Epoch 83/100\n",
      "1116/1116 [==============================] - 3s 3ms/sample - loss: 0.7734 - accuracy: 0.8002 - val_loss: 0.7821 - val_accuracy: 0.8208\n",
      "Epoch 84/100\n",
      "1116/1116 [==============================] - 3s 3ms/sample - loss: 0.7756 - accuracy: 0.7966 - val_loss: 0.7745 - val_accuracy: 0.8172\n",
      "Epoch 85/100\n",
      "1116/1116 [==============================] - 3s 3ms/sample - loss: 0.8082 - accuracy: 0.7948 - val_loss: 0.8339 - val_accuracy: 0.7885\n",
      "Epoch 86/100\n",
      "1116/1116 [==============================] - 3s 3ms/sample - loss: 0.8064 - accuracy: 0.7867 - val_loss: 0.7885 - val_accuracy: 0.8100\n",
      "Epoch 87/100\n",
      "1116/1116 [==============================] - 3s 3ms/sample - loss: 0.7803 - accuracy: 0.7993 - val_loss: 0.7828 - val_accuracy: 0.8208\n",
      "Epoch 88/100\n",
      "1116/1116 [==============================] - 3s 3ms/sample - loss: 0.7828 - accuracy: 0.7984 - val_loss: 0.7921 - val_accuracy: 0.8065\n",
      "Epoch 89/100\n",
      "1116/1116 [==============================] - 3s 3ms/sample - loss: 0.7716 - accuracy: 0.8011 - val_loss: 0.7808 - val_accuracy: 0.8208\n",
      "Epoch 90/100\n",
      "1116/1116 [==============================] - 3s 3ms/sample - loss: 0.7813 - accuracy: 0.7966 - val_loss: 0.7852 - val_accuracy: 0.8136\n",
      "Epoch 91/100\n",
      "1116/1116 [==============================] - 3s 3ms/sample - loss: 0.7822 - accuracy: 0.8002 - val_loss: 0.7738 - val_accuracy: 0.8208\n",
      "Epoch 92/100\n",
      "1116/1116 [==============================] - 3s 3ms/sample - loss: 0.7726 - accuracy: 0.8011 - val_loss: 0.7900 - val_accuracy: 0.8065\n",
      "Epoch 93/100\n",
      "1116/1116 [==============================] - 3s 3ms/sample - loss: 0.7826 - accuracy: 0.7975 - val_loss: 0.7777 - val_accuracy: 0.8136\n",
      "Epoch 94/100\n",
      "1116/1116 [==============================] - 3s 3ms/sample - loss: 0.7680 - accuracy: 0.8020 - val_loss: 0.7873 - val_accuracy: 0.8065\n",
      "Epoch 95/100\n",
      "1116/1116 [==============================] - 3s 3ms/sample - loss: 0.7718 - accuracy: 0.8011 - val_loss: 0.8005 - val_accuracy: 0.8100\n",
      "Epoch 96/100\n",
      "1116/1116 [==============================] - 3s 3ms/sample - loss: 0.7652 - accuracy: 0.8020 - val_loss: 0.7764 - val_accuracy: 0.8100\n",
      "Epoch 97/100\n",
      "1116/1116 [==============================] - 3s 3ms/sample - loss: 0.7633 - accuracy: 0.7984 - val_loss: 0.7960 - val_accuracy: 0.8029\n",
      "Epoch 98/100\n",
      "1116/1116 [==============================] - 3s 3ms/sample - loss: 0.7770 - accuracy: 0.7957 - val_loss: 0.7964 - val_accuracy: 0.8100\n",
      "Epoch 99/100\n",
      "1116/1116 [==============================] - 3s 3ms/sample - loss: 0.7661 - accuracy: 0.7975 - val_loss: 0.7810 - val_accuracy: 0.8244\n",
      "Epoch 100/100\n",
      "1116/1116 [==============================] - 3s 3ms/sample - loss: 0.7655 - accuracy: 0.7984 - val_loss: 0.7805 - val_accuracy: 0.8280\n"
     ]
    }
   ],
   "source": [
    "history = model.fit(X_train, y_train, verbose=1, batch_size=32, epochs=100, validation_split=0.2)"
   ]
  },
  {
   "cell_type": "code",
   "execution_count": 12,
   "metadata": {},
   "outputs": [
    {
     "data": {
      "image/png": "[encoded data removed]",
      "text/plain": [
       "<Figure size 432x288 with 1 Axes>"
      ]
     },
     "metadata": {
      "needs_background": "light"
     },
     "output_type": "display_data"
    }
   ],
   "source": [
    "plt.plot(history.history['accuracy'])\n",
    "plt.plot(history.history['val_accuracy'])\n",
    "plt.legend(['Training', 'Validation'])\n",
    "\n",
    "plt.show()"
   ]
  },
  {
   "cell_type": "code",
   "execution_count": 13,
   "metadata": {},
   "outputs": [
    {
     "data": {
      "text/plain": [
       "[0.8340369721684909, 0.7996661]"
      ]
     },
     "execution_count": 13,
     "metadata": {},
     "output_type": "execute_result"
    }
   ],
   "source": [
    "results = model.evaluate(X_test, y_test, verbose=0)\n",
    "results"
   ]
  },
  {
   "cell_type": "code",
   "execution_count": 14,
   "metadata": {},
   "outputs": [
    {
     "data": {
      "text/plain": [
       "['loss', 'accuracy']"
      ]
     },
     "execution_count": 14,
     "metadata": {},
     "output_type": "execute_result"
    }
   ],
   "source": [
    "model.metrics_names"
   ]
  },
  {
   "cell_type": "code",
   "execution_count": null,
   "metadata": {},
   "outputs": [],
   "source": []
  }
 ],
 "metadata": {
  "kernelspec": {
   "display_name": "Python 3",
   "language": "python",
   "name": "python3"
  },
  "language_info": {
   "codemirror_mode": {
    "name": "ipython",
    "version": 3
   },
   "file_extension": ".py",
   "mimetype": "text/x-python",
   "name": "python",
   "nbconvert_exporter": "python",
   "pygments_lexer": "ipython3",
   "version": "3.6.8"
  }
 },
 "nbformat": 4,
 "nbformat_minor": 2
}
